{
 "cells": [
  {
   "cell_type": "code",
   "execution_count": 1,
   "metadata": {},
   "outputs": [],
   "source": [
    "# 시각화 관련 설정\n",
    "import matplotlib.pyplot as plt\n",
    "import matplotlib.font_manager as fm\n",
    "fe = fm.FontEntry(\n",
    "    fname=r'/usr/share/fonts/truetype/nanum/NanumGothic.ttf', # ttf 파일이 저장되어 있는 경로\n",
    "    name='NanumBarunGothic')                        # 이 폰트의 원하는 이름 설정\n",
    "fm.fontManager.ttflist.insert(0, fe)              # Matplotlib에 폰트 추가\n",
    "plt.rcParams.update({'font.size': 10, 'font.family': 'NanumBarunGothic'}) # 폰트 설정\n",
    "plt.rc('font', family='NanumBarunGothic')\n",
    "import seaborn as sns\n",
    "\n",
    "# utils\n",
    "import pandas as pd\n",
    "import numpy as np\n",
    "from tqdm import tqdm\n",
    "import pickle\n",
    "import re\n",
    "\n",
    "import warnings;warnings.filterwarnings('ignore')\n",
    "\n",
    "# Modelconda info --envs\n",
    "\n",
    "from sklearn.preprocessing import LabelEncoder\n",
    "from sklearn.model_selection import train_test_split\n",
    "from sklearn.metrics import mean_squared_error\n",
    "from sklearn.ensemble import RandomForestRegressor\n",
    "from sklearn import metrics\n",
    "\n",
    "import eli5\n",
    "from eli5.sklearn import PermutationImportance\n",
    "\n",
    "pd.set_option('display.max_columns', None)  # 모든 컬럼을 표시\n",
    "pd.set_option('display.width', 800)        # 출력 창의 너비 설정"
   ]
  },
  {
   "cell_type": "code",
   "execution_count": 5,
   "metadata": {},
   "outputs": [],
   "source": [
    "df = pd.read_csv('/data/ephemeral/home/data/final_data_2.csv')"
   ]
  },
  {
   "cell_type": "code",
   "execution_count": 6,
   "metadata": {},
   "outputs": [
    {
     "data": {
      "text/html": [
       "<div>\n",
       "<style scoped>\n",
       "    .dataframe tbody tr th:only-of-type {\n",
       "        vertical-align: middle;\n",
       "    }\n",
       "\n",
       "    .dataframe tbody tr th {\n",
       "        vertical-align: top;\n",
       "    }\n",
       "\n",
       "    .dataframe thead th {\n",
       "        text-align: right;\n",
       "    }\n",
       "</style>\n",
       "<table border=\"1\" class=\"dataframe\">\n",
       "  <thead>\n",
       "    <tr style=\"text-align: right;\">\n",
       "      <th></th>\n",
       "      <th>Unnamed: 0</th>\n",
       "      <th>index</th>\n",
       "      <th>아파트명</th>\n",
       "      <th>전용면적</th>\n",
       "      <th>계약일</th>\n",
       "      <th>층_x</th>\n",
       "      <th>건축년도</th>\n",
       "      <th>도로명</th>\n",
       "      <th>target</th>\n",
       "      <th>주소</th>\n",
       "      <th>좌표X</th>\n",
       "      <th>좌표Y</th>\n",
       "      <th>is_test</th>\n",
       "      <th>station_area_0.0</th>\n",
       "      <th>station_area_1.0</th>\n",
       "      <th>실거래가격지수</th>\n",
       "      <th>면적구간</th>\n",
       "      <th>mean_price</th>\n",
       "      <th>최대층수</th>\n",
       "      <th>지하철거리</th>\n",
       "      <th>구</th>\n",
       "      <th>동</th>\n",
       "      <th>계약년</th>\n",
       "      <th>계약월</th>\n",
       "      <th>아파트</th>\n",
       "      <th>도로</th>\n",
       "      <th>강남여부</th>\n",
       "      <th>신축여부</th>\n",
       "      <th>타겟_평균(동)</th>\n",
       "      <th>타겟_면적당_비율(동)</th>\n",
       "      <th>타겟_평균(구)</th>\n",
       "      <th>타겟_면적당_비율(구)</th>\n",
       "    </tr>\n",
       "  </thead>\n",
       "  <tbody>\n",
       "    <tr>\n",
       "      <th>0</th>\n",
       "      <td>0</td>\n",
       "      <td>0</td>\n",
       "      <td>개포6차우성</td>\n",
       "      <td>79.97</td>\n",
       "      <td>8</td>\n",
       "      <td>3</td>\n",
       "      <td>1987</td>\n",
       "      <td>언주로 3</td>\n",
       "      <td>124000.0</td>\n",
       "      <td>서울특별시 강남구 개포동언주로 3</td>\n",
       "      <td>127.055926</td>\n",
       "      <td>37.476792</td>\n",
       "      <td>0</td>\n",
       "      <td>True</td>\n",
       "      <td>False</td>\n",
       "      <td>100.509309</td>\n",
       "      <td>3</td>\n",
       "      <td>84221.72770</td>\n",
       "      <td>5</td>\n",
       "      <td>1146.684379</td>\n",
       "      <td>강남구</td>\n",
       "      <td>개포동</td>\n",
       "      <td>2017</td>\n",
       "      <td>12</td>\n",
       "      <td>우성</td>\n",
       "      <td>언주로</td>\n",
       "      <td>1</td>\n",
       "      <td>0</td>\n",
       "      <td>94137.690121</td>\n",
       "      <td>1619.672852</td>\n",
       "      <td>115510.603705</td>\n",
       "      <td>1348.908249</td>\n",
       "    </tr>\n",
       "    <tr>\n",
       "      <th>1</th>\n",
       "      <td>1</td>\n",
       "      <td>1</td>\n",
       "      <td>개포6차우성</td>\n",
       "      <td>79.97</td>\n",
       "      <td>22</td>\n",
       "      <td>4</td>\n",
       "      <td>1987</td>\n",
       "      <td>언주로 3</td>\n",
       "      <td>123500.0</td>\n",
       "      <td>서울특별시 강남구 개포동언주로 3</td>\n",
       "      <td>127.055926</td>\n",
       "      <td>37.476792</td>\n",
       "      <td>0</td>\n",
       "      <td>True</td>\n",
       "      <td>False</td>\n",
       "      <td>100.509309</td>\n",
       "      <td>3</td>\n",
       "      <td>84221.72770</td>\n",
       "      <td>5</td>\n",
       "      <td>1146.684379</td>\n",
       "      <td>강남구</td>\n",
       "      <td>개포동</td>\n",
       "      <td>2017</td>\n",
       "      <td>12</td>\n",
       "      <td>우성</td>\n",
       "      <td>언주로</td>\n",
       "      <td>1</td>\n",
       "      <td>0</td>\n",
       "      <td>94137.690121</td>\n",
       "      <td>1619.672852</td>\n",
       "      <td>115510.603705</td>\n",
       "      <td>1348.908249</td>\n",
       "    </tr>\n",
       "    <tr>\n",
       "      <th>2</th>\n",
       "      <td>2</td>\n",
       "      <td>2</td>\n",
       "      <td>개포6차우성</td>\n",
       "      <td>54.98</td>\n",
       "      <td>28</td>\n",
       "      <td>5</td>\n",
       "      <td>1987</td>\n",
       "      <td>언주로 3</td>\n",
       "      <td>91500.0</td>\n",
       "      <td>서울특별시 강남구 개포동언주로 3</td>\n",
       "      <td>127.055926</td>\n",
       "      <td>37.476792</td>\n",
       "      <td>0</td>\n",
       "      <td>True</td>\n",
       "      <td>False</td>\n",
       "      <td>100.509309</td>\n",
       "      <td>2</td>\n",
       "      <td>86921.56087</td>\n",
       "      <td>5</td>\n",
       "      <td>1146.684379</td>\n",
       "      <td>강남구</td>\n",
       "      <td>개포동</td>\n",
       "      <td>2017</td>\n",
       "      <td>12</td>\n",
       "      <td>우성</td>\n",
       "      <td>언주로</td>\n",
       "      <td>1</td>\n",
       "      <td>0</td>\n",
       "      <td>94137.690121</td>\n",
       "      <td>1619.672852</td>\n",
       "      <td>115510.603705</td>\n",
       "      <td>1348.908249</td>\n",
       "    </tr>\n",
       "    <tr>\n",
       "      <th>3</th>\n",
       "      <td>3</td>\n",
       "      <td>3</td>\n",
       "      <td>개포6차우성</td>\n",
       "      <td>79.97</td>\n",
       "      <td>3</td>\n",
       "      <td>4</td>\n",
       "      <td>1987</td>\n",
       "      <td>언주로 3</td>\n",
       "      <td>130000.0</td>\n",
       "      <td>서울특별시 강남구 개포동언주로 3</td>\n",
       "      <td>127.055926</td>\n",
       "      <td>37.476792</td>\n",
       "      <td>0</td>\n",
       "      <td>True</td>\n",
       "      <td>False</td>\n",
       "      <td>102.018069</td>\n",
       "      <td>3</td>\n",
       "      <td>81495.96440</td>\n",
       "      <td>5</td>\n",
       "      <td>1146.684379</td>\n",
       "      <td>강남구</td>\n",
       "      <td>개포동</td>\n",
       "      <td>2018</td>\n",
       "      <td>1</td>\n",
       "      <td>우성</td>\n",
       "      <td>언주로</td>\n",
       "      <td>1</td>\n",
       "      <td>0</td>\n",
       "      <td>94137.690121</td>\n",
       "      <td>1619.672852</td>\n",
       "      <td>115510.603705</td>\n",
       "      <td>1348.908249</td>\n",
       "    </tr>\n",
       "    <tr>\n",
       "      <th>4</th>\n",
       "      <td>4</td>\n",
       "      <td>4</td>\n",
       "      <td>개포6차우성</td>\n",
       "      <td>79.97</td>\n",
       "      <td>8</td>\n",
       "      <td>2</td>\n",
       "      <td>1987</td>\n",
       "      <td>언주로 3</td>\n",
       "      <td>117000.0</td>\n",
       "      <td>서울특별시 강남구 개포동언주로 3</td>\n",
       "      <td>127.055926</td>\n",
       "      <td>37.476792</td>\n",
       "      <td>0</td>\n",
       "      <td>True</td>\n",
       "      <td>False</td>\n",
       "      <td>102.018069</td>\n",
       "      <td>3</td>\n",
       "      <td>81495.96440</td>\n",
       "      <td>5</td>\n",
       "      <td>1146.684379</td>\n",
       "      <td>강남구</td>\n",
       "      <td>개포동</td>\n",
       "      <td>2018</td>\n",
       "      <td>1</td>\n",
       "      <td>우성</td>\n",
       "      <td>언주로</td>\n",
       "      <td>1</td>\n",
       "      <td>0</td>\n",
       "      <td>94137.690121</td>\n",
       "      <td>1619.672852</td>\n",
       "      <td>115510.603705</td>\n",
       "      <td>1348.908249</td>\n",
       "    </tr>\n",
       "    <tr>\n",
       "      <th>...</th>\n",
       "      <td>...</td>\n",
       "      <td>...</td>\n",
       "      <td>...</td>\n",
       "      <td>...</td>\n",
       "      <td>...</td>\n",
       "      <td>...</td>\n",
       "      <td>...</td>\n",
       "      <td>...</td>\n",
       "      <td>...</td>\n",
       "      <td>...</td>\n",
       "      <td>...</td>\n",
       "      <td>...</td>\n",
       "      <td>...</td>\n",
       "      <td>...</td>\n",
       "      <td>...</td>\n",
       "      <td>...</td>\n",
       "      <td>...</td>\n",
       "      <td>...</td>\n",
       "      <td>...</td>\n",
       "      <td>...</td>\n",
       "      <td>...</td>\n",
       "      <td>...</td>\n",
       "      <td>...</td>\n",
       "      <td>...</td>\n",
       "      <td>...</td>\n",
       "      <td>...</td>\n",
       "      <td>...</td>\n",
       "      <td>...</td>\n",
       "      <td>...</td>\n",
       "      <td>...</td>\n",
       "      <td>...</td>\n",
       "      <td>...</td>\n",
       "    </tr>\n",
       "    <tr>\n",
       "      <th>1101124</th>\n",
       "      <td>1101124</td>\n",
       "      <td>1128089</td>\n",
       "      <td>신내우디안1단지</td>\n",
       "      <td>84.65</td>\n",
       "      <td>19</td>\n",
       "      <td>13</td>\n",
       "      <td>2014</td>\n",
       "      <td>신내역로1길 85</td>\n",
       "      <td>NaN</td>\n",
       "      <td>서울특별시 중랑구 신내동신내역로1길 85</td>\n",
       "      <td>127.106294</td>\n",
       "      <td>37.616809</td>\n",
       "      <td>1</td>\n",
       "      <td>True</td>\n",
       "      <td>False</td>\n",
       "      <td>149.558671</td>\n",
       "      <td>3</td>\n",
       "      <td>142245.25160</td>\n",
       "      <td>24</td>\n",
       "      <td>513.411363</td>\n",
       "      <td>중랑구</td>\n",
       "      <td>신내동</td>\n",
       "      <td>2023</td>\n",
       "      <td>7</td>\n",
       "      <td>우디안</td>\n",
       "      <td>신내역로</td>\n",
       "      <td>0</td>\n",
       "      <td>1</td>\n",
       "      <td>32589.367973</td>\n",
       "      <td>473.226446</td>\n",
       "      <td>35181.255378</td>\n",
       "      <td>496.900289</td>\n",
       "    </tr>\n",
       "    <tr>\n",
       "      <th>1101125</th>\n",
       "      <td>1101125</td>\n",
       "      <td>1128090</td>\n",
       "      <td>신내우디안1단지</td>\n",
       "      <td>84.62</td>\n",
       "      <td>25</td>\n",
       "      <td>12</td>\n",
       "      <td>2014</td>\n",
       "      <td>신내역로1길 85</td>\n",
       "      <td>NaN</td>\n",
       "      <td>서울특별시 중랑구 신내동신내역로1길 85</td>\n",
       "      <td>127.106294</td>\n",
       "      <td>37.616809</td>\n",
       "      <td>1</td>\n",
       "      <td>True</td>\n",
       "      <td>False</td>\n",
       "      <td>149.558671</td>\n",
       "      <td>3</td>\n",
       "      <td>142245.25160</td>\n",
       "      <td>24</td>\n",
       "      <td>513.411363</td>\n",
       "      <td>중랑구</td>\n",
       "      <td>신내동</td>\n",
       "      <td>2023</td>\n",
       "      <td>7</td>\n",
       "      <td>우디안</td>\n",
       "      <td>신내역로</td>\n",
       "      <td>0</td>\n",
       "      <td>1</td>\n",
       "      <td>32589.367973</td>\n",
       "      <td>473.226446</td>\n",
       "      <td>35181.255378</td>\n",
       "      <td>496.900289</td>\n",
       "    </tr>\n",
       "    <tr>\n",
       "      <th>1101126</th>\n",
       "      <td>1101126</td>\n",
       "      <td>1128091</td>\n",
       "      <td>신내우디안1단지</td>\n",
       "      <td>101.65</td>\n",
       "      <td>27</td>\n",
       "      <td>12</td>\n",
       "      <td>2014</td>\n",
       "      <td>신내역로1길 85</td>\n",
       "      <td>NaN</td>\n",
       "      <td>서울특별시 중랑구 신내동신내역로1길 85</td>\n",
       "      <td>127.106294</td>\n",
       "      <td>37.616809</td>\n",
       "      <td>1</td>\n",
       "      <td>True</td>\n",
       "      <td>False</td>\n",
       "      <td>151.239970</td>\n",
       "      <td>4</td>\n",
       "      <td>150760.99940</td>\n",
       "      <td>24</td>\n",
       "      <td>513.411363</td>\n",
       "      <td>중랑구</td>\n",
       "      <td>신내동</td>\n",
       "      <td>2023</td>\n",
       "      <td>8</td>\n",
       "      <td>우디안</td>\n",
       "      <td>신내역로</td>\n",
       "      <td>0</td>\n",
       "      <td>1</td>\n",
       "      <td>32589.367973</td>\n",
       "      <td>473.226446</td>\n",
       "      <td>35181.255378</td>\n",
       "      <td>496.900289</td>\n",
       "    </tr>\n",
       "    <tr>\n",
       "      <th>1101127</th>\n",
       "      <td>1101127</td>\n",
       "      <td>1128092</td>\n",
       "      <td>신내우디안1단지</td>\n",
       "      <td>84.94</td>\n",
       "      <td>2</td>\n",
       "      <td>18</td>\n",
       "      <td>2014</td>\n",
       "      <td>신내역로1길 85</td>\n",
       "      <td>NaN</td>\n",
       "      <td>서울특별시 중랑구 신내동신내역로1길 85</td>\n",
       "      <td>127.106294</td>\n",
       "      <td>37.616809</td>\n",
       "      <td>1</td>\n",
       "      <td>True</td>\n",
       "      <td>False</td>\n",
       "      <td>152.163334</td>\n",
       "      <td>3</td>\n",
       "      <td>141016.70400</td>\n",
       "      <td>24</td>\n",
       "      <td>513.411363</td>\n",
       "      <td>중랑구</td>\n",
       "      <td>신내동</td>\n",
       "      <td>2023</td>\n",
       "      <td>9</td>\n",
       "      <td>우디안</td>\n",
       "      <td>신내역로</td>\n",
       "      <td>0</td>\n",
       "      <td>1</td>\n",
       "      <td>32589.367973</td>\n",
       "      <td>473.226446</td>\n",
       "      <td>35181.255378</td>\n",
       "      <td>496.900289</td>\n",
       "    </tr>\n",
       "    <tr>\n",
       "      <th>1101128</th>\n",
       "      <td>1101128</td>\n",
       "      <td>1128093</td>\n",
       "      <td>신내우디안1단지</td>\n",
       "      <td>84.65</td>\n",
       "      <td>4</td>\n",
       "      <td>13</td>\n",
       "      <td>2014</td>\n",
       "      <td>신내역로1길 85</td>\n",
       "      <td>NaN</td>\n",
       "      <td>서울특별시 중랑구 신내동신내역로1길 85</td>\n",
       "      <td>127.106294</td>\n",
       "      <td>37.616809</td>\n",
       "      <td>1</td>\n",
       "      <td>True</td>\n",
       "      <td>False</td>\n",
       "      <td>152.163334</td>\n",
       "      <td>3</td>\n",
       "      <td>141016.70400</td>\n",
       "      <td>24</td>\n",
       "      <td>513.411363</td>\n",
       "      <td>중랑구</td>\n",
       "      <td>신내동</td>\n",
       "      <td>2023</td>\n",
       "      <td>9</td>\n",
       "      <td>우디안</td>\n",
       "      <td>신내역로</td>\n",
       "      <td>0</td>\n",
       "      <td>1</td>\n",
       "      <td>32589.367973</td>\n",
       "      <td>473.226446</td>\n",
       "      <td>35181.255378</td>\n",
       "      <td>496.900289</td>\n",
       "    </tr>\n",
       "  </tbody>\n",
       "</table>\n",
       "<p>1101129 rows × 32 columns</p>\n",
       "</div>"
      ],
      "text/plain": [
       "         Unnamed: 0    index      아파트명    전용면적  계약일  층_x  건축년도        도로명    target                      주소         좌표X        좌표Y  is_test  station_area_0.0  station_area_1.0     실거래가격지수  면적구간    mean_price  최대층수        지하철거리    구    동   계약년  계약월  아파트    도로  강남여부  신축여부      타겟_평균(동)  타겟_면적당_비율(동)       타겟_평균(구)  타겟_면적당_비율(구)\n",
       "0                 0        0    개포6차우성   79.97    8    3  1987      언주로 3  124000.0      서울특별시 강남구 개포동언주로 3  127.055926  37.476792        0              True             False  100.509309     3   84221.72770     5  1146.684379  강남구  개포동  2017   12   우성   언주로     1     0  94137.690121   1619.672852  115510.603705   1348.908249\n",
       "1                 1        1    개포6차우성   79.97   22    4  1987      언주로 3  123500.0      서울특별시 강남구 개포동언주로 3  127.055926  37.476792        0              True             False  100.509309     3   84221.72770     5  1146.684379  강남구  개포동  2017   12   우성   언주로     1     0  94137.690121   1619.672852  115510.603705   1348.908249\n",
       "2                 2        2    개포6차우성   54.98   28    5  1987      언주로 3   91500.0      서울특별시 강남구 개포동언주로 3  127.055926  37.476792        0              True             False  100.509309     2   86921.56087     5  1146.684379  강남구  개포동  2017   12   우성   언주로     1     0  94137.690121   1619.672852  115510.603705   1348.908249\n",
       "3                 3        3    개포6차우성   79.97    3    4  1987      언주로 3  130000.0      서울특별시 강남구 개포동언주로 3  127.055926  37.476792        0              True             False  102.018069     3   81495.96440     5  1146.684379  강남구  개포동  2018    1   우성   언주로     1     0  94137.690121   1619.672852  115510.603705   1348.908249\n",
       "4                 4        4    개포6차우성   79.97    8    2  1987      언주로 3  117000.0      서울특별시 강남구 개포동언주로 3  127.055926  37.476792        0              True             False  102.018069     3   81495.96440     5  1146.684379  강남구  개포동  2018    1   우성   언주로     1     0  94137.690121   1619.672852  115510.603705   1348.908249\n",
       "...             ...      ...       ...     ...  ...  ...   ...        ...       ...                     ...         ...        ...      ...               ...               ...         ...   ...           ...   ...          ...  ...  ...   ...  ...  ...   ...   ...   ...           ...           ...            ...           ...\n",
       "1101124     1101124  1128089  신내우디안1단지   84.65   19   13  2014  신내역로1길 85       NaN  서울특별시 중랑구 신내동신내역로1길 85  127.106294  37.616809        1              True             False  149.558671     3  142245.25160    24   513.411363  중랑구  신내동  2023    7  우디안  신내역로     0     1  32589.367973    473.226446   35181.255378    496.900289\n",
       "1101125     1101125  1128090  신내우디안1단지   84.62   25   12  2014  신내역로1길 85       NaN  서울특별시 중랑구 신내동신내역로1길 85  127.106294  37.616809        1              True             False  149.558671     3  142245.25160    24   513.411363  중랑구  신내동  2023    7  우디안  신내역로     0     1  32589.367973    473.226446   35181.255378    496.900289\n",
       "1101126     1101126  1128091  신내우디안1단지  101.65   27   12  2014  신내역로1길 85       NaN  서울특별시 중랑구 신내동신내역로1길 85  127.106294  37.616809        1              True             False  151.239970     4  150760.99940    24   513.411363  중랑구  신내동  2023    8  우디안  신내역로     0     1  32589.367973    473.226446   35181.255378    496.900289\n",
       "1101127     1101127  1128092  신내우디안1단지   84.94    2   18  2014  신내역로1길 85       NaN  서울특별시 중랑구 신내동신내역로1길 85  127.106294  37.616809        1              True             False  152.163334     3  141016.70400    24   513.411363  중랑구  신내동  2023    9  우디안  신내역로     0     1  32589.367973    473.226446   35181.255378    496.900289\n",
       "1101128     1101128  1128093  신내우디안1단지   84.65    4   13  2014  신내역로1길 85       NaN  서울특별시 중랑구 신내동신내역로1길 85  127.106294  37.616809        1              True             False  152.163334     3  141016.70400    24   513.411363  중랑구  신내동  2023    9  우디안  신내역로     0     1  32589.367973    473.226446   35181.255378    496.900289\n",
       "\n",
       "[1101129 rows x 32 columns]"
      ]
     },
     "execution_count": 6,
     "metadata": {},
     "output_type": "execute_result"
    }
   ],
   "source": [
    "df"
   ]
  },
  {
   "cell_type": "code",
   "execution_count": 7,
   "metadata": {},
   "outputs": [
    {
     "data": {
      "image/png": "[encoded data removed]",
      "text/plain": [
       "<Figure size 1300x200 with 1 Axes>"
      ]
     },
     "metadata": {},
     "output_type": "display_data"
    }
   ],
   "source": [
    "fig = plt.figure(figsize=(13, 2))\n",
    "missing = df.isnull().sum() / df.shape[0]\n",
    "missing = missing[missing > 0]\n",
    "missing.sort_values(inplace=True)\n",
    "missing.plot.bar(color='orange')\n",
    "plt.title('변수별 결측치 비율')\n",
    "plt.show()"
   ]
  },
  {
   "cell_type": "markdown",
   "metadata": {},
   "source": [
    "- target과 test 분류\n",
    "- 아파트 제거\n",
    "- 모델 돌리기"
   ]
  },
  {
   "cell_type": "code",
   "execution_count": 8,
   "metadata": {},
   "outputs": [
    {
     "name": "stdout",
     "output_type": "stream",
     "text": [
      "Index(['Unnamed: 0', 'index', '아파트명', '전용면적', '계약일', '층_x', '건축년도', '도로명', 'target', '주소', '좌표X', '좌표Y', 'is_test', 'station_area_0.0', 'station_area_1.0', '실거래가격지수', '면적구간', 'mean_price', '최대층수', '지하철거리', '구', '동', '계약년', '계약월', '아파트', '도로', '강남여부', '신축여부', '타겟_평균(동)', '타겟_면적당_비율(동)', '타겟_평균(구)', '타겟_면적당_비율(구)'], dtype='object')\n"
     ]
    }
   ],
   "source": [
    "print(df.columns)"
   ]
  },
  {
   "cell_type": "code",
   "execution_count": 10,
   "metadata": {},
   "outputs": [],
   "source": [
    "df.drop(columns='Unnamed: 0', inplace=True)"
   ]
  },
  {
   "cell_type": "code",
   "execution_count": 11,
   "metadata": {},
   "outputs": [],
   "source": [
    "df = df.drop('아파트', axis=1)"
   ]
  },
  {
   "cell_type": "code",
   "execution_count": 12,
   "metadata": {},
   "outputs": [
    {
     "data": {
      "image/png": "[encoded data removed]",
      "text/plain": [
       "<Figure size 1300x200 with 1 Axes>"
      ]
     },
     "metadata": {},
     "output_type": "display_data"
    }
   ],
   "source": [
    "fig = plt.figure(figsize=(13, 2))\n",
    "missing = df.isnull().sum() / df.shape[0]\n",
    "missing = missing[missing > 0]\n",
    "missing.sort_values(inplace=True)\n",
    "missing.plot.bar(color='orange')\n",
    "plt.title('변수별 결측치 비율')\n",
    "plt.show()"
   ]
  },
  {
   "cell_type": "code",
   "execution_count": 13,
   "metadata": {},
   "outputs": [
    {
     "data": {
      "text/plain": [
       "0    1091857\n",
       "1       9272\n",
       "Name: is_test, dtype: int64"
      ]
     },
     "execution_count": 13,
     "metadata": {},
     "output_type": "execute_result"
    }
   ],
   "source": [
    "df['is_test'].value_counts()"
   ]
  },
  {
   "cell_type": "code",
   "execution_count": 14,
   "metadata": {},
   "outputs": [],
   "source": [
    "df[['아파트명', '도로명', '주소', '구', '동', '도로']] = df[['아파트명', '도로명', '주소', '구', '동', '도로']].astype(str)"
   ]
  },
  {
   "cell_type": "code",
   "execution_count": 12,
   "metadata": {},
   "outputs": [
    {
     "name": "stdout",
     "output_type": "stream",
     "text": [
      "노원구\n",
      "(114864, 26)\n"
     ]
    },
    {
     "name": "stderr",
     "output_type": "stream",
     "text": [
      "100%|██████████| 6/6 [00:00<00:00, 44.59it/s]\n"
     ]
    },
    {
     "name": "stdout",
     "output_type": "stream",
     "text": [
      "0:\tlearn: 16011.3406090\ttest: 16257.0434546\tbest: 16257.0434546 (0)\ttotal: 11.3ms\tremaining: 7.93s\n",
      "100:\tlearn: 2406.6182539\ttest: 2501.7811585\tbest: 2501.7811585 (100)\ttotal: 1.01s\tremaining: 6.02s\n",
      "200:\tlearn: 1997.2700702\ttest: 2202.1216303\tbest: 2202.1216303 (200)\ttotal: 2.01s\tremaining: 4.98s\n",
      "300:\tlearn: 1824.2377998\ttest: 2116.8050791\tbest: 2116.8050791 (300)\ttotal: 2.98s\tremaining: 3.95s\n",
      "400:\tlearn: 1713.9816576\ttest: 2079.4899132\tbest: 2079.4899132 (400)\ttotal: 3.99s\tremaining: 2.97s\n",
      "500:\tlearn: 1627.0925576\ttest: 2057.7910231\tbest: 2057.6607196 (499)\ttotal: 5s\tremaining: 1.98s\n",
      "600:\tlearn: 1557.0972643\ttest: 2045.0401075\tbest: 2044.9284960 (598)\ttotal: 5.98s\tremaining: 986ms\n",
      "699:\tlearn: 1495.4228447\ttest: 2039.2644260\tbest: 2039.1081793 (697)\ttotal: 6.98s\tremaining: 0us\n",
      "\n",
      "bestTest = 2039.108179\n",
      "bestIteration = 697\n",
      "\n",
      "Shrink model to first 698 iterations.\n",
      "송파구\n",
      "(72102, 26)\n"
     ]
    },
    {
     "name": "stderr",
     "output_type": "stream",
     "text": [
      "100%|██████████| 6/6 [00:00<00:00, 81.77it/s]\n"
     ]
    },
    {
     "name": "stdout",
     "output_type": "stream",
     "text": [
      "0:\tlearn: 43937.1542770\ttest: 43768.0802855\tbest: 43768.0802855 (0)\ttotal: 10.2ms\tremaining: 7.14s\n",
      "100:\tlearn: 6593.8854651\ttest: 7159.2535975\tbest: 7159.2535975 (100)\ttotal: 868ms\tremaining: 5.15s\n",
      "200:\tlearn: 5432.2235605\ttest: 6320.1927312\tbest: 6320.1927312 (200)\ttotal: 1.71s\tremaining: 4.24s\n",
      "300:\tlearn: 4826.4920874\ttest: 6012.9535377\tbest: 6012.9535377 (300)\ttotal: 2.54s\tremaining: 3.37s\n",
      "400:\tlearn: 4436.5458852\ttest: 5889.7626108\tbest: 5888.8953600 (398)\ttotal: 3.38s\tremaining: 2.52s\n",
      "500:\tlearn: 4157.0464639\ttest: 5817.2622321\tbest: 5817.2622321 (500)\ttotal: 4.23s\tremaining: 1.68s\n",
      "600:\tlearn: 3923.5190842\ttest: 5767.8580322\tbest: 5767.8580322 (600)\ttotal: 5.09s\tremaining: 839ms\n",
      "699:\tlearn: 3731.5026329\ttest: 5737.5283358\tbest: 5736.9712347 (695)\ttotal: 5.93s\tremaining: 0us\n",
      "\n",
      "bestTest = 5736.971235\n",
      "bestIteration = 695\n",
      "\n",
      "Shrink model to first 696 iterations.\n",
      "강남구\n",
      "(65941, 26)\n"
     ]
    },
    {
     "name": "stderr",
     "output_type": "stream",
     "text": [
      "100%|██████████| 6/6 [00:00<00:00, 85.00it/s]\n"
     ]
    },
    {
     "name": "stdout",
     "output_type": "stream",
     "text": [
      "0:\tlearn: 73449.2865201\ttest: 74428.8984998\tbest: 74428.8984998 (0)\ttotal: 10.9ms\tremaining: 7.63s\n",
      "100:\tlearn: 12808.7636451\ttest: 15020.3589822\tbest: 15020.3589822 (100)\ttotal: 828ms\tremaining: 4.91s\n",
      "200:\tlearn: 10229.7598986\ttest: 13387.1662857\tbest: 13387.1662857 (200)\ttotal: 1.68s\tremaining: 4.16s\n",
      "300:\tlearn: 8996.4786052\ttest: 12797.1888369\tbest: 12797.1888369 (300)\ttotal: 2.52s\tremaining: 3.34s\n",
      "400:\tlearn: 8186.2140945\ttest: 12527.2973641\tbest: 12527.2973641 (400)\ttotal: 3.33s\tremaining: 2.49s\n",
      "500:\tlearn: 7543.1624168\ttest: 12322.6646237\tbest: 12322.6646237 (500)\ttotal: 4.16s\tremaining: 1.65s\n",
      "600:\tlearn: 7074.8097755\ttest: 12226.6982932\tbest: 12224.9753278 (599)\ttotal: 5s\tremaining: 824ms\n",
      "699:\tlearn: 6673.1160293\ttest: 12133.7404527\tbest: 12133.7404527 (699)\ttotal: 5.83s\tremaining: 0us\n",
      "\n",
      "bestTest = 12133.74045\n",
      "bestIteration = 699\n",
      "\n",
      "강서구\n",
      "(65192, 26)\n"
     ]
    },
    {
     "name": "stderr",
     "output_type": "stream",
     "text": [
      "100%|██████████| 6/6 [00:00<00:00, 86.41it/s]\n"
     ]
    },
    {
     "name": "stdout",
     "output_type": "stream",
     "text": [
      "0:\tlearn: 22128.3452618\ttest: 21708.4753077\tbest: 21708.4753077 (0)\ttotal: 10.6ms\tremaining: 7.43s\n",
      "100:\tlearn: 3244.1483303\ttest: 3576.8493435\tbest: 3576.8493435 (100)\ttotal: 828ms\tremaining: 4.91s\n",
      "200:\tlearn: 2643.2363965\ttest: 3167.8258681\tbest: 3167.7109341 (199)\ttotal: 1.64s\tremaining: 4.07s\n",
      "300:\tlearn: 2363.3790216\ttest: 3037.4393266\tbest: 3037.4393266 (300)\ttotal: 2.45s\tremaining: 3.25s\n",
      "400:\tlearn: 2180.2312898\ttest: 2987.8557112\tbest: 2987.8557112 (400)\ttotal: 3.3s\tremaining: 2.46s\n",
      "500:\tlearn: 2035.8894274\ttest: 2953.9793007\tbest: 2953.9793007 (500)\ttotal: 4.13s\tremaining: 1.64s\n",
      "600:\tlearn: 1921.3096770\ttest: 2930.1485282\tbest: 2930.1485282 (600)\ttotal: 4.99s\tremaining: 822ms\n",
      "699:\tlearn: 1822.2554832\ttest: 2918.1865645\tbest: 2917.9397903 (698)\ttotal: 5.8s\tremaining: 0us\n",
      "\n",
      "bestTest = 2917.93979\n",
      "bestIteration = 698\n",
      "\n",
      "Shrink model to first 699 iterations.\n",
      "구로구\n",
      "(57612, 26)\n"
     ]
    },
    {
     "name": "stderr",
     "output_type": "stream",
     "text": [
      "100%|██████████| 6/6 [00:00<00:00, 93.14it/s]\n"
     ]
    },
    {
     "name": "stdout",
     "output_type": "stream",
     "text": [
      "0:\tlearn: 18311.6892977\ttest: 18408.0322466\tbest: 18408.0322466 (0)\ttotal: 10.7ms\tremaining: 7.45s\n",
      "100:\tlearn: 2840.6348194\ttest: 3173.7909935\tbest: 3173.7909935 (100)\ttotal: 839ms\tremaining: 4.98s\n",
      "200:\tlearn: 2255.8213411\ttest: 2736.0644513\tbest: 2736.0644513 (200)\ttotal: 1.64s\tremaining: 4.07s\n",
      "300:\tlearn: 1997.1000078\ttest: 2598.2780716\tbest: 2598.2780716 (300)\ttotal: 2.44s\tremaining: 3.24s\n",
      "400:\tlearn: 1837.1027356\ttest: 2537.5953138\tbest: 2537.5816772 (399)\ttotal: 3.23s\tremaining: 2.4s\n",
      "500:\tlearn: 1710.6265282\ttest: 2500.3870359\tbest: 2500.3870359 (500)\ttotal: 4.03s\tremaining: 1.6s\n",
      "600:\tlearn: 1602.7936979\ttest: 2475.9928652\tbest: 2475.8182823 (599)\ttotal: 4.88s\tremaining: 805ms\n",
      "699:\tlearn: 1513.5161121\ttest: 2462.1960000\tbest: 2462.1960000 (699)\ttotal: 5.69s\tremaining: 0us\n",
      "\n",
      "bestTest = 2462.196\n",
      "bestIteration = 699\n",
      "\n",
      "성북구\n",
      "(56733, 26)\n"
     ]
    },
    {
     "name": "stderr",
     "output_type": "stream",
     "text": [
      "100%|██████████| 6/6 [00:00<00:00, 101.76it/s]\n"
     ]
    },
    {
     "name": "stdout",
     "output_type": "stream",
     "text": [
      "0:\tlearn: 18319.2817868\ttest: 18174.6603938\tbest: 18174.6603938 (0)\ttotal: 9.91ms\tremaining: 6.93s\n",
      "100:\tlearn: 2799.8891173\ttest: 3137.2130748\tbest: 3137.2130748 (100)\ttotal: 764ms\tremaining: 4.53s\n",
      "200:\tlearn: 2331.9090255\ttest: 2840.0450548\tbest: 2840.0450548 (200)\ttotal: 1.51s\tremaining: 3.76s\n",
      "300:\tlearn: 2096.7746812\ttest: 2760.9167433\tbest: 2760.9167433 (300)\ttotal: 2.3s\tremaining: 3.04s\n",
      "400:\tlearn: 1931.8327970\ttest: 2719.8888084\tbest: 2719.8888084 (400)\ttotal: 3.06s\tremaining: 2.28s\n",
      "500:\tlearn: 1819.3852127\ttest: 2702.6843291\tbest: 2702.5012190 (499)\ttotal: 3.8s\tremaining: 1.51s\n",
      "600:\tlearn: 1721.1042500\ttest: 2694.9348626\tbest: 2693.5232782 (582)\ttotal: 4.55s\tremaining: 750ms\n",
      "699:\tlearn: 1633.0739316\ttest: 2689.9349676\tbest: 2688.7337455 (684)\ttotal: 5.3s\tremaining: 0us\n",
      "\n",
      "bestTest = 2688.733746\n",
      "bestIteration = 684\n",
      "\n",
      "Shrink model to first 685 iterations.\n",
      "양천구\n",
      "(54106, 26)\n"
     ]
    },
    {
     "name": "stderr",
     "output_type": "stream",
     "text": [
      "100%|██████████| 6/6 [00:00<00:00, 101.55it/s]\n"
     ]
    },
    {
     "name": "stdout",
     "output_type": "stream",
     "text": [
      "0:\tlearn: 34647.9938580\ttest: 34817.3899186\tbest: 34817.3899186 (0)\ttotal: 9.79ms\tremaining: 6.84s\n",
      "100:\tlearn: 4718.2154542\ttest: 5270.0077261\tbest: 5270.0077261 (100)\ttotal: 789ms\tremaining: 4.68s\n",
      "200:\tlearn: 3702.2942058\ttest: 4563.8849880\tbest: 4563.8849880 (200)\ttotal: 1.58s\tremaining: 3.93s\n",
      "300:\tlearn: 3252.2875608\ttest: 4354.2756848\tbest: 4354.2756848 (300)\ttotal: 2.36s\tremaining: 3.13s\n",
      "400:\tlearn: 2955.1201310\ttest: 4277.6165035\tbest: 4277.6165035 (400)\ttotal: 3.14s\tremaining: 2.34s\n",
      "500:\tlearn: 2731.0724771\ttest: 4238.4267688\tbest: 4238.4254696 (499)\ttotal: 3.93s\tremaining: 1.56s\n",
      "600:\tlearn: 2548.9580511\ttest: 4207.8710417\tbest: 4207.5515530 (599)\ttotal: 4.72s\tremaining: 778ms\n",
      "699:\tlearn: 2408.2330092\ttest: 4192.2301820\tbest: 4190.7386142 (687)\ttotal: 5.5s\tremaining: 0us\n",
      "\n",
      "bestTest = 4190.738614\n",
      "bestIteration = 687\n",
      "\n",
      "Shrink model to first 688 iterations.\n",
      "강동구\n",
      "(53467, 26)\n"
     ]
    },
    {
     "name": "stderr",
     "output_type": "stream",
     "text": [
      "100%|██████████| 6/6 [00:00<00:00, 102.37it/s]\n"
     ]
    },
    {
     "name": "stdout",
     "output_type": "stream",
     "text": [
      "0:\tlearn: 26302.1009017\ttest: 26397.4810431\tbest: 26397.4810431 (0)\ttotal: 10.4ms\tremaining: 7.28s\n",
      "100:\tlearn: 3871.8725233\ttest: 4481.7171379\tbest: 4481.7171379 (100)\ttotal: 794ms\tremaining: 4.71s\n",
      "200:\tlearn: 3143.3889304\ttest: 3985.5958767\tbest: 3985.5958767 (200)\ttotal: 1.58s\tremaining: 3.92s\n",
      "300:\tlearn: 2762.3908379\ttest: 3812.3495358\tbest: 3812.3495358 (300)\ttotal: 2.35s\tremaining: 3.11s\n",
      "400:\tlearn: 2517.2206160\ttest: 3725.8417560\tbest: 3725.8417560 (400)\ttotal: 3.12s\tremaining: 2.33s\n",
      "500:\tlearn: 2335.4593400\ttest: 3683.9043187\tbest: 3683.9043187 (500)\ttotal: 3.92s\tremaining: 1.55s\n",
      "600:\tlearn: 2179.9212724\ttest: 3647.0592906\tbest: 3646.5168083 (598)\ttotal: 4.69s\tremaining: 772ms\n",
      "699:\tlearn: 2048.4339009\ttest: 3620.8228262\tbest: 3620.3923774 (698)\ttotal: 5.46s\tremaining: 0us\n",
      "\n",
      "bestTest = 3620.392377\n",
      "bestIteration = 698\n",
      "\n",
      "Shrink model to first 699 iterations.\n",
      "도봉구\n",
      "(52800, 26)\n"
     ]
    },
    {
     "name": "stderr",
     "output_type": "stream",
     "text": [
      "100%|██████████| 6/6 [00:00<00:00, 112.93it/s]\n"
     ]
    },
    {
     "name": "stdout",
     "output_type": "stream",
     "text": [
      "0:\tlearn: 14547.7645425\ttest: 14663.2030825\tbest: 14663.2030825 (0)\ttotal: 9.61ms\tremaining: 6.72s\n",
      "100:\tlearn: 2223.9028412\ttest: 2530.1847584\tbest: 2530.1847584 (100)\ttotal: 781ms\tremaining: 4.63s\n",
      "200:\tlearn: 1855.7709946\ttest: 2321.3714251\tbest: 2321.3714251 (200)\ttotal: 1.54s\tremaining: 3.83s\n",
      "300:\tlearn: 1676.6925060\ttest: 2260.9388061\tbest: 2260.9388061 (300)\ttotal: 2.31s\tremaining: 3.07s\n",
      "400:\tlearn: 1560.2622077\ttest: 2231.5875855\tbest: 2231.5875855 (400)\ttotal: 3.11s\tremaining: 2.32s\n",
      "500:\tlearn: 1467.4162784\ttest: 2219.9855636\tbest: 2219.9779249 (498)\ttotal: 3.88s\tremaining: 1.54s\n",
      "600:\tlearn: 1383.3664324\ttest: 2216.5961597\tbest: 2216.3443494 (589)\ttotal: 4.65s\tremaining: 766ms\n",
      "699:\tlearn: 1317.3513426\ttest: 2213.4381967\tbest: 2213.3504449 (694)\ttotal: 5.41s\tremaining: 0us\n",
      "\n",
      "bestTest = 2213.350445\n",
      "bestIteration = 694\n",
      "\n",
      "Shrink model to first 695 iterations.\n",
      "서초구\n",
      "(48159, 26)\n"
     ]
    },
    {
     "name": "stderr",
     "output_type": "stream",
     "text": [
      "100%|██████████| 6/6 [00:00<00:00, 108.25it/s]\n"
     ]
    },
    {
     "name": "stdout",
     "output_type": "stream",
     "text": [
      "0:\tlearn: 66469.8842696\ttest: 68800.3536586\tbest: 68800.3536586 (0)\ttotal: 10.4ms\tremaining: 7.24s\n",
      "100:\tlearn: 11230.4314952\ttest: 13052.5848500\tbest: 13052.5848500 (100)\ttotal: 788ms\tremaining: 4.67s\n",
      "200:\tlearn: 8953.8115623\ttest: 11514.2779562\tbest: 11514.2779562 (200)\ttotal: 1.57s\tremaining: 3.89s\n",
      "300:\tlearn: 7761.9913500\ttest: 10962.2128823\tbest: 10962.2128823 (300)\ttotal: 2.3s\tremaining: 3.05s\n",
      "400:\tlearn: 6994.7704159\ttest: 10742.0388244\tbest: 10742.0388244 (400)\ttotal: 3.06s\tremaining: 2.28s\n",
      "500:\tlearn: 6403.1232309\ttest: 10620.2153786\tbest: 10619.9482531 (499)\ttotal: 3.81s\tremaining: 1.51s\n",
      "600:\tlearn: 5930.2510089\ttest: 10533.4858249\tbest: 10533.4858249 (600)\ttotal: 4.57s\tremaining: 753ms\n",
      "699:\tlearn: 5564.0291004\ttest: 10493.1899995\tbest: 10493.1899995 (699)\ttotal: 5.34s\tremaining: 0us\n",
      "\n",
      "bestTest = 10493.19\n",
      "bestIteration = 699\n",
      "\n",
      "영등포구\n",
      "(47738, 26)\n"
     ]
    },
    {
     "name": "stderr",
     "output_type": "stream",
     "text": [
      "100%|██████████| 6/6 [00:00<00:00, 112.09it/s]\n"
     ]
    },
    {
     "name": "stdout",
     "output_type": "stream",
     "text": [
      "0:\tlearn: 34711.9241621\ttest: 34212.3632124\tbest: 34212.3632124 (0)\ttotal: 10.7ms\tremaining: 7.44s\n",
      "100:\tlearn: 4754.4035845\ttest: 5417.9615168\tbest: 5417.9615168 (100)\ttotal: 777ms\tremaining: 4.61s\n",
      "200:\tlearn: 3582.3179768\ttest: 4596.3667287\tbest: 4596.3667287 (200)\ttotal: 1.55s\tremaining: 3.84s\n",
      "300:\tlearn: 3027.3984100\ttest: 4340.9783609\tbest: 4340.9783609 (300)\ttotal: 2.33s\tremaining: 3.1s\n",
      "400:\tlearn: 2693.4929171\ttest: 4242.4535548\tbest: 4242.4535548 (400)\ttotal: 3.1s\tremaining: 2.31s\n",
      "500:\tlearn: 2455.1070218\ttest: 4187.4728239\tbest: 4187.4728239 (500)\ttotal: 3.87s\tremaining: 1.54s\n",
      "600:\tlearn: 2277.9635293\ttest: 4164.7468114\tbest: 4164.7468114 (600)\ttotal: 4.65s\tremaining: 766ms\n",
      "699:\tlearn: 2121.3498017\ttest: 4142.1276543\tbest: 4142.1276543 (699)\ttotal: 5.39s\tremaining: 0us\n",
      "\n",
      "bestTest = 4142.127654\n",
      "bestIteration = 699\n",
      "\n",
      "마포구\n",
      "(40512, 26)\n"
     ]
    },
    {
     "name": "stderr",
     "output_type": "stream",
     "text": [
      "100%|██████████| 6/6 [00:00<00:00, 135.23it/s]\n"
     ]
    },
    {
     "name": "stdout",
     "output_type": "stream",
     "text": [
      "0:\tlearn: 32710.5118173\ttest: 32731.0619509\tbest: 32731.0619509 (0)\ttotal: 9.37ms\tremaining: 6.55s\n",
      "100:\tlearn: 4946.1380942\ttest: 5517.8158225\tbest: 5517.8158225 (100)\ttotal: 743ms\tremaining: 4.4s\n",
      "200:\tlearn: 3842.1161045\ttest: 4790.2896629\tbest: 4790.2896629 (200)\ttotal: 1.48s\tremaining: 3.67s\n",
      "300:\tlearn: 3339.8115902\ttest: 4571.6735229\tbest: 4571.6735229 (300)\ttotal: 2.21s\tremaining: 2.93s\n",
      "400:\tlearn: 2996.6976130\ttest: 4479.7106648\tbest: 4479.7106648 (400)\ttotal: 2.96s\tremaining: 2.21s\n",
      "500:\tlearn: 2746.6864592\ttest: 4433.4311719\tbest: 4433.1781043 (490)\ttotal: 3.7s\tremaining: 1.47s\n",
      "600:\tlearn: 2552.6343116\ttest: 4407.2050464\tbest: 4407.2050464 (600)\ttotal: 4.45s\tremaining: 733ms\n",
      "699:\tlearn: 2384.0182195\ttest: 4384.2693904\tbest: 4384.2693904 (699)\ttotal: 5.18s\tremaining: 0us\n",
      "\n",
      "bestTest = 4384.26939\n",
      "bestIteration = 699\n",
      "\n",
      "동작구\n",
      "(40371, 26)\n"
     ]
    },
    {
     "name": "stderr",
     "output_type": "stream",
     "text": [
      "100%|██████████| 6/6 [00:00<00:00, 137.78it/s]\n"
     ]
    },
    {
     "name": "stdout",
     "output_type": "stream",
     "text": [
      "0:\tlearn: 27241.6156964\ttest: 26001.5354164\tbest: 26001.5354164 (0)\ttotal: 8.86ms\tremaining: 6.19s\n",
      "100:\tlearn: 3999.2096014\ttest: 4308.8091000\tbest: 4308.8091000 (100)\ttotal: 740ms\tremaining: 4.38s\n",
      "200:\tlearn: 3250.2320756\ttest: 3863.9025809\tbest: 3863.9025809 (200)\ttotal: 1.46s\tremaining: 3.62s\n",
      "300:\tlearn: 2861.9063339\ttest: 3706.8352183\tbest: 3706.8352183 (300)\ttotal: 2.2s\tremaining: 2.92s\n",
      "400:\tlearn: 2593.4992238\ttest: 3638.3503992\tbest: 3638.3503992 (400)\ttotal: 2.94s\tremaining: 2.19s\n",
      "500:\tlearn: 2391.4859350\ttest: 3603.1289150\tbest: 3603.1289150 (500)\ttotal: 3.68s\tremaining: 1.46s\n",
      "600:\tlearn: 2231.1006964\ttest: 3587.0300590\tbest: 3586.3723925 (590)\ttotal: 4.41s\tremaining: 727ms\n",
      "699:\tlearn: 2092.8304206\ttest: 3573.4136248\tbest: 3573.4136248 (699)\ttotal: 5.15s\tremaining: 0us\n",
      "\n",
      "bestTest = 3573.413625\n",
      "bestIteration = 699\n",
      "\n",
      "동대문구\n",
      "(39955, 26)\n"
     ]
    },
    {
     "name": "stderr",
     "output_type": "stream",
     "text": [
      "100%|██████████| 6/6 [00:00<00:00, 136.90it/s]\n"
     ]
    },
    {
     "name": "stdout",
     "output_type": "stream",
     "text": [
      "0:\tlearn: 20911.9071925\ttest: 20526.0411277\tbest: 20526.0411277 (0)\ttotal: 8.5ms\tremaining: 5.94s\n",
      "100:\tlearn: 2850.5600753\ttest: 3136.4438994\tbest: 3136.4438994 (100)\ttotal: 755ms\tremaining: 4.48s\n",
      "200:\tlearn: 2301.8100330\ttest: 2819.1423836\tbest: 2819.1423836 (200)\ttotal: 1.5s\tremaining: 3.74s\n",
      "300:\tlearn: 2027.7389993\ttest: 2731.9097581\tbest: 2731.9097581 (300)\ttotal: 2.26s\tremaining: 3s\n",
      "400:\tlearn: 1845.6104241\ttest: 2697.3632000\tbest: 2697.3632000 (400)\ttotal: 2.99s\tremaining: 2.23s\n",
      "500:\tlearn: 1696.7268094\ttest: 2684.9666331\tbest: 2684.5628231 (499)\ttotal: 3.74s\tremaining: 1.48s\n",
      "600:\tlearn: 1575.8311733\ttest: 2670.1500023\tbest: 2670.1500023 (600)\ttotal: 4.46s\tremaining: 736ms\n",
      "699:\tlearn: 1475.8663793\ttest: 2661.6166354\tbest: 2661.6166354 (699)\ttotal: 5.18s\tremaining: 0us\n",
      "\n",
      "bestTest = 2661.616635\n",
      "bestIteration = 699\n",
      "\n",
      "성동구\n",
      "(39654, 26)\n"
     ]
    },
    {
     "name": "stderr",
     "output_type": "stream",
     "text": [
      "100%|██████████| 6/6 [00:00<00:00, 133.04it/s]\n"
     ]
    },
    {
     "name": "stdout",
     "output_type": "stream",
     "text": [
      "0:\tlearn: 40385.0042327\ttest: 37694.2426717\tbest: 37694.2426717 (0)\ttotal: 8.68ms\tremaining: 6.07s\n",
      "100:\tlearn: 6075.4944484\ttest: 7161.5901972\tbest: 7161.5901972 (100)\ttotal: 607ms\tremaining: 3.6s\n",
      "200:\tlearn: 4255.6725828\ttest: 5990.2945480\tbest: 5990.2945480 (200)\ttotal: 1.27s\tremaining: 3.16s\n",
      "300:\tlearn: 3622.0811715\ttest: 5717.2546473\tbest: 5717.2546473 (300)\ttotal: 1.96s\tremaining: 2.59s\n",
      "400:\tlearn: 3223.1836701\ttest: 5608.0787034\tbest: 5606.1523603 (399)\ttotal: 2.62s\tremaining: 1.96s\n",
      "500:\tlearn: 2937.7429079\ttest: 5554.3589772\tbest: 5554.3589772 (500)\ttotal: 3.28s\tremaining: 1.3s\n",
      "600:\tlearn: 2708.6438594\ttest: 5537.0872719\tbest: 5536.1365171 (595)\ttotal: 3.96s\tremaining: 652ms\n",
      "699:\tlearn: 2517.9676478\ttest: 5522.0087158\tbest: 5521.6502681 (698)\ttotal: 4.63s\tremaining: 0us\n",
      "\n",
      "bestTest = 5521.650268\n",
      "bestIteration = 698\n",
      "\n",
      "Shrink model to first 699 iterations.\n",
      "은평구\n",
      "(38297, 26)\n"
     ]
    },
    {
     "name": "stderr",
     "output_type": "stream",
     "text": [
      "100%|██████████| 6/6 [00:00<00:00, 127.22it/s]\n"
     ]
    },
    {
     "name": "stdout",
     "output_type": "stream",
     "text": [
      "0:\tlearn: 19790.4622618\ttest: 19221.1339927\tbest: 19221.1339927 (0)\ttotal: 9.46ms\tremaining: 6.61s\n",
      "100:\tlearn: 3530.5949785\ttest: 3899.4312045\tbest: 3899.4312045 (100)\ttotal: 728ms\tremaining: 4.32s\n",
      "200:\tlearn: 2855.4565648\ttest: 3510.6696426\tbest: 3510.6696426 (200)\ttotal: 1.49s\tremaining: 3.7s\n"
     ]
    },
    {
     "ename": "KeyboardInterrupt",
     "evalue": "",
     "output_type": "error",
     "traceback": [
      "\u001b[0;31m---------------------------------------------------------------------------\u001b[0m",
      "\u001b[0;31mKeyboardInterrupt\u001b[0m                         Traceback (most recent call last)",
      "Cell \u001b[0;32mIn[12], line 81\u001b[0m\n\u001b[1;32m     72\u001b[0m \u001b[38;5;66;03m# Initialize and train CatBoost model\u001b[39;00m\n\u001b[1;32m     73\u001b[0m cb_model \u001b[38;5;241m=\u001b[39m CatBoostRegressor(\n\u001b[1;32m     74\u001b[0m     iterations\u001b[38;5;241m=\u001b[39m\u001b[38;5;241m700\u001b[39m,\n\u001b[1;32m     75\u001b[0m     depth\u001b[38;5;241m=\u001b[39m\u001b[38;5;241m10\u001b[39m,\n\u001b[0;32m   (...)\u001b[0m\n\u001b[1;32m     79\u001b[0m     verbose\u001b[38;5;241m=\u001b[39m\u001b[38;5;241m100\u001b[39m\n\u001b[1;32m     80\u001b[0m )\n\u001b[0;32m---> 81\u001b[0m \u001b[43mcb_model\u001b[49m\u001b[38;5;241;43m.\u001b[39;49m\u001b[43mfit\u001b[49m\u001b[43m(\u001b[49m\u001b[43mX_train\u001b[49m\u001b[43m,\u001b[49m\u001b[43m \u001b[49m\u001b[43my_train\u001b[49m\u001b[43m,\u001b[49m\u001b[43m \u001b[49m\u001b[43meval_set\u001b[49m\u001b[38;5;241;43m=\u001b[39;49m\u001b[43m(\u001b[49m\u001b[43mX_val\u001b[49m\u001b[43m,\u001b[49m\u001b[43m \u001b[49m\u001b[43my_val\u001b[49m\u001b[43m)\u001b[49m\u001b[43m,\u001b[49m\u001b[43m \u001b[49m\u001b[43mplot\u001b[49m\u001b[38;5;241;43m=\u001b[39;49m\u001b[38;5;28;43;01mFalse\u001b[39;49;00m\u001b[43m)\u001b[49m\n\u001b[1;32m     82\u001b[0m cb_pred \u001b[38;5;241m=\u001b[39m cb_model\u001b[38;5;241m.\u001b[39mpredict(X_val)\n\u001b[1;32m     84\u001b[0m \u001b[38;5;66;03m# Calculate RMSE for both models\u001b[39;00m\n",
      "File \u001b[0;32m/opt/conda/lib/python3.10/site-packages/catboost/core.py:5827\u001b[0m, in \u001b[0;36mCatBoostRegressor.fit\u001b[0;34m(self, X, y, cat_features, text_features, embedding_features, sample_weight, baseline, use_best_model, eval_set, verbose, logging_level, plot, plot_file, column_description, verbose_eval, metric_period, silent, early_stopping_rounds, save_snapshot, snapshot_file, snapshot_interval, init_model, callbacks, log_cout, log_cerr)\u001b[0m\n\u001b[1;32m   5824\u001b[0m \u001b[38;5;28;01mif\u001b[39;00m \u001b[38;5;124m'\u001b[39m\u001b[38;5;124mloss_function\u001b[39m\u001b[38;5;124m'\u001b[39m \u001b[38;5;129;01min\u001b[39;00m params:\n\u001b[1;32m   5825\u001b[0m     CatBoostRegressor\u001b[38;5;241m.\u001b[39m_check_is_compatible_loss(params[\u001b[38;5;124m'\u001b[39m\u001b[38;5;124mloss_function\u001b[39m\u001b[38;5;124m'\u001b[39m])\n\u001b[0;32m-> 5827\u001b[0m \u001b[38;5;28;01mreturn\u001b[39;00m \u001b[38;5;28;43mself\u001b[39;49m\u001b[38;5;241;43m.\u001b[39;49m\u001b[43m_fit\u001b[49m\u001b[43m(\u001b[49m\u001b[43mX\u001b[49m\u001b[43m,\u001b[49m\u001b[43m \u001b[49m\u001b[43my\u001b[49m\u001b[43m,\u001b[49m\u001b[43m \u001b[49m\u001b[43mcat_features\u001b[49m\u001b[43m,\u001b[49m\u001b[43m \u001b[49m\u001b[43mtext_features\u001b[49m\u001b[43m,\u001b[49m\u001b[43m \u001b[49m\u001b[43membedding_features\u001b[49m\u001b[43m,\u001b[49m\u001b[43m \u001b[49m\u001b[38;5;28;43;01mNone\u001b[39;49;00m\u001b[43m,\u001b[49m\u001b[43m \u001b[49m\u001b[43msample_weight\u001b[49m\u001b[43m,\u001b[49m\u001b[43m \u001b[49m\u001b[38;5;28;43;01mNone\u001b[39;49;00m\u001b[43m,\u001b[49m\u001b[43m \u001b[49m\u001b[38;5;28;43;01mNone\u001b[39;49;00m\u001b[43m,\u001b[49m\u001b[43m \u001b[49m\u001b[38;5;28;43;01mNone\u001b[39;49;00m\u001b[43m,\u001b[49m\u001b[43m \u001b[49m\u001b[38;5;28;43;01mNone\u001b[39;49;00m\u001b[43m,\u001b[49m\u001b[43m \u001b[49m\u001b[43mbaseline\u001b[49m\u001b[43m,\u001b[49m\n\u001b[1;32m   5828\u001b[0m \u001b[43m                 \u001b[49m\u001b[43muse_best_model\u001b[49m\u001b[43m,\u001b[49m\u001b[43m \u001b[49m\u001b[43meval_set\u001b[49m\u001b[43m,\u001b[49m\u001b[43m \u001b[49m\u001b[43mverbose\u001b[49m\u001b[43m,\u001b[49m\u001b[43m \u001b[49m\u001b[43mlogging_level\u001b[49m\u001b[43m,\u001b[49m\u001b[43m \u001b[49m\u001b[43mplot\u001b[49m\u001b[43m,\u001b[49m\u001b[43m \u001b[49m\u001b[43mplot_file\u001b[49m\u001b[43m,\u001b[49m\u001b[43m \u001b[49m\u001b[43mcolumn_description\u001b[49m\u001b[43m,\u001b[49m\n\u001b[1;32m   5829\u001b[0m \u001b[43m                 \u001b[49m\u001b[43mverbose_eval\u001b[49m\u001b[43m,\u001b[49m\u001b[43m \u001b[49m\u001b[43mmetric_period\u001b[49m\u001b[43m,\u001b[49m\u001b[43m \u001b[49m\u001b[43msilent\u001b[49m\u001b[43m,\u001b[49m\u001b[43m \u001b[49m\u001b[43mearly_stopping_rounds\u001b[49m\u001b[43m,\u001b[49m\n\u001b[1;32m   5830\u001b[0m \u001b[43m                 \u001b[49m\u001b[43msave_snapshot\u001b[49m\u001b[43m,\u001b[49m\u001b[43m \u001b[49m\u001b[43msnapshot_file\u001b[49m\u001b[43m,\u001b[49m\u001b[43m \u001b[49m\u001b[43msnapshot_interval\u001b[49m\u001b[43m,\u001b[49m\u001b[43m \u001b[49m\u001b[43minit_model\u001b[49m\u001b[43m,\u001b[49m\u001b[43m \u001b[49m\u001b[43mcallbacks\u001b[49m\u001b[43m,\u001b[49m\u001b[43m \u001b[49m\u001b[43mlog_cout\u001b[49m\u001b[43m,\u001b[49m\u001b[43m \u001b[49m\u001b[43mlog_cerr\u001b[49m\u001b[43m)\u001b[49m\n",
      "File \u001b[0;32m/opt/conda/lib/python3.10/site-packages/catboost/core.py:2400\u001b[0m, in \u001b[0;36mCatBoost._fit\u001b[0;34m(self, X, y, cat_features, text_features, embedding_features, pairs, sample_weight, group_id, group_weight, subgroup_id, pairs_weight, baseline, use_best_model, eval_set, verbose, logging_level, plot, plot_file, column_description, verbose_eval, metric_period, silent, early_stopping_rounds, save_snapshot, snapshot_file, snapshot_interval, init_model, callbacks, log_cout, log_cerr)\u001b[0m\n\u001b[1;32m   2397\u001b[0m allow_clear_pool \u001b[38;5;241m=\u001b[39m train_params[\u001b[38;5;124m\"\u001b[39m\u001b[38;5;124mallow_clear_pool\u001b[39m\u001b[38;5;124m\"\u001b[39m]\n\u001b[1;32m   2399\u001b[0m \u001b[38;5;28;01mwith\u001b[39;00m plot_wrapper(plot, plot_file, \u001b[38;5;124m'\u001b[39m\u001b[38;5;124mTraining plots\u001b[39m\u001b[38;5;124m'\u001b[39m, [_get_train_dir(\u001b[38;5;28mself\u001b[39m\u001b[38;5;241m.\u001b[39mget_params())]):\n\u001b[0;32m-> 2400\u001b[0m     \u001b[38;5;28;43mself\u001b[39;49m\u001b[38;5;241;43m.\u001b[39;49m\u001b[43m_train\u001b[49m\u001b[43m(\u001b[49m\n\u001b[1;32m   2401\u001b[0m \u001b[43m        \u001b[49m\u001b[43mtrain_pool\u001b[49m\u001b[43m,\u001b[49m\n\u001b[1;32m   2402\u001b[0m \u001b[43m        \u001b[49m\u001b[43mtrain_params\u001b[49m\u001b[43m[\u001b[49m\u001b[38;5;124;43m\"\u001b[39;49m\u001b[38;5;124;43meval_sets\u001b[39;49m\u001b[38;5;124;43m\"\u001b[39;49m\u001b[43m]\u001b[49m\u001b[43m,\u001b[49m\n\u001b[1;32m   2403\u001b[0m \u001b[43m        \u001b[49m\u001b[43mparams\u001b[49m\u001b[43m,\u001b[49m\n\u001b[1;32m   2404\u001b[0m \u001b[43m        \u001b[49m\u001b[43mallow_clear_pool\u001b[49m\u001b[43m,\u001b[49m\n\u001b[1;32m   2405\u001b[0m \u001b[43m        \u001b[49m\u001b[43mtrain_params\u001b[49m\u001b[43m[\u001b[49m\u001b[38;5;124;43m\"\u001b[39;49m\u001b[38;5;124;43minit_model\u001b[39;49m\u001b[38;5;124;43m\"\u001b[39;49m\u001b[43m]\u001b[49m\n\u001b[1;32m   2406\u001b[0m \u001b[43m    \u001b[49m\u001b[43m)\u001b[49m\n\u001b[1;32m   2408\u001b[0m \u001b[38;5;66;03m# Have property feature_importance possibly set\u001b[39;00m\n\u001b[1;32m   2409\u001b[0m loss \u001b[38;5;241m=\u001b[39m \u001b[38;5;28mself\u001b[39m\u001b[38;5;241m.\u001b[39m_object\u001b[38;5;241m.\u001b[39m_get_loss_function_name()\n",
      "File \u001b[0;32m/opt/conda/lib/python3.10/site-packages/catboost/core.py:1780\u001b[0m, in \u001b[0;36m_CatBoostBase._train\u001b[0;34m(self, train_pool, test_pool, params, allow_clear_pool, init_model)\u001b[0m\n\u001b[1;32m   1779\u001b[0m \u001b[38;5;28;01mdef\u001b[39;00m \u001b[38;5;21m_train\u001b[39m(\u001b[38;5;28mself\u001b[39m, train_pool, test_pool, params, allow_clear_pool, init_model):\n\u001b[0;32m-> 1780\u001b[0m     \u001b[38;5;28;43mself\u001b[39;49m\u001b[38;5;241;43m.\u001b[39;49m\u001b[43m_object\u001b[49m\u001b[38;5;241;43m.\u001b[39;49m\u001b[43m_train\u001b[49m\u001b[43m(\u001b[49m\u001b[43mtrain_pool\u001b[49m\u001b[43m,\u001b[49m\u001b[43m \u001b[49m\u001b[43mtest_pool\u001b[49m\u001b[43m,\u001b[49m\u001b[43m \u001b[49m\u001b[43mparams\u001b[49m\u001b[43m,\u001b[49m\u001b[43m \u001b[49m\u001b[43mallow_clear_pool\u001b[49m\u001b[43m,\u001b[49m\u001b[43m \u001b[49m\u001b[43minit_model\u001b[49m\u001b[38;5;241;43m.\u001b[39;49m\u001b[43m_object\u001b[49m\u001b[43m \u001b[49m\u001b[38;5;28;43;01mif\u001b[39;49;00m\u001b[43m \u001b[49m\u001b[43minit_model\u001b[49m\u001b[43m \u001b[49m\u001b[38;5;28;43;01melse\u001b[39;49;00m\u001b[43m \u001b[49m\u001b[38;5;28;43;01mNone\u001b[39;49;00m\u001b[43m)\u001b[49m\n\u001b[1;32m   1781\u001b[0m     \u001b[38;5;28mself\u001b[39m\u001b[38;5;241m.\u001b[39m_set_trained_model_attributes()\n",
      "File \u001b[0;32m_catboost.pyx:4833\u001b[0m, in \u001b[0;36m_catboost._CatBoost._train\u001b[0;34m()\u001b[0m\n",
      "File \u001b[0;32m_catboost.pyx:4882\u001b[0m, in \u001b[0;36m_catboost._CatBoost._train\u001b[0;34m()\u001b[0m\n",
      "\u001b[0;31mKeyboardInterrupt\u001b[0m: "
     ]
    }
   ],
   "source": [
    "import pickle\n",
    "import pandas as pd\n",
    "import numpy as np\n",
    "from sklearn.preprocessing import LabelEncoder\n",
    "from sklearn.model_selection import train_test_split\n",
    "from sklearn.ensemble import RandomForestRegressor\n",
    "from sklearn import metrics\n",
    "from catboost import CatBoostRegressor\n",
    "from tqdm import tqdm\n",
    "\n",
    "def calculate_se(target, pred):\n",
    "    squared_errors = (target - pred) ** 2\n",
    "    return squared_errors\n",
    "\n",
    "output_df = pd.DataFrame()\n",
    "test_score = []\n",
    "\n",
    "for gu in df['구'].value_counts().keys():\n",
    "    print(gu)\n",
    "    concat_select_gu = df[df['구'] == gu]\n",
    "    print(concat_select_gu.shape)\n",
    "    dt_train = concat_select_gu.query('is_test == 0')\n",
    "    dt_test = concat_select_gu.query('is_test == 1')\n",
    "\n",
    "    # Drop the 'is_test' column\n",
    "    dt_train.drop(['is_test'], axis=1, inplace=True)\n",
    "    dt_test.drop(['is_test'], axis=1, inplace=True)\n",
    "    dt_test['target'] = 0\n",
    "\n",
    "    label_encoders = {}\n",
    "    continuous_columns_v2 = []\n",
    "    categorical_columns_v2 = []\n",
    "\n",
    "    for column in dt_train.columns:\n",
    "        if pd.api.types.is_numeric_dtype(dt_train[column]):\n",
    "            continuous_columns_v2.append(column)\n",
    "        else:\n",
    "            categorical_columns_v2.append(column)\n",
    "\n",
    "    for col in tqdm(categorical_columns_v2):\n",
    "        lbl = LabelEncoder()\n",
    "        lbl.fit(dt_train[col].astype(str))\n",
    "        dt_train[col] = lbl.transform(dt_train[col].astype(str))\n",
    "        label_encoders[col] = lbl\n",
    "\n",
    "        for label in np.unique(dt_test[col]):\n",
    "            if label not in lbl.classes_:\n",
    "                lbl.classes_ = np.append(lbl.classes_, label)\n",
    "\n",
    "        dt_test[col] = lbl.transform(dt_test[col].astype(str))\n",
    "\n",
    "    assert dt_train.shape[1] == dt_test.shape[1]\n",
    "\n",
    "    y_train = dt_train['target']\n",
    "    X_train = dt_train.drop(['target'], axis=1)\n",
    "    # Split data for training and validation\n",
    "    X_train, X_val, y_train, y_val = train_test_split(X_train, y_train, test_size=0.2, random_state=2023)\n",
    "\n",
    "    # Initialize and train RandomForest model with best hyperparameters\n",
    "    rf_model = RandomForestRegressor(\n",
    "        n_estimators=200,\n",
    "        max_depth=10,\n",
    "        min_samples_split=2,\n",
    "        min_samples_leaf=1,\n",
    "        max_features='auto',\n",
    "        random_state=1,\n",
    "        n_jobs=-1\n",
    "    )\n",
    "    rf_model.fit(X_train, y_train)\n",
    "    rf_pred = rf_model.predict(X_val)\n",
    "\n",
    "    # Initialize and train CatBoost model\n",
    "    cb_model = CatBoostRegressor(\n",
    "        iterations=700,\n",
    "        depth=10,\n",
    "        learning_rate=0.1,\n",
    "        loss_function='RMSE',\n",
    "        random_state=1,\n",
    "        verbose=100\n",
    "    )\n",
    "    cb_model.fit(X_train, y_train, eval_set=(X_val, y_val), plot=False)\n",
    "    cb_pred = cb_model.predict(X_val)\n",
    "\n",
    "    # Calculate RMSE for both models\n",
    "    rf_rmse = np.sqrt(metrics.mean_squared_error(y_val, rf_pred))\n",
    "    cb_rmse = np.sqrt(metrics.mean_squared_error(y_val, cb_pred))\n",
    "    test_score.append((gu, rf_rmse, cb_rmse))\n",
    "\n",
    "    # Save both models\n",
    "    with open('saved_rf_model.pkl', 'wb') as f:\n",
    "        pickle.dump(rf_model, f)\n",
    "    \n",
    "    with open('saved_cb_model.pkl', 'wb') as f:\n",
    "        pickle.dump(cb_model, f)\n",
    "\n",
    "    # Load models\n",
    "    with open('saved_rf_model.pkl', 'rb') as f:\n",
    "        rf_model = pickle.load(f)\n",
    "    \n",
    "    with open('saved_cb_model.pkl', 'rb') as f:\n",
    "        cb_model = pickle.load(f)\n",
    "\n",
    "    # Drop 'target' and 'index' columns before prediction\n",
    "    X_test = dt_test.drop(columns=['target', 'index'], errors='ignore')\n",
    "\n",
    "    # Ensure columns match between train and test\n",
    "    X_test = X_test.reindex(columns=X_train.columns, fill_value=0)  # Align columns with training data\n",
    "\n",
    "    # Make predictions with both models\n",
    "    rf_test_pred = rf_model.predict(X_test)\n",
    "    cb_test_pred = cb_model.predict(X_test)\n",
    "\n",
    "    # Average the predictions from both models\n",
    "    final_pred = (rf_test_pred + cb_test_pred) / 2\n",
    "\n",
    "    # Prepare the results\n",
    "    preds_df = pd.DataFrame(final_pred.astype(int), columns=[\"target\"])\n",
    "    preds_df_gu = pd.concat([dt_test['index'].reset_index(drop=True), preds_df], axis=1)\n",
    "    \n",
    "    output_df = pd.concat([output_df, preds_df_gu])\n",
    "\n",
    "# Sort and save the output dataframe with only the target column\n",
    "output_df.sort_values('index').drop('index', axis=1).to_csv('7월19일_앙상블_하이퍼파라미터튜닝.csv', index=False)\n",
    "print(test_score)\n"
   ]
  },
  {
   "cell_type": "markdown",
   "metadata": {},
   "source": [
    "## 이게 찐임"
   ]
  },
  {
   "cell_type": "code",
   "execution_count": 12,
   "metadata": {},
   "outputs": [
    {
     "name": "stdout",
     "output_type": "stream",
     "text": [
      "노원구\n",
      "(114864, 26)\n"
     ]
    },
    {
     "name": "stderr",
     "output_type": "stream",
     "text": [
      "100%|██████████| 6/6 [00:00<00:00, 53.07it/s]\n"
     ]
    },
    {
     "name": "stdout",
     "output_type": "stream",
     "text": [
      "0:\tlearn: 16011.3406090\ttest: 16257.0434546\tbest: 16257.0434546 (0)\ttotal: 64ms\tremaining: 44.7s\n",
      "100:\tlearn: 2406.6182539\ttest: 2501.7811585\tbest: 2501.7811585 (100)\ttotal: 1.06s\tremaining: 6.27s\n",
      "200:\tlearn: 1997.2700702\ttest: 2202.1216303\tbest: 2202.1216303 (200)\ttotal: 2.06s\tremaining: 5.12s\n",
      "300:\tlearn: 1824.2377998\ttest: 2116.8050791\tbest: 2116.8050791 (300)\ttotal: 3.06s\tremaining: 4.06s\n",
      "400:\tlearn: 1713.9816576\ttest: 2079.4899132\tbest: 2079.4899132 (400)\ttotal: 4.06s\tremaining: 3.03s\n",
      "500:\tlearn: 1627.0925576\ttest: 2057.7910231\tbest: 2057.6607196 (499)\ttotal: 5.08s\tremaining: 2.02s\n",
      "600:\tlearn: 1557.0972643\ttest: 2045.0401075\tbest: 2044.9284960 (598)\ttotal: 6.1s\tremaining: 1s\n",
      "699:\tlearn: 1495.4228447\ttest: 2039.2644260\tbest: 2039.1081793 (697)\ttotal: 7.09s\tremaining: 0us\n",
      "\n",
      "bestTest = 2039.108179\n",
      "bestIteration = 697\n",
      "\n",
      "Shrink model to first 698 iterations.\n",
      "송파구\n",
      "(72102, 26)\n"
     ]
    },
    {
     "name": "stderr",
     "output_type": "stream",
     "text": [
      "100%|██████████| 6/6 [00:00<00:00, 81.09it/s]\n"
     ]
    },
    {
     "ename": "KeyboardInterrupt",
     "evalue": "",
     "output_type": "error",
     "traceback": [
      "\u001b[0;31m---------------------------------------------------------------------------\u001b[0m",
      "\u001b[0;31mKeyboardInterrupt\u001b[0m                         Traceback (most recent call last)",
      "Cell \u001b[0;32mIn[12], line 76\u001b[0m\n\u001b[1;32m     66\u001b[0m \u001b[38;5;66;03m# Initialize and train RandomForest model with best hyperparameters\u001b[39;00m\n\u001b[1;32m     67\u001b[0m rf_model \u001b[38;5;241m=\u001b[39m RandomForestRegressor(\n\u001b[1;32m     68\u001b[0m     n_estimators\u001b[38;5;241m=\u001b[39m\u001b[38;5;241m200\u001b[39m,\n\u001b[1;32m     69\u001b[0m     max_depth\u001b[38;5;241m=\u001b[39m\u001b[38;5;241m10\u001b[39m,\n\u001b[0;32m   (...)\u001b[0m\n\u001b[1;32m     74\u001b[0m     n_jobs\u001b[38;5;241m=\u001b[39m\u001b[38;5;241m-\u001b[39m\u001b[38;5;241m1\u001b[39m\n\u001b[1;32m     75\u001b[0m )\n\u001b[0;32m---> 76\u001b[0m \u001b[43mrf_model\u001b[49m\u001b[38;5;241;43m.\u001b[39;49m\u001b[43mfit\u001b[49m\u001b[43m(\u001b[49m\u001b[43mX_train\u001b[49m\u001b[43m,\u001b[49m\u001b[43m \u001b[49m\u001b[43my_train\u001b[49m\u001b[43m)\u001b[49m\n\u001b[1;32m     77\u001b[0m rf_pred \u001b[38;5;241m=\u001b[39m rf_model\u001b[38;5;241m.\u001b[39mpredict(X_val)\n\u001b[1;32m     79\u001b[0m \u001b[38;5;66;03m# Initialize and train CatBoost model\u001b[39;00m\n",
      "File \u001b[0;32m/opt/conda/lib/python3.10/site-packages/sklearn/ensemble/_forest.py:473\u001b[0m, in \u001b[0;36mBaseForest.fit\u001b[0;34m(self, X, y, sample_weight)\u001b[0m\n\u001b[1;32m    462\u001b[0m trees \u001b[38;5;241m=\u001b[39m [\n\u001b[1;32m    463\u001b[0m     \u001b[38;5;28mself\u001b[39m\u001b[38;5;241m.\u001b[39m_make_estimator(append\u001b[38;5;241m=\u001b[39m\u001b[38;5;28;01mFalse\u001b[39;00m, random_state\u001b[38;5;241m=\u001b[39mrandom_state)\n\u001b[1;32m    464\u001b[0m     \u001b[38;5;28;01mfor\u001b[39;00m i \u001b[38;5;129;01min\u001b[39;00m \u001b[38;5;28mrange\u001b[39m(n_more_estimators)\n\u001b[1;32m    465\u001b[0m ]\n\u001b[1;32m    467\u001b[0m \u001b[38;5;66;03m# Parallel loop: we prefer the threading backend as the Cython code\u001b[39;00m\n\u001b[1;32m    468\u001b[0m \u001b[38;5;66;03m# for fitting the trees is internally releasing the Python GIL\u001b[39;00m\n\u001b[1;32m    469\u001b[0m \u001b[38;5;66;03m# making threading more efficient than multiprocessing in\u001b[39;00m\n\u001b[1;32m    470\u001b[0m \u001b[38;5;66;03m# that case. However, for joblib 0.12+ we respect any\u001b[39;00m\n\u001b[1;32m    471\u001b[0m \u001b[38;5;66;03m# parallel_backend contexts set at a higher level,\u001b[39;00m\n\u001b[1;32m    472\u001b[0m \u001b[38;5;66;03m# since correctness does not rely on using threads.\u001b[39;00m\n\u001b[0;32m--> 473\u001b[0m trees \u001b[38;5;241m=\u001b[39m \u001b[43mParallel\u001b[49m\u001b[43m(\u001b[49m\n\u001b[1;32m    474\u001b[0m \u001b[43m    \u001b[49m\u001b[43mn_jobs\u001b[49m\u001b[38;5;241;43m=\u001b[39;49m\u001b[38;5;28;43mself\u001b[39;49m\u001b[38;5;241;43m.\u001b[39;49m\u001b[43mn_jobs\u001b[49m\u001b[43m,\u001b[49m\n\u001b[1;32m    475\u001b[0m \u001b[43m    \u001b[49m\u001b[43mverbose\u001b[49m\u001b[38;5;241;43m=\u001b[39;49m\u001b[38;5;28;43mself\u001b[39;49m\u001b[38;5;241;43m.\u001b[39;49m\u001b[43mverbose\u001b[49m\u001b[43m,\u001b[49m\n\u001b[1;32m    476\u001b[0m \u001b[43m    \u001b[49m\u001b[43mprefer\u001b[49m\u001b[38;5;241;43m=\u001b[39;49m\u001b[38;5;124;43m\"\u001b[39;49m\u001b[38;5;124;43mthreads\u001b[39;49m\u001b[38;5;124;43m\"\u001b[39;49m\u001b[43m,\u001b[49m\n\u001b[1;32m    477\u001b[0m \u001b[43m\u001b[49m\u001b[43m)\u001b[49m\u001b[43m(\u001b[49m\n\u001b[1;32m    478\u001b[0m \u001b[43m    \u001b[49m\u001b[43mdelayed\u001b[49m\u001b[43m(\u001b[49m\u001b[43m_parallel_build_trees\u001b[49m\u001b[43m)\u001b[49m\u001b[43m(\u001b[49m\n\u001b[1;32m    479\u001b[0m \u001b[43m        \u001b[49m\u001b[43mt\u001b[49m\u001b[43m,\u001b[49m\n\u001b[1;32m    480\u001b[0m \u001b[43m        \u001b[49m\u001b[38;5;28;43mself\u001b[39;49m\u001b[38;5;241;43m.\u001b[39;49m\u001b[43mbootstrap\u001b[49m\u001b[43m,\u001b[49m\n\u001b[1;32m    481\u001b[0m \u001b[43m        \u001b[49m\u001b[43mX\u001b[49m\u001b[43m,\u001b[49m\n\u001b[1;32m    482\u001b[0m \u001b[43m        \u001b[49m\u001b[43my\u001b[49m\u001b[43m,\u001b[49m\n\u001b[1;32m    483\u001b[0m \u001b[43m        \u001b[49m\u001b[43msample_weight\u001b[49m\u001b[43m,\u001b[49m\n\u001b[1;32m    484\u001b[0m \u001b[43m        \u001b[49m\u001b[43mi\u001b[49m\u001b[43m,\u001b[49m\n\u001b[1;32m    485\u001b[0m \u001b[43m        \u001b[49m\u001b[38;5;28;43mlen\u001b[39;49m\u001b[43m(\u001b[49m\u001b[43mtrees\u001b[49m\u001b[43m)\u001b[49m\u001b[43m,\u001b[49m\n\u001b[1;32m    486\u001b[0m \u001b[43m        \u001b[49m\u001b[43mverbose\u001b[49m\u001b[38;5;241;43m=\u001b[39;49m\u001b[38;5;28;43mself\u001b[39;49m\u001b[38;5;241;43m.\u001b[39;49m\u001b[43mverbose\u001b[49m\u001b[43m,\u001b[49m\n\u001b[1;32m    487\u001b[0m \u001b[43m        \u001b[49m\u001b[43mclass_weight\u001b[49m\u001b[38;5;241;43m=\u001b[39;49m\u001b[38;5;28;43mself\u001b[39;49m\u001b[38;5;241;43m.\u001b[39;49m\u001b[43mclass_weight\u001b[49m\u001b[43m,\u001b[49m\n\u001b[1;32m    488\u001b[0m \u001b[43m        \u001b[49m\u001b[43mn_samples_bootstrap\u001b[49m\u001b[38;5;241;43m=\u001b[39;49m\u001b[43mn_samples_bootstrap\u001b[49m\u001b[43m,\u001b[49m\n\u001b[1;32m    489\u001b[0m \u001b[43m    \u001b[49m\u001b[43m)\u001b[49m\n\u001b[1;32m    490\u001b[0m \u001b[43m    \u001b[49m\u001b[38;5;28;43;01mfor\u001b[39;49;00m\u001b[43m \u001b[49m\u001b[43mi\u001b[49m\u001b[43m,\u001b[49m\u001b[43m \u001b[49m\u001b[43mt\u001b[49m\u001b[43m \u001b[49m\u001b[38;5;129;43;01min\u001b[39;49;00m\u001b[43m \u001b[49m\u001b[38;5;28;43menumerate\u001b[39;49m\u001b[43m(\u001b[49m\u001b[43mtrees\u001b[49m\u001b[43m)\u001b[49m\n\u001b[1;32m    491\u001b[0m \u001b[43m\u001b[49m\u001b[43m)\u001b[49m\n\u001b[1;32m    493\u001b[0m \u001b[38;5;66;03m# Collect newly grown trees\u001b[39;00m\n\u001b[1;32m    494\u001b[0m \u001b[38;5;28mself\u001b[39m\u001b[38;5;241m.\u001b[39mestimators_\u001b[38;5;241m.\u001b[39mextend(trees)\n",
      "File \u001b[0;32m/opt/conda/lib/python3.10/site-packages/sklearn/utils/parallel.py:63\u001b[0m, in \u001b[0;36mParallel.__call__\u001b[0;34m(self, iterable)\u001b[0m\n\u001b[1;32m     58\u001b[0m config \u001b[38;5;241m=\u001b[39m get_config()\n\u001b[1;32m     59\u001b[0m iterable_with_config \u001b[38;5;241m=\u001b[39m (\n\u001b[1;32m     60\u001b[0m     (_with_config(delayed_func, config), args, kwargs)\n\u001b[1;32m     61\u001b[0m     \u001b[38;5;28;01mfor\u001b[39;00m delayed_func, args, kwargs \u001b[38;5;129;01min\u001b[39;00m iterable\n\u001b[1;32m     62\u001b[0m )\n\u001b[0;32m---> 63\u001b[0m \u001b[38;5;28;01mreturn\u001b[39;00m \u001b[38;5;28;43msuper\u001b[39;49m\u001b[43m(\u001b[49m\u001b[43m)\u001b[49m\u001b[38;5;241;43m.\u001b[39;49m\u001b[38;5;21;43m__call__\u001b[39;49m\u001b[43m(\u001b[49m\u001b[43miterable_with_config\u001b[49m\u001b[43m)\u001b[49m\n",
      "File \u001b[0;32m/opt/conda/lib/python3.10/site-packages/joblib/parallel.py:1952\u001b[0m, in \u001b[0;36mParallel.__call__\u001b[0;34m(self, iterable)\u001b[0m\n\u001b[1;32m   1946\u001b[0m \u001b[38;5;66;03m# The first item from the output is blank, but it makes the interpreter\u001b[39;00m\n\u001b[1;32m   1947\u001b[0m \u001b[38;5;66;03m# progress until it enters the Try/Except block of the generator and\u001b[39;00m\n\u001b[1;32m   1948\u001b[0m \u001b[38;5;66;03m# reach the first `yield` statement. This starts the aynchronous\u001b[39;00m\n\u001b[1;32m   1949\u001b[0m \u001b[38;5;66;03m# dispatch of the tasks to the workers.\u001b[39;00m\n\u001b[1;32m   1950\u001b[0m \u001b[38;5;28mnext\u001b[39m(output)\n\u001b[0;32m-> 1952\u001b[0m \u001b[38;5;28;01mreturn\u001b[39;00m output \u001b[38;5;28;01mif\u001b[39;00m \u001b[38;5;28mself\u001b[39m\u001b[38;5;241m.\u001b[39mreturn_generator \u001b[38;5;28;01melse\u001b[39;00m \u001b[38;5;28;43mlist\u001b[39;49m\u001b[43m(\u001b[49m\u001b[43moutput\u001b[49m\u001b[43m)\u001b[49m\n",
      "File \u001b[0;32m/opt/conda/lib/python3.10/site-packages/joblib/parallel.py:1595\u001b[0m, in \u001b[0;36mParallel._get_outputs\u001b[0;34m(self, iterator, pre_dispatch)\u001b[0m\n\u001b[1;32m   1592\u001b[0m     \u001b[38;5;28;01myield\u001b[39;00m\n\u001b[1;32m   1594\u001b[0m     \u001b[38;5;28;01mwith\u001b[39;00m \u001b[38;5;28mself\u001b[39m\u001b[38;5;241m.\u001b[39m_backend\u001b[38;5;241m.\u001b[39mretrieval_context():\n\u001b[0;32m-> 1595\u001b[0m         \u001b[38;5;28;01myield from\u001b[39;00m \u001b[38;5;28mself\u001b[39m\u001b[38;5;241m.\u001b[39m_retrieve()\n\u001b[1;32m   1597\u001b[0m \u001b[38;5;28;01mexcept\u001b[39;00m \u001b[38;5;167;01mGeneratorExit\u001b[39;00m:\n\u001b[1;32m   1598\u001b[0m     \u001b[38;5;66;03m# The generator has been garbage collected before being fully\u001b[39;00m\n\u001b[1;32m   1599\u001b[0m     \u001b[38;5;66;03m# consumed. This aborts the remaining tasks if possible and warn\u001b[39;00m\n\u001b[1;32m   1600\u001b[0m     \u001b[38;5;66;03m# the user if necessary.\u001b[39;00m\n\u001b[1;32m   1601\u001b[0m     \u001b[38;5;28mself\u001b[39m\u001b[38;5;241m.\u001b[39m_exception \u001b[38;5;241m=\u001b[39m \u001b[38;5;28;01mTrue\u001b[39;00m\n",
      "File \u001b[0;32m/opt/conda/lib/python3.10/site-packages/joblib/parallel.py:1707\u001b[0m, in \u001b[0;36mParallel._retrieve\u001b[0;34m(self)\u001b[0m\n\u001b[1;32m   1702\u001b[0m \u001b[38;5;66;03m# If the next job is not ready for retrieval yet, we just wait for\u001b[39;00m\n\u001b[1;32m   1703\u001b[0m \u001b[38;5;66;03m# async callbacks to progress.\u001b[39;00m\n\u001b[1;32m   1704\u001b[0m \u001b[38;5;28;01mif\u001b[39;00m ((\u001b[38;5;28mlen\u001b[39m(\u001b[38;5;28mself\u001b[39m\u001b[38;5;241m.\u001b[39m_jobs) \u001b[38;5;241m==\u001b[39m \u001b[38;5;241m0\u001b[39m) \u001b[38;5;129;01mor\u001b[39;00m\n\u001b[1;32m   1705\u001b[0m     (\u001b[38;5;28mself\u001b[39m\u001b[38;5;241m.\u001b[39m_jobs[\u001b[38;5;241m0\u001b[39m]\u001b[38;5;241m.\u001b[39mget_status(\n\u001b[1;32m   1706\u001b[0m         timeout\u001b[38;5;241m=\u001b[39m\u001b[38;5;28mself\u001b[39m\u001b[38;5;241m.\u001b[39mtimeout) \u001b[38;5;241m==\u001b[39m TASK_PENDING)):\n\u001b[0;32m-> 1707\u001b[0m     \u001b[43mtime\u001b[49m\u001b[38;5;241;43m.\u001b[39;49m\u001b[43msleep\u001b[49m\u001b[43m(\u001b[49m\u001b[38;5;241;43m0.01\u001b[39;49m\u001b[43m)\u001b[49m\n\u001b[1;32m   1708\u001b[0m     \u001b[38;5;28;01mcontinue\u001b[39;00m\n\u001b[1;32m   1710\u001b[0m \u001b[38;5;66;03m# We need to be careful: the job list can be filling up as\u001b[39;00m\n\u001b[1;32m   1711\u001b[0m \u001b[38;5;66;03m# we empty it and Python list are not thread-safe by\u001b[39;00m\n\u001b[1;32m   1712\u001b[0m \u001b[38;5;66;03m# default hence the use of the lock\u001b[39;00m\n",
      "\u001b[0;31mKeyboardInterrupt\u001b[0m: "
     ]
    }
   ],
   "source": [
    "import pickle\n",
    "import pandas as pd\n",
    "import numpy as np\n",
    "import matplotlib.pyplot as plt\n",
    "import seaborn as sns\n",
    "from sklearn.preprocessing import LabelEncoder\n",
    "from sklearn.model_selection import train_test_split\n",
    "from sklearn.ensemble import RandomForestRegressor\n",
    "from sklearn import metrics\n",
    "from catboost import CatBoostRegressor\n",
    "from tqdm import tqdm\n",
    "\n",
    "def calculate_se(target, pred):\n",
    "    squared_errors = (target - pred) ** 2\n",
    "    return squared_errors\n",
    "\n",
    "output_df = pd.DataFrame()\n",
    "test_score = []\n",
    "\n",
    "# Lists to store all predictions and targets for global RMSE calculation\n",
    "all_y_val = []\n",
    "all_rf_pred = []\n",
    "all_cb_pred = []\n",
    "\n",
    "for gu in df['구'].value_counts().keys():\n",
    "    print(gu)\n",
    "    concat_select_gu = df[df['구'] == gu]\n",
    "    print(concat_select_gu.shape)\n",
    "    dt_train = concat_select_gu.query('is_test == 0')\n",
    "    dt_test = concat_select_gu.query('is_test == 1')\n",
    "\n",
    "    # Drop the 'is_test' column\n",
    "    dt_train.drop(['is_test'], axis=1, inplace=True)\n",
    "    dt_test.drop(['is_test'], axis=1, inplace=True)\n",
    "    dt_test['target'] = 0\n",
    "\n",
    "    label_encoders = {}\n",
    "    continuous_columns_v2 = []\n",
    "    categorical_columns_v2 = []\n",
    "\n",
    "    for column in dt_train.columns:\n",
    "        if pd.api.types.is_numeric_dtype(dt_train[column]):\n",
    "            continuous_columns_v2.append(column)\n",
    "        else:\n",
    "            categorical_columns_v2.append(column)\n",
    "\n",
    "    for col in tqdm(categorical_columns_v2):\n",
    "        lbl = LabelEncoder()\n",
    "        lbl.fit(dt_train[col].astype(str))\n",
    "        dt_train[col] = lbl.transform(dt_train[col].astype(str))\n",
    "        label_encoders[col] = lbl\n",
    "\n",
    "        for label in np.unique(dt_test[col]):\n",
    "            if label not in lbl.classes_:\n",
    "                lbl.classes_ = np.append(lbl.classes_, label)\n",
    "\n",
    "        dt_test[col] = lbl.transform(dt_test[col].astype(str))\n",
    "\n",
    "    assert dt_train.shape[1] == dt_test.shape[1]\n",
    "\n",
    "    y_train = dt_train['target']\n",
    "    X_train = dt_train.drop(['target'], axis=1)\n",
    "    # Split data for training and validation\n",
    "    X_train, X_val, y_train, y_val = train_test_split(X_train, y_train, test_size=0.2, random_state=2023)\n",
    "\n",
    "    # Initialize and train RandomForest model with best hyperparameters\n",
    "    rf_model = RandomForestRegressor(\n",
    "        n_estimators=200,\n",
    "        max_depth=10,\n",
    "        min_samples_split=2,\n",
    "        min_samples_leaf=1,\n",
    "        max_features='auto',\n",
    "        random_state=1,\n",
    "        n_jobs=-1\n",
    "    )\n",
    "    rf_model.fit(X_train, y_train)\n",
    "    rf_pred = rf_model.predict(X_val)\n",
    "\n",
    "    # Initialize and train CatBoost model\n",
    "    cb_model = CatBoostRegressor(\n",
    "        iterations=700,\n",
    "        depth=10,\n",
    "        learning_rate=0.1,\n",
    "        loss_function='RMSE',\n",
    "        random_state=1,\n",
    "        verbose=100\n",
    "    )\n",
    "    cb_model.fit(X_train, y_train, eval_set=(X_val, y_val), plot=False)\n",
    "    cb_pred = cb_model.predict(X_val)\n",
    "\n",
    "    # Calculate RMSE for both models\n",
    "    rf_rmse = np.sqrt(metrics.mean_squared_error(y_val, rf_pred))\n",
    "    cb_rmse = np.sqrt(metrics.mean_squared_error(y_val, cb_pred))\n",
    "    test_score.append((gu, rf_rmse, cb_rmse))\n",
    "\n",
    "    # Store predictions and actual values for global RMSE calculation\n",
    "    all_y_val.extend(y_val)\n",
    "    all_rf_pred.extend(rf_pred)\n",
    "    all_cb_pred.extend(cb_pred)\n",
    "\n",
    "    # Save both models\n",
    "    with open('saved_rf_model.pkl', 'wb') as f:\n",
    "        pickle.dump(rf_model, f)\n",
    "    \n",
    "    with open('saved_cb_model.pkl', 'wb') as f:\n",
    "        pickle.dump(cb_model, f)\n",
    "\n",
    "    # Load models\n",
    "    with open('saved_rf_model.pkl', 'rb') as f:\n",
    "        rf_model = pickle.load(f)\n",
    "    \n",
    "    with open('saved_cb_model.pkl', 'rb') as f:\n",
    "        cb_model = pickle.load(f)\n",
    "\n",
    "    # Drop 'target' and 'index' columns before prediction\n",
    "    X_test = dt_test.drop(columns=['target', 'index'], errors='ignore')\n",
    "\n",
    "    # Ensure columns match between train and test\n",
    "    X_test = X_test.reindex(columns=X_train.columns, fill_value=0)  # Align columns with training data\n",
    "\n",
    "    # Make predictions with both models\n",
    "    rf_test_pred = rf_model.predict(X_test)\n",
    "    cb_test_pred = cb_model.predict(X_test)\n",
    "\n",
    "    # Average the predictions from both models\n",
    "    final_pred = (rf_test_pred * 0.7 + cb_test_pred * 0.3)  # 0.7 for RandomForest, 0.3 for CatBoost\n",
    "\n",
    "    # Prepare the results\n",
    "    preds_df = pd.DataFrame(final_pred.astype(int), columns=[\"target\"])\n",
    "    preds_df_gu = pd.concat([dt_test['index'].reset_index(drop=True), preds_df], axis=1)\n",
    "    \n",
    "    output_df = pd.concat([output_df, preds_df_gu])\n",
    "\n",
    "# Sort and save the output dataframe with only the target column\n",
    "output_df.sort_values('index').drop('index', axis=1).to_csv('7월19일_앙상블_하이퍼파라미터튜닝.csv', index=False)\n",
    "\n",
    "# Calculate global RMSE\n",
    "all_y_val = np.array(all_y_val)\n",
    "all_rf_pred = np.array(all_rf_pred)\n",
    "all_cb_pred = np.array(all_cb_pred)\n",
    "\n",
    "# Compute final prediction using the same weights\n",
    "final_global_pred = (all_rf_pred * 0.7 + all_cb_pred * 0.3)\n",
    "global_rmse = np.sqrt(metrics.mean_squared_error(all_y_val, final_global_pred))\n",
    "\n",
    "print(\"Test scores (RMSE) for each 구:\")\n",
    "for score in test_score:\n",
    "    print(f\"{score[0]}: RF RMSE = {score[1]:.4f}, CB RMSE = {score[2]:.4f}\")\n",
    "\n",
    "print(f\"Global RMSE for the ensemble model: {global_rmse:.4f}\")\n",
    "\n",
    "# Feature Importance Visualization\n",
    "importances_rf = pd.Series(rf_model.feature_importances_, index=X_train.columns)\n",
    "importances_rf = importances_rf.sort_values(ascending=False)\n",
    "\n",
    "importances_cb = pd.Series(cb_model.get_feature_importance(), index=X_train.columns)\n",
    "importances_cb = importances_cb.sort_values(ascending=False)\n",
    "\n",
    "plt.figure(figsize=(14, 6))\n",
    "\n",
    "# RandomForest Feature Importance\n",
    "plt.subplot(1, 2, 1)\n",
    "sns.barplot(x=importances_rf, y=importances_rf.index)\n",
    "plt.title('RandomForest Feature Importance')\n",
    "\n",
    "# CatBoost Feature Importance\n",
    "plt.subplot(1, 2, 2)\n",
    "sns.barplot(x=importances_cb, y=importances_cb.index)\n",
    "plt.title('CatBoost Feature Importance')\n",
    "\n",
    "plt.tight_layout()\n",
    "plt.show()\n"
   ]
  },
  {
   "cell_type": "markdown",
   "metadata": {},
   "source": [
    "---"
   ]
  },
  {
   "cell_type": "code",
   "execution_count": 14,
   "metadata": {},
   "outputs": [
    {
     "name": "stdout",
     "output_type": "stream",
     "text": [
      "노원구\n",
      "(114864, 26)\n"
     ]
    },
    {
     "name": "stderr",
     "output_type": "stream",
     "text": [
      "100%|██████████| 4/4 [00:00<00:00, 51.96it/s]\n"
     ]
    },
    {
     "name": "stdout",
     "output_type": "stream",
     "text": [
      "0:\tlearn: 16015.1627976\ttest: 16262.9310918\tbest: 16262.9310918 (0)\ttotal: 11.6ms\tremaining: 8.1s\n",
      "100:\tlearn: 2611.3510496\ttest: 2669.4374903\tbest: 2669.4374903 (100)\ttotal: 935ms\tremaining: 5.54s\n",
      "200:\tlearn: 2272.9412324\ttest: 2413.5788282\tbest: 2413.5788282 (200)\ttotal: 1.9s\tremaining: 4.72s\n",
      "300:\tlearn: 2143.7859753\ttest: 2350.0691306\tbest: 2350.0691306 (300)\ttotal: 2.85s\tremaining: 3.78s\n",
      "400:\tlearn: 2059.4269489\ttest: 2327.9223638\tbest: 2327.8715619 (394)\ttotal: 3.78s\tremaining: 2.82s\n",
      "500:\tlearn: 1995.4926858\ttest: 2316.0543735\tbest: 2315.4288374 (494)\ttotal: 4.69s\tremaining: 1.86s\n",
      "600:\tlearn: 1948.5797725\ttest: 2314.2324072\tbest: 2314.1052032 (584)\ttotal: 5.59s\tremaining: 921ms\n",
      "699:\tlearn: 1911.3173771\ttest: 2314.0636769\tbest: 2312.6442156 (681)\ttotal: 6.5s\tremaining: 0us\n",
      "\n",
      "bestTest = 2312.644216\n",
      "bestIteration = 681\n",
      "\n",
      "Shrink model to first 682 iterations.\n",
      "송파구\n",
      "(72102, 26)\n"
     ]
    },
    {
     "name": "stderr",
     "output_type": "stream",
     "text": [
      "100%|██████████| 4/4 [00:00<00:00, 79.88it/s]\n"
     ]
    },
    {
     "name": "stdout",
     "output_type": "stream",
     "text": [
      "0:\tlearn: 43901.0961575\ttest: 43716.2376681\tbest: 43716.2376681 (0)\ttotal: 9.74ms\tremaining: 6.81s\n",
      "100:\tlearn: 6891.9496192\ttest: 7354.8670087\tbest: 7354.8670087 (100)\ttotal: 810ms\tremaining: 4.8s\n",
      "200:\tlearn: 5891.6934288\ttest: 6640.3215106\tbest: 6640.3215106 (200)\ttotal: 1.61s\tremaining: 3.99s\n",
      "300:\tlearn: 5411.6568153\ttest: 6398.7806998\tbest: 6398.7806998 (300)\ttotal: 2.4s\tremaining: 3.18s\n",
      "400:\tlearn: 5117.9591652\ttest: 6285.1243974\tbest: 6285.1243974 (400)\ttotal: 3.19s\tremaining: 2.38s\n",
      "500:\tlearn: 4911.8536245\ttest: 6224.0387032\tbest: 6224.0387032 (500)\ttotal: 3.95s\tremaining: 1.57s\n",
      "600:\tlearn: 4748.1780810\ttest: 6193.2305281\tbest: 6193.0400203 (599)\ttotal: 4.75s\tremaining: 783ms\n",
      "699:\tlearn: 4614.6003557\ttest: 6175.8536085\tbest: 6175.8536085 (699)\ttotal: 5.54s\tremaining: 0us\n",
      "\n",
      "bestTest = 6175.853608\n",
      "bestIteration = 699\n",
      "\n",
      "강남구\n",
      "(65941, 26)\n"
     ]
    },
    {
     "name": "stderr",
     "output_type": "stream",
     "text": [
      "100%|██████████| 4/4 [00:00<00:00, 82.08it/s]\n"
     ]
    },
    {
     "name": "stdout",
     "output_type": "stream",
     "text": [
      "0:\tlearn: 73614.5167218\ttest: 74620.5857216\tbest: 74620.5857216 (0)\ttotal: 10.9ms\tremaining: 7.63s\n",
      "100:\tlearn: 13027.1755855\ttest: 14947.9128629\tbest: 14947.9128629 (100)\ttotal: 806ms\tremaining: 4.78s\n",
      "200:\tlearn: 10853.3924140\ttest: 13607.2554317\tbest: 13607.2554317 (200)\ttotal: 1.57s\tremaining: 3.9s\n",
      "300:\tlearn: 9759.4745689\ttest: 13159.1975510\tbest: 13158.9908594 (299)\ttotal: 2.34s\tremaining: 3.1s\n",
      "400:\tlearn: 9057.1851129\ttest: 12925.1880502\tbest: 12925.1880502 (400)\ttotal: 3.11s\tremaining: 2.32s\n",
      "500:\tlearn: 8536.8500899\ttest: 12811.1579707\tbest: 12810.3848442 (499)\ttotal: 3.91s\tremaining: 1.55s\n",
      "600:\tlearn: 8128.0370621\ttest: 12723.2412834\tbest: 12717.1853076 (591)\ttotal: 4.68s\tremaining: 771ms\n",
      "699:\tlearn: 7795.2008331\ttest: 12658.4690994\tbest: 12658.0064441 (696)\ttotal: 5.54s\tremaining: 0us\n",
      "\n",
      "bestTest = 12658.00644\n",
      "bestIteration = 696\n",
      "\n",
      "Shrink model to first 697 iterations.\n",
      "강서구\n",
      "(65192, 26)\n"
     ]
    },
    {
     "name": "stderr",
     "output_type": "stream",
     "text": [
      "100%|██████████| 4/4 [00:00<00:00, 82.98it/s]\n"
     ]
    },
    {
     "name": "stdout",
     "output_type": "stream",
     "text": [
      "0:\tlearn: 22151.8959552\ttest: 21708.7409822\tbest: 21708.7409822 (0)\ttotal: 10.1ms\tremaining: 7.07s\n",
      "100:\tlearn: 3480.0782724\ttest: 3810.9986429\tbest: 3810.9986429 (100)\ttotal: 779ms\tremaining: 4.62s\n",
      "200:\tlearn: 3000.7337413\ttest: 3458.5259690\tbest: 3458.5259690 (200)\ttotal: 1.56s\tremaining: 3.88s\n",
      "300:\tlearn: 2789.6910833\ttest: 3343.1736544\tbest: 3343.1736544 (300)\ttotal: 2.34s\tremaining: 3.11s\n",
      "400:\tlearn: 2649.8600849\ttest: 3294.7330611\tbest: 3294.6545576 (399)\ttotal: 3.12s\tremaining: 2.33s\n",
      "500:\tlearn: 2549.9724704\ttest: 3272.3374750\tbest: 3272.3374750 (500)\ttotal: 3.88s\tremaining: 1.54s\n",
      "600:\tlearn: 2469.4906308\ttest: 3257.4781217\tbest: 3257.1006368 (591)\ttotal: 4.64s\tremaining: 764ms\n",
      "699:\tlearn: 2405.2585270\ttest: 3252.3110845\tbest: 3252.0994315 (682)\ttotal: 5.43s\tremaining: 0us\n",
      "\n",
      "bestTest = 3252.099432\n",
      "bestIteration = 682\n",
      "\n",
      "Shrink model to first 683 iterations.\n",
      "구로구\n",
      "(57612, 26)\n"
     ]
    },
    {
     "name": "stderr",
     "output_type": "stream",
     "text": [
      "100%|██████████| 4/4 [00:00<00:00, 93.15it/s]\n"
     ]
    },
    {
     "name": "stdout",
     "output_type": "stream",
     "text": [
      "0:\tlearn: 18264.7335148\ttest: 18351.1527456\tbest: 18351.1527456 (0)\ttotal: 9.7ms\tremaining: 6.78s\n",
      "100:\tlearn: 2901.5048785\ttest: 3232.0147698\tbest: 3232.0147698 (100)\ttotal: 785ms\tremaining: 4.65s\n",
      "200:\tlearn: 2452.4206015\ttest: 2971.1842531\tbest: 2971.1842531 (200)\ttotal: 1.55s\tremaining: 3.86s\n",
      "300:\tlearn: 2256.6870103\ttest: 2902.1663839\tbest: 2902.1663839 (300)\ttotal: 2.31s\tremaining: 3.07s\n",
      "400:\tlearn: 2137.2910068\ttest: 2879.7133926\tbest: 2879.7133926 (400)\ttotal: 3.1s\tremaining: 2.31s\n",
      "500:\tlearn: 2044.9821063\ttest: 2873.1695773\tbest: 2872.2233537 (436)\ttotal: 3.84s\tremaining: 1.53s\n",
      "600:\tlearn: 1974.2837551\ttest: 2866.8600220\tbest: 2865.1664506 (572)\ttotal: 4.63s\tremaining: 763ms\n",
      "699:\tlearn: 1915.9760627\ttest: 2863.2700317\tbest: 2862.2969719 (639)\ttotal: 5.4s\tremaining: 0us\n",
      "\n",
      "bestTest = 2862.296972\n",
      "bestIteration = 639\n",
      "\n",
      "Shrink model to first 640 iterations.\n",
      "성북구\n",
      "(56733, 26)\n"
     ]
    },
    {
     "name": "stderr",
     "output_type": "stream",
     "text": [
      "100%|██████████| 4/4 [00:00<00:00, 103.88it/s]\n"
     ]
    },
    {
     "name": "stdout",
     "output_type": "stream",
     "text": [
      "0:\tlearn: 18328.2365292\ttest: 18176.6721690\tbest: 18176.6721690 (0)\ttotal: 9.53ms\tremaining: 6.66s\n",
      "100:\tlearn: 2965.8998433\ttest: 3261.7453060\tbest: 3261.7453060 (100)\ttotal: 739ms\tremaining: 4.38s\n",
      "200:\tlearn: 2575.2847879\ttest: 3017.2557287\tbest: 3017.2557287 (200)\ttotal: 1.45s\tremaining: 3.6s\n",
      "300:\tlearn: 2402.9025978\ttest: 2954.4844085\tbest: 2954.4844085 (300)\ttotal: 2.19s\tremaining: 2.9s\n",
      "400:\tlearn: 2295.9030469\ttest: 2936.8738304\tbest: 2936.8738304 (400)\ttotal: 2.91s\tremaining: 2.17s\n",
      "500:\tlearn: 2223.3154557\ttest: 2925.0579825\tbest: 2923.7154848 (497)\ttotal: 3.63s\tremaining: 1.44s\n",
      "600:\tlearn: 2159.8278734\ttest: 2923.9835539\tbest: 2923.7154848 (497)\ttotal: 4.38s\tremaining: 721ms\n",
      "699:\tlearn: 2106.7650034\ttest: 2927.7729272\tbest: 2923.4145975 (603)\ttotal: 5.12s\tremaining: 0us\n",
      "\n",
      "bestTest = 2923.414598\n",
      "bestIteration = 603\n",
      "\n",
      "Shrink model to first 604 iterations.\n",
      "양천구\n",
      "(54106, 26)\n"
     ]
    },
    {
     "name": "stderr",
     "output_type": "stream",
     "text": [
      "100%|██████████| 4/4 [00:00<00:00, 100.12it/s]\n"
     ]
    },
    {
     "name": "stdout",
     "output_type": "stream",
     "text": [
      "0:\tlearn: 34590.3894919\ttest: 34738.8200448\tbest: 34738.8200448 (0)\ttotal: 8.97ms\tremaining: 6.27s\n",
      "100:\tlearn: 4821.6487350\ttest: 5298.0259823\tbest: 5298.0259823 (100)\ttotal: 742ms\tremaining: 4.4s\n",
      "200:\tlearn: 3965.8889250\ttest: 4638.9543398\tbest: 4638.9543398 (200)\ttotal: 1.47s\tremaining: 3.66s\n",
      "300:\tlearn: 3599.9385483\ttest: 4466.0000986\tbest: 4466.0000986 (300)\ttotal: 2.21s\tremaining: 2.94s\n",
      "400:\tlearn: 3362.6565357\ttest: 4382.7545758\tbest: 4382.7545758 (400)\ttotal: 2.97s\tremaining: 2.21s\n",
      "500:\tlearn: 3189.9473140\ttest: 4337.0181233\tbest: 4337.0181233 (500)\ttotal: 3.72s\tremaining: 1.48s\n",
      "600:\tlearn: 3060.7236324\ttest: 4315.4842226\tbest: 4315.1079871 (599)\ttotal: 4.47s\tremaining: 737ms\n",
      "699:\tlearn: 2958.7791581\ttest: 4305.5211443\tbest: 4305.3142514 (680)\ttotal: 5.2s\tremaining: 0us\n",
      "\n",
      "bestTest = 4305.314251\n",
      "bestIteration = 680\n",
      "\n",
      "Shrink model to first 681 iterations.\n",
      "강동구\n",
      "(53467, 26)\n"
     ]
    },
    {
     "name": "stderr",
     "output_type": "stream",
     "text": [
      "100%|██████████| 4/4 [00:00<00:00, 100.94it/s]\n"
     ]
    },
    {
     "name": "stdout",
     "output_type": "stream",
     "text": [
      "0:\tlearn: 26331.0738389\ttest: 26429.3017548\tbest: 26429.3017548 (0)\ttotal: 9.1ms\tremaining: 6.36s\n",
      "100:\tlearn: 4038.0630644\ttest: 4543.7839582\tbest: 4543.7839582 (100)\ttotal: 745ms\tremaining: 4.42s\n",
      "200:\tlearn: 3415.7274293\ttest: 4114.4165423\tbest: 4114.4165423 (200)\ttotal: 1.47s\tremaining: 3.66s\n",
      "300:\tlearn: 3146.8863705\ttest: 3988.6287183\tbest: 3986.9318511 (299)\ttotal: 2.21s\tremaining: 2.92s\n",
      "400:\tlearn: 2965.7756521\ttest: 3920.7147421\tbest: 3920.7147421 (400)\ttotal: 2.93s\tremaining: 2.18s\n",
      "500:\tlearn: 2834.1309163\ttest: 3882.1541968\tbest: 3882.1541968 (500)\ttotal: 3.67s\tremaining: 1.46s\n",
      "600:\tlearn: 2731.1934353\ttest: 3864.9194204\tbest: 3864.9048761 (598)\ttotal: 4.42s\tremaining: 728ms\n",
      "699:\tlearn: 2650.5152350\ttest: 3851.7989832\tbest: 3851.6953749 (697)\ttotal: 5.15s\tremaining: 0us\n",
      "\n",
      "bestTest = 3851.695375\n",
      "bestIteration = 697\n",
      "\n",
      "Shrink model to first 698 iterations.\n",
      "도봉구\n",
      "(52800, 26)\n"
     ]
    },
    {
     "name": "stderr",
     "output_type": "stream",
     "text": [
      "100%|██████████| 4/4 [00:00<00:00, 109.39it/s]\n"
     ]
    },
    {
     "name": "stdout",
     "output_type": "stream",
     "text": [
      "0:\tlearn: 14566.5650627\ttest: 14677.5824188\tbest: 14677.5824188 (0)\ttotal: 9.12ms\tremaining: 6.37s\n",
      "100:\tlearn: 2412.0537742\ttest: 2679.8524115\tbest: 2679.8524115 (100)\ttotal: 740ms\tremaining: 4.39s\n",
      "200:\tlearn: 2129.8291816\ttest: 2513.5097480\tbest: 2513.5097480 (200)\ttotal: 1.48s\tremaining: 3.68s\n",
      "300:\tlearn: 2006.7319803\ttest: 2470.5896284\tbest: 2470.4887699 (299)\ttotal: 2.23s\tremaining: 2.95s\n",
      "400:\tlearn: 1925.6028576\ttest: 2450.8419937\tbest: 2450.8419937 (400)\ttotal: 2.97s\tremaining: 2.22s\n",
      "500:\tlearn: 1864.7872163\ttest: 2442.0864095\tbest: 2441.7592087 (498)\ttotal: 3.68s\tremaining: 1.46s\n",
      "600:\tlearn: 1818.3509757\ttest: 2439.7324282\tbest: 2439.0230364 (583)\ttotal: 4.4s\tremaining: 724ms\n",
      "699:\tlearn: 1780.2362986\ttest: 2439.5148600\tbest: 2437.9372835 (658)\ttotal: 5.1s\tremaining: 0us\n",
      "\n",
      "bestTest = 2437.937284\n",
      "bestIteration = 658\n",
      "\n",
      "Shrink model to first 659 iterations.\n",
      "서초구\n",
      "(48159, 26)\n"
     ]
    },
    {
     "name": "stderr",
     "output_type": "stream",
     "text": [
      "100%|██████████| 4/4 [00:00<00:00, 98.86it/s]\n"
     ]
    },
    {
     "name": "stdout",
     "output_type": "stream",
     "text": [
      "0:\tlearn: 66540.2052468\ttest: 68922.7606918\tbest: 68922.7606918 (0)\ttotal: 9.7ms\tremaining: 6.78s\n",
      "100:\tlearn: 11325.6046092\ttest: 13056.1622591\tbest: 13056.1622591 (100)\ttotal: 757ms\tremaining: 4.49s\n",
      "200:\tlearn: 9326.0574990\ttest: 11764.3990422\tbest: 11764.3990422 (200)\ttotal: 1.47s\tremaining: 3.65s\n",
      "300:\tlearn: 8382.4594251\ttest: 11378.8804793\tbest: 11378.8804793 (300)\ttotal: 2.21s\tremaining: 2.93s\n",
      "400:\tlearn: 7811.4441342\ttest: 11146.3540403\tbest: 11146.1860701 (399)\ttotal: 2.98s\tremaining: 2.22s\n",
      "500:\tlearn: 7363.2237602\ttest: 11022.7407353\tbest: 11022.7407353 (500)\ttotal: 3.72s\tremaining: 1.48s\n",
      "600:\tlearn: 7027.6239502\ttest: 10978.2640763\tbest: 10978.2640763 (600)\ttotal: 4.45s\tremaining: 733ms\n",
      "699:\tlearn: 6734.4493263\ttest: 10947.7957338\tbest: 10947.7957338 (699)\ttotal: 5.18s\tremaining: 0us\n",
      "\n",
      "bestTest = 10947.79573\n",
      "bestIteration = 699\n",
      "\n",
      "영등포구\n",
      "(47738, 26)\n"
     ]
    },
    {
     "name": "stderr",
     "output_type": "stream",
     "text": [
      "100%|██████████| 4/4 [00:00<00:00, 115.16it/s]\n"
     ]
    },
    {
     "name": "stdout",
     "output_type": "stream",
     "text": [
      "0:\tlearn: 34777.5390771\ttest: 34244.2695293\tbest: 34244.2695293 (0)\ttotal: 8.87ms\tremaining: 6.2s\n",
      "100:\tlearn: 4826.2325317\ttest: 5441.8298120\tbest: 5441.8298120 (100)\ttotal: 729ms\tremaining: 4.32s\n",
      "200:\tlearn: 3867.6300853\ttest: 4771.4892168\tbest: 4771.4892168 (200)\ttotal: 1.47s\tremaining: 3.65s\n",
      "300:\tlearn: 3453.1251810\ttest: 4559.5084387\tbest: 4559.5084387 (300)\ttotal: 2.18s\tremaining: 2.89s\n",
      "400:\tlearn: 3203.8811902\ttest: 4473.3794388\tbest: 4473.2629839 (394)\ttotal: 2.9s\tremaining: 2.16s\n",
      "500:\tlearn: 3013.9674170\ttest: 4421.4614092\tbest: 4421.2031409 (499)\ttotal: 3.61s\tremaining: 1.43s\n",
      "600:\tlearn: 2869.9589637\ttest: 4396.3920661\tbest: 4396.1989078 (598)\ttotal: 4.33s\tremaining: 712ms\n",
      "699:\tlearn: 2752.8839017\ttest: 4381.6605523\tbest: 4380.5949684 (697)\ttotal: 5.03s\tremaining: 0us\n",
      "\n",
      "bestTest = 4380.594968\n",
      "bestIteration = 697\n",
      "\n",
      "Shrink model to first 698 iterations.\n",
      "마포구\n",
      "(40512, 26)\n"
     ]
    },
    {
     "name": "stderr",
     "output_type": "stream",
     "text": [
      "100%|██████████| 4/4 [00:00<00:00, 129.22it/s]\n"
     ]
    },
    {
     "name": "stdout",
     "output_type": "stream",
     "text": [
      "0:\tlearn: 32708.0821011\ttest: 32729.8089291\tbest: 32729.8089291 (0)\ttotal: 8.27ms\tremaining: 5.78s\n",
      "100:\tlearn: 5363.5018343\ttest: 5916.3304341\tbest: 5916.3304341 (100)\ttotal: 732ms\tremaining: 4.34s\n",
      "200:\tlearn: 4555.7276544\ttest: 5461.8362871\tbest: 5461.1434896 (196)\ttotal: 1.44s\tremaining: 3.56s\n",
      "300:\tlearn: 4155.3518754\ttest: 5311.8066301\tbest: 5311.2957230 (296)\ttotal: 2.14s\tremaining: 2.83s\n",
      "400:\tlearn: 3897.9976492\ttest: 5264.2221753\tbest: 5264.1919006 (399)\ttotal: 2.85s\tremaining: 2.13s\n",
      "500:\tlearn: 3715.8873839\ttest: 5251.6460122\tbest: 5248.9645975 (485)\ttotal: 3.56s\tremaining: 1.41s\n",
      "600:\tlearn: 3573.7115727\ttest: 5243.9933417\tbest: 5243.9933417 (600)\ttotal: 4.25s\tremaining: 701ms\n",
      "699:\tlearn: 3459.3691988\ttest: 5242.8834804\tbest: 5241.8699393 (666)\ttotal: 4.94s\tremaining: 0us\n",
      "\n",
      "bestTest = 5241.869939\n",
      "bestIteration = 666\n",
      "\n",
      "Shrink model to first 667 iterations.\n",
      "동작구\n",
      "(40371, 26)\n"
     ]
    },
    {
     "name": "stderr",
     "output_type": "stream",
     "text": [
      "100%|██████████| 4/4 [00:00<00:00, 136.32it/s]\n"
     ]
    },
    {
     "name": "stdout",
     "output_type": "stream",
     "text": [
      "0:\tlearn: 27270.4895093\ttest: 26051.6687314\tbest: 26051.6687314 (0)\ttotal: 7.82ms\tremaining: 5.46s\n",
      "100:\tlearn: 4364.4372151\ttest: 4606.9924913\tbest: 4606.9924913 (100)\ttotal: 690ms\tremaining: 4.09s\n",
      "200:\tlearn: 3702.6923089\ttest: 4190.9809663\tbest: 4190.9809663 (200)\ttotal: 1.38s\tremaining: 3.43s\n",
      "300:\tlearn: 3392.7671466\ttest: 4066.4699704\tbest: 4065.8313449 (299)\ttotal: 2.1s\tremaining: 2.78s\n",
      "400:\tlearn: 3196.2786874\ttest: 4007.4794517\tbest: 4007.4794517 (400)\ttotal: 2.8s\tremaining: 2.09s\n",
      "500:\tlearn: 3051.4816341\ttest: 3980.1927134\tbest: 3980.0549189 (499)\ttotal: 3.51s\tremaining: 1.39s\n",
      "600:\tlearn: 2942.2190290\ttest: 3968.1702453\tbest: 3966.7531908 (595)\ttotal: 4.21s\tremaining: 693ms\n",
      "699:\tlearn: 2848.2423954\ttest: 3960.6345580\tbest: 3959.3277100 (691)\ttotal: 4.91s\tremaining: 0us\n",
      "\n",
      "bestTest = 3959.32771\n",
      "bestIteration = 691\n",
      "\n",
      "Shrink model to first 692 iterations.\n",
      "동대문구\n",
      "(39955, 26)\n"
     ]
    },
    {
     "name": "stderr",
     "output_type": "stream",
     "text": [
      "100%|██████████| 4/4 [00:00<00:00, 137.29it/s]\n"
     ]
    },
    {
     "name": "stdout",
     "output_type": "stream",
     "text": [
      "0:\tlearn: 20964.7923530\ttest: 20584.1625684\tbest: 20584.1625684 (0)\ttotal: 9.27ms\tremaining: 6.48s\n",
      "100:\tlearn: 3069.0157947\ttest: 3239.7020472\tbest: 3239.7020472 (100)\ttotal: 714ms\tremaining: 4.24s\n",
      "200:\tlearn: 2620.8509282\ttest: 2958.3768293\tbest: 2958.3768293 (200)\ttotal: 1.41s\tremaining: 3.5s\n",
      "300:\tlearn: 2407.8655898\ttest: 2877.8991845\tbest: 2877.8991845 (300)\ttotal: 2.1s\tremaining: 2.78s\n",
      "400:\tlearn: 2265.9681559\ttest: 2852.4190879\tbest: 2852.3114542 (398)\ttotal: 2.8s\tremaining: 2.08s\n",
      "500:\tlearn: 2163.5901035\ttest: 2837.8368823\tbest: 2837.8368823 (500)\ttotal: 3.52s\tremaining: 1.4s\n",
      "600:\tlearn: 2082.6551466\ttest: 2831.7021928\tbest: 2831.4588011 (599)\ttotal: 4.22s\tremaining: 695ms\n",
      "699:\tlearn: 2022.0177977\ttest: 2827.4808765\tbest: 2826.9125928 (673)\ttotal: 4.92s\tremaining: 0us\n",
      "\n",
      "bestTest = 2826.912593\n",
      "bestIteration = 673\n",
      "\n",
      "Shrink model to first 674 iterations.\n",
      "성동구\n",
      "(39654, 26)\n"
     ]
    },
    {
     "name": "stderr",
     "output_type": "stream",
     "text": [
      "100%|██████████| 4/4 [00:00<00:00, 141.03it/s]\n"
     ]
    },
    {
     "name": "stdout",
     "output_type": "stream",
     "text": [
      "0:\tlearn: 40589.8307823\ttest: 37955.9611022\tbest: 37955.9611022 (0)\ttotal: 8.29ms\tremaining: 5.79s\n",
      "100:\tlearn: 5892.6049919\ttest: 7047.2802271\tbest: 7047.2802271 (100)\ttotal: 687ms\tremaining: 4.07s\n",
      "200:\tlearn: 4858.3795308\ttest: 6530.6750042\tbest: 6530.6750042 (200)\ttotal: 1.32s\tremaining: 3.29s\n",
      "300:\tlearn: 4409.8614470\ttest: 6432.3847079\tbest: 6432.3847079 (300)\ttotal: 1.99s\tremaining: 2.64s\n",
      "400:\tlearn: 4130.5007298\ttest: 6435.1300377\tbest: 6427.7850595 (323)\ttotal: 2.67s\tremaining: 1.99s\n",
      "500:\tlearn: 3938.3258404\ttest: 6446.9466449\tbest: 6427.7850595 (323)\ttotal: 3.32s\tremaining: 1.32s\n",
      "600:\tlearn: 3788.8890463\ttest: 6462.9627005\tbest: 6427.7850595 (323)\ttotal: 4.01s\tremaining: 660ms\n",
      "699:\tlearn: 3667.0137098\ttest: 6477.3075290\tbest: 6427.7850595 (323)\ttotal: 4.67s\tremaining: 0us\n",
      "\n",
      "bestTest = 6427.785059\n",
      "bestIteration = 323\n",
      "\n",
      "Shrink model to first 324 iterations.\n",
      "은평구\n",
      "(38297, 26)\n"
     ]
    },
    {
     "name": "stderr",
     "output_type": "stream",
     "text": [
      "100%|██████████| 4/4 [00:00<00:00, 128.50it/s]\n"
     ]
    },
    {
     "name": "stdout",
     "output_type": "stream",
     "text": [
      "0:\tlearn: 19788.2104837\ttest: 19233.7650155\tbest: 19233.7650155 (0)\ttotal: 8.09ms\tremaining: 5.66s\n",
      "100:\tlearn: 3701.2041274\ttest: 4020.8838745\tbest: 4020.8838745 (100)\ttotal: 711ms\tremaining: 4.22s\n",
      "200:\tlearn: 3133.6382468\ttest: 3730.4759076\tbest: 3730.4759076 (200)\ttotal: 1.44s\tremaining: 3.58s\n",
      "300:\tlearn: 2844.8059052\ttest: 3636.0607253\tbest: 3635.9808136 (299)\ttotal: 2.15s\tremaining: 2.86s\n",
      "400:\tlearn: 2652.7735364\ttest: 3595.1250961\tbest: 3595.1250961 (400)\ttotal: 2.84s\tremaining: 2.12s\n",
      "500:\tlearn: 2517.6529065\ttest: 3588.5047732\tbest: 3588.5047732 (500)\ttotal: 3.54s\tremaining: 1.4s\n",
      "600:\tlearn: 2411.7010671\ttest: 3589.8317134\tbest: 3587.4410767 (514)\ttotal: 4.23s\tremaining: 697ms\n",
      "699:\tlearn: 2331.3777166\ttest: 3597.5349678\tbest: 3587.4410767 (514)\ttotal: 4.94s\tremaining: 0us\n",
      "\n",
      "bestTest = 3587.441077\n",
      "bestIteration = 514\n",
      "\n",
      "Shrink model to first 515 iterations.\n",
      "중랑구\n",
      "(37256, 26)\n"
     ]
    },
    {
     "name": "stderr",
     "output_type": "stream",
     "text": [
      "100%|██████████| 4/4 [00:00<00:00, 145.33it/s]\n"
     ]
    },
    {
     "name": "stdout",
     "output_type": "stream",
     "text": [
      "0:\tlearn: 15392.7255442\ttest: 15653.2367204\tbest: 15653.2367204 (0)\ttotal: 8.95ms\tremaining: 6.26s\n",
      "100:\tlearn: 2435.3140818\ttest: 2756.0326428\tbest: 2756.0326428 (100)\ttotal: 716ms\tremaining: 4.25s\n",
      "200:\tlearn: 2092.5106619\ttest: 2568.1145494\tbest: 2568.1145494 (200)\ttotal: 1.44s\tremaining: 3.57s\n",
      "300:\tlearn: 1930.1578309\ttest: 2510.2608289\tbest: 2510.2608289 (300)\ttotal: 2.13s\tremaining: 2.83s\n",
      "400:\tlearn: 1819.3315308\ttest: 2486.1330778\tbest: 2486.1163433 (399)\ttotal: 2.84s\tremaining: 2.12s\n",
      "500:\tlearn: 1740.8562326\ttest: 2473.1934209\tbest: 2473.1934209 (500)\ttotal: 3.54s\tremaining: 1.41s\n",
      "600:\tlearn: 1678.8647468\ttest: 2467.9397521\tbest: 2467.8768492 (598)\ttotal: 4.28s\tremaining: 706ms\n",
      "699:\tlearn: 1626.0097891\ttest: 2463.6866599\tbest: 2463.4951830 (694)\ttotal: 5.03s\tremaining: 0us\n",
      "\n",
      "bestTest = 2463.495183\n",
      "bestIteration = 694\n",
      "\n",
      "Shrink model to first 695 iterations.\n",
      "관악구\n",
      "(36219, 26)\n"
     ]
    },
    {
     "name": "stderr",
     "output_type": "stream",
     "text": [
      "100%|██████████| 4/4 [00:00<00:00, 151.13it/s]\n"
     ]
    },
    {
     "name": "stdout",
     "output_type": "stream",
     "text": [
      "0:\tlearn: 16818.0140303\ttest: 16908.2351054\tbest: 16908.2351054 (0)\ttotal: 7.62ms\tremaining: 5.32s\n",
      "100:\tlearn: 3002.2571888\ttest: 3287.5672596\tbest: 3287.5672596 (100)\ttotal: 709ms\tremaining: 4.2s\n",
      "200:\tlearn: 2607.0130667\ttest: 3069.6325121\tbest: 3069.6325121 (200)\ttotal: 1.38s\tremaining: 3.44s\n",
      "300:\tlearn: 2412.5284059\ttest: 3010.7003279\tbest: 3010.6238959 (299)\ttotal: 2.07s\tremaining: 2.75s\n",
      "400:\tlearn: 2289.2941550\ttest: 2989.2508056\tbest: 2988.1772719 (396)\ttotal: 2.76s\tremaining: 2.06s\n",
      "500:\tlearn: 2191.0294462\ttest: 2983.5330228\tbest: 2981.4286134 (470)\ttotal: 3.46s\tremaining: 1.37s\n",
      "600:\tlearn: 2118.7830052\ttest: 2981.4769326\tbest: 2980.6027489 (585)\ttotal: 4.15s\tremaining: 684ms\n",
      "699:\tlearn: 2058.3118839\ttest: 2987.7724710\tbest: 2980.6027489 (585)\ttotal: 4.85s\tremaining: 0us\n",
      "\n",
      "bestTest = 2980.602749\n",
      "bestIteration = 585\n",
      "\n",
      "Shrink model to first 586 iterations.\n",
      "서대문구\n",
      "(33096, 26)\n"
     ]
    },
    {
     "name": "stderr",
     "output_type": "stream",
     "text": [
      "100%|██████████| 4/4 [00:00<00:00, 150.58it/s]\n"
     ]
    },
    {
     "name": "stdout",
     "output_type": "stream",
     "text": [
      "0:\tlearn: 25169.7044135\ttest: 25088.0270831\tbest: 25088.0270831 (0)\ttotal: 8.39ms\tremaining: 5.87s\n",
      "100:\tlearn: 3862.9936564\ttest: 4208.0668812\tbest: 4208.0668812 (100)\ttotal: 692ms\tremaining: 4.1s\n",
      "200:\tlearn: 3230.8999310\ttest: 3833.1272911\tbest: 3833.1272911 (200)\ttotal: 1.4s\tremaining: 3.47s\n",
      "300:\tlearn: 2923.1071097\ttest: 3726.4195929\tbest: 3726.4195929 (300)\ttotal: 2.07s\tremaining: 2.75s\n",
      "400:\tlearn: 2742.6520335\ttest: 3686.2652318\tbest: 3686.2652318 (400)\ttotal: 2.79s\tremaining: 2.08s\n",
      "500:\tlearn: 2606.9367855\ttest: 3662.3811681\tbest: 3662.3811681 (500)\ttotal: 3.5s\tremaining: 1.39s\n",
      "600:\tlearn: 2511.6554164\ttest: 3656.1181874\tbest: 3655.6402949 (585)\ttotal: 4.18s\tremaining: 689ms\n",
      "699:\tlearn: 2426.4947744\ttest: 3646.0323961\tbest: 3645.8059493 (696)\ttotal: 4.86s\tremaining: 0us\n",
      "\n",
      "bestTest = 3645.805949\n",
      "bestIteration = 696\n",
      "\n",
      "Shrink model to first 697 iterations.\n",
      "광진구\n",
      "(22221, 26)\n"
     ]
    },
    {
     "name": "stderr",
     "output_type": "stream",
     "text": [
      "100%|██████████| 4/4 [00:00<00:00, 219.64it/s]\n"
     ]
    },
    {
     "name": "stdout",
     "output_type": "stream",
     "text": [
      "0:\tlearn: 33171.2060130\ttest: 33214.9142594\tbest: 33214.9142594 (0)\ttotal: 8ms\tremaining: 5.59s\n",
      "100:\tlearn: 5965.1510176\ttest: 6905.3693739\tbest: 6905.3693739 (100)\ttotal: 676ms\tremaining: 4.01s\n",
      "200:\tlearn: 5013.2606943\ttest: 6601.7148131\tbest: 6601.7148131 (200)\ttotal: 1.33s\tremaining: 3.3s\n",
      "300:\tlearn: 4566.4819078\ttest: 6567.6699466\tbest: 6567.6699466 (300)\ttotal: 1.97s\tremaining: 2.61s\n",
      "400:\tlearn: 4248.5755179\ttest: 6553.6302617\tbest: 6551.9178628 (389)\ttotal: 2.61s\tremaining: 1.95s\n",
      "500:\tlearn: 4016.9761175\ttest: 6551.9587762\tbest: 6549.7591634 (485)\ttotal: 3.28s\tremaining: 1.3s\n",
      "600:\tlearn: 3845.5542120\ttest: 6555.8466182\tbest: 6549.7591634 (485)\ttotal: 3.96s\tremaining: 653ms\n",
      "699:\tlearn: 3707.2510849\ttest: 6577.6997519\tbest: 6549.7591634 (485)\ttotal: 4.62s\tremaining: 0us\n",
      "\n",
      "bestTest = 6549.759163\n",
      "bestIteration = 485\n",
      "\n",
      "Shrink model to first 486 iterations.\n",
      "강북구\n",
      "(22135, 26)\n"
     ]
    },
    {
     "name": "stderr",
     "output_type": "stream",
     "text": [
      "100%|██████████| 4/4 [00:00<00:00, 239.59it/s]\n"
     ]
    },
    {
     "name": "stdout",
     "output_type": "stream",
     "text": [
      "0:\tlearn: 15000.3065430\ttest: 15252.2163130\tbest: 15252.2163130 (0)\ttotal: 7.1ms\tremaining: 4.96s\n",
      "100:\tlearn: 2304.8489887\ttest: 2691.3771633\tbest: 2691.3771633 (100)\ttotal: 644ms\tremaining: 3.82s\n",
      "200:\tlearn: 2006.4894985\ttest: 2554.1821002\tbest: 2553.3763689 (199)\ttotal: 1.26s\tremaining: 3.14s\n",
      "300:\tlearn: 1864.6751441\ttest: 2522.2463925\tbest: 2520.7547485 (294)\ttotal: 1.9s\tremaining: 2.52s\n",
      "400:\tlearn: 1767.6568606\ttest: 2512.4158677\tbest: 2512.4158677 (400)\ttotal: 2.53s\tremaining: 1.89s\n",
      "500:\tlearn: 1700.5506550\ttest: 2511.5047400\tbest: 2509.8799886 (466)\ttotal: 3.13s\tremaining: 1.24s\n",
      "600:\tlearn: 1644.6854669\ttest: 2517.4978075\tbest: 2509.8799886 (466)\ttotal: 3.73s\tremaining: 615ms\n",
      "699:\tlearn: 1604.1537731\ttest: 2523.1348493\tbest: 2509.8799886 (466)\ttotal: 4.32s\tremaining: 0us\n",
      "\n",
      "bestTest = 2509.879989\n",
      "bestIteration = 466\n",
      "\n",
      "Shrink model to first 467 iterations.\n",
      "용산구\n",
      "(20509, 26)\n"
     ]
    },
    {
     "name": "stderr",
     "output_type": "stream",
     "text": [
      "100%|██████████| 4/4 [00:00<00:00, 236.37it/s]\n"
     ]
    },
    {
     "name": "stdout",
     "output_type": "stream",
     "text": [
      "0:\tlearn: 82345.0065329\ttest: 80541.0830370\tbest: 80541.0830370 (0)\ttotal: 7.46ms\tremaining: 5.22s\n",
      "100:\tlearn: 11005.7576708\ttest: 14664.6928633\tbest: 14664.6928633 (100)\ttotal: 648ms\tremaining: 3.84s\n",
      "200:\tlearn: 8708.9444745\ttest: 13698.7919200\tbest: 13698.7919200 (200)\ttotal: 1.3s\tremaining: 3.23s\n",
      "300:\tlearn: 7710.7585189\ttest: 13433.6421406\tbest: 13429.7673499 (297)\ttotal: 1.94s\tremaining: 2.58s\n",
      "400:\tlearn: 7083.7410178\ttest: 13354.8763871\tbest: 13349.2037138 (375)\ttotal: 2.59s\tremaining: 1.93s\n",
      "500:\tlearn: 6649.0524297\ttest: 13324.5654218\tbest: 13323.1407090 (498)\ttotal: 3.28s\tremaining: 1.3s\n",
      "600:\tlearn: 6283.7942576\ttest: 13280.7641674\tbest: 13279.1207262 (599)\ttotal: 3.95s\tremaining: 651ms\n",
      "699:\tlearn: 5991.1770026\ttest: 13260.8774791\tbest: 13259.7149795 (685)\ttotal: 4.61s\tremaining: 0us\n",
      "\n",
      "bestTest = 13259.71498\n",
      "bestIteration = 685\n",
      "\n",
      "Shrink model to first 686 iterations.\n",
      "금천구\n",
      "(19655, 26)\n"
     ]
    },
    {
     "name": "stderr",
     "output_type": "stream",
     "text": [
      "100%|██████████| 4/4 [00:00<00:00, 244.88it/s]\n"
     ]
    },
    {
     "name": "stdout",
     "output_type": "stream",
     "text": [
      "0:\tlearn: 15067.3462766\ttest: 15505.3135178\tbest: 15505.3135178 (0)\ttotal: 9.04ms\tremaining: 6.32s\n",
      "100:\tlearn: 2209.1120989\ttest: 2572.8645505\tbest: 2572.8645505 (100)\ttotal: 650ms\tremaining: 3.85s\n",
      "200:\tlearn: 1902.4795979\ttest: 2397.2634747\tbest: 2397.2634747 (200)\ttotal: 1.24s\tremaining: 3.07s\n",
      "300:\tlearn: 1751.9982702\ttest: 2340.1534609\tbest: 2340.1534609 (300)\ttotal: 1.86s\tremaining: 2.47s\n",
      "400:\tlearn: 1636.1878965\ttest: 2325.1204336\tbest: 2325.1204336 (400)\ttotal: 2.45s\tremaining: 1.82s\n",
      "500:\tlearn: 1561.6491352\ttest: 2317.5911065\tbest: 2317.1985842 (486)\ttotal: 3.05s\tremaining: 1.21s\n",
      "600:\tlearn: 1501.9211012\ttest: 2314.6243832\tbest: 2314.5615285 (559)\ttotal: 3.65s\tremaining: 602ms\n",
      "699:\tlearn: 1455.5055425\ttest: 2315.3298318\tbest: 2313.0406040 (627)\ttotal: 4.24s\tremaining: 0us\n",
      "\n",
      "bestTest = 2313.040604\n",
      "bestIteration = 627\n",
      "\n",
      "Shrink model to first 628 iterations.\n",
      "중구\n",
      "(13476, 26)\n"
     ]
    },
    {
     "name": "stderr",
     "output_type": "stream",
     "text": [
      "100%|██████████| 4/4 [00:00<00:00, 330.87it/s]\n"
     ]
    },
    {
     "name": "stdout",
     "output_type": "stream",
     "text": [
      "0:\tlearn: 33125.9620279\ttest: 31557.2638816\tbest: 31557.2638816 (0)\ttotal: 8.03ms\tremaining: 5.61s\n",
      "100:\tlearn: 5517.5453199\ttest: 7040.6287858\tbest: 7040.6287858 (100)\ttotal: 593ms\tremaining: 3.52s\n",
      "200:\tlearn: 4650.3079489\ttest: 6706.4277434\tbest: 6705.5848884 (199)\ttotal: 1.16s\tremaining: 2.89s\n",
      "300:\tlearn: 4251.6425810\ttest: 6666.2942880\tbest: 6664.7870248 (297)\ttotal: 1.75s\tremaining: 2.31s\n",
      "400:\tlearn: 3979.1922332\ttest: 6637.5693182\tbest: 6634.6557556 (392)\ttotal: 2.34s\tremaining: 1.74s\n",
      "500:\tlearn: 3791.5633473\ttest: 6637.2008892\tbest: 6634.6557556 (392)\ttotal: 2.92s\tremaining: 1.16s\n",
      "600:\tlearn: 3647.8646974\ttest: 6638.9502861\tbest: 6632.5040114 (526)\ttotal: 3.52s\tremaining: 580ms\n",
      "699:\tlearn: 3537.7887839\ttest: 6654.8243485\tbest: 6632.5040114 (526)\ttotal: 4.1s\tremaining: 0us\n",
      "\n",
      "bestTest = 6632.504011\n",
      "bestIteration = 526\n",
      "\n",
      "Shrink model to first 527 iterations.\n",
      "종로구\n",
      "(9059, 26)\n"
     ]
    },
    {
     "name": "stderr",
     "output_type": "stream",
     "text": [
      "100%|██████████| 4/4 [00:00<00:00, 450.46it/s]\n"
     ]
    },
    {
     "name": "stdout",
     "output_type": "stream",
     "text": [
      "0:\tlearn: 37321.1783399\ttest: 39553.7516309\tbest: 39553.7516309 (0)\ttotal: 4.35ms\tremaining: 3.04s\n",
      "100:\tlearn: 4753.0541467\ttest: 6638.2309080\tbest: 6638.2309080 (100)\ttotal: 419ms\tremaining: 2.48s\n",
      "200:\tlearn: 3738.8409507\ttest: 6321.6589748\tbest: 6321.6589748 (200)\ttotal: 833ms\tremaining: 2.07s\n",
      "300:\tlearn: 3258.3843661\ttest: 6235.8578325\tbest: 6235.4190534 (299)\ttotal: 1.26s\tremaining: 1.67s\n",
      "400:\tlearn: 2949.2399190\ttest: 6224.9517004\tbest: 6213.9377889 (337)\ttotal: 1.68s\tremaining: 1.25s\n",
      "500:\tlearn: 2725.8992245\ttest: 6249.2282896\tbest: 6213.9377889 (337)\ttotal: 2.1s\tremaining: 836ms\n",
      "600:\tlearn: 2555.7239018\ttest: 6277.3831614\tbest: 6213.9377889 (337)\ttotal: 2.53s\tremaining: 417ms\n",
      "699:\tlearn: 2427.7932949\ttest: 6300.4796860\tbest: 6213.9377889 (337)\ttotal: 2.94s\tremaining: 0us\n",
      "\n",
      "bestTest = 6213.937789\n",
      "bestIteration = 337\n",
      "\n",
      "Shrink model to first 338 iterations.\n",
      "Test scores (RMSE) for each 구:\n",
      "노원구: RF RMSE = 3489.4666, CB RMSE = 2312.6442\n",
      "송파구: RF RMSE = 9474.5139, CB RMSE = 6175.8536\n",
      "강남구: RF RMSE = 21466.5510, CB RMSE = 12658.0064\n",
      "강서구: RF RMSE = 4902.5245, CB RMSE = 3252.0994\n",
      "구로구: RF RMSE = 4022.5613, CB RMSE = 2862.2970\n",
      "성북구: RF RMSE = 4198.9313, CB RMSE = 2923.4146\n",
      "양천구: RF RMSE = 6636.4413, CB RMSE = 4305.3143\n",
      "강동구: RF RMSE = 5833.5343, CB RMSE = 3851.6954\n",
      "도봉구: RF RMSE = 3110.2757, CB RMSE = 2437.9373\n",
      "서초구: RF RMSE = 17592.6073, CB RMSE = 10947.7957\n",
      "영등포구: RF RMSE = 6895.6021, CB RMSE = 4380.5950\n",
      "마포구: RF RMSE = 7012.5350, CB RMSE = 5241.8699\n",
      "동작구: RF RMSE = 6190.2866, CB RMSE = 3959.3277\n",
      "동대문구: RF RMSE = 4049.5510, CB RMSE = 2826.9126\n",
      "성동구: RF RMSE = 8450.7475, CB RMSE = 6427.7851\n",
      "은평구: RF RMSE = 4551.7632, CB RMSE = 3587.4411\n",
      "중랑구: RF RMSE = 3308.0331, CB RMSE = 2463.4952\n",
      "관악구: RF RMSE = 4059.6321, CB RMSE = 2980.6027\n",
      "서대문구: RF RMSE = 4991.5541, CB RMSE = 3645.8059\n",
      "광진구: RF RMSE = 8194.1819, CB RMSE = 6549.7592\n",
      "강북구: RF RMSE = 3112.4844, CB RMSE = 2509.8800\n",
      "용산구: RF RMSE = 17170.9046, CB RMSE = 13259.7150\n",
      "금천구: RF RMSE = 3083.1440, CB RMSE = 2313.0406\n",
      "중구: RF RMSE = 7510.6661, CB RMSE = 6632.5040\n",
      "종로구: RF RMSE = 7277.7010, CB RMSE = 6213.9378\n",
      "Global RMSE for the ensemble model: 7307.4255\n"
     ]
    },
    {
     "data": {
      "image/png": "[encoded data removed]",
      "text/plain": [
       "<Figure size 1400x600 with 2 Axes>"
      ]
     },
     "metadata": {},
     "output_type": "display_data"
    }
   ],
   "source": [
    "import pickle\n",
    "import pandas as pd\n",
    "import numpy as np\n",
    "import matplotlib.pyplot as plt\n",
    "import seaborn as sns\n",
    "from sklearn.preprocessing import LabelEncoder\n",
    "from sklearn.model_selection import train_test_split\n",
    "from sklearn.ensemble import RandomForestRegressor\n",
    "from sklearn import metrics\n",
    "from catboost import CatBoostRegressor\n",
    "from tqdm import tqdm\n",
    "\n",
    "# 중요도가 높은 피처 리스트\n",
    "important_features = [\n",
    "    'index', '전용면적', 'mean_price', '건축년도', '좌표Y', '아파트명', \n",
    "    '실거래가격지수', '최대층수', '주소', '면적구간', \n",
    "    '계약년', '동', '좌표X', '도로명', '지하철거리'\n",
    "]\n",
    "\n",
    "def calculate_se(target, pred):\n",
    "    squared_errors = (target - pred) ** 2\n",
    "    return squared_errors\n",
    "\n",
    "output_df = pd.DataFrame()\n",
    "test_score = []\n",
    "\n",
    "# Lists to store all predictions and targets for global RMSE calculation\n",
    "all_y_val = []\n",
    "all_rf_pred = []\n",
    "all_cb_pred = []\n",
    "\n",
    "for gu in df['구'].value_counts().keys():\n",
    "    print(gu)\n",
    "    concat_select_gu = df[df['구'] == gu]\n",
    "    print(concat_select_gu.shape)\n",
    "    \n",
    "    # Filter columns based on important_features and include 'target'\n",
    "    dt_train = concat_select_gu.query('is_test == 0')[important_features + ['target']]\n",
    "    dt_test = concat_select_gu.query('is_test == 1')[important_features]\n",
    "\n",
    "    # Drop the 'is_test' column\n",
    "    dt_test['target'] = 0\n",
    "\n",
    "    label_encoders = {}\n",
    "    continuous_columns_v2 = []\n",
    "    categorical_columns_v2 = []\n",
    "\n",
    "    for column in dt_train.columns:\n",
    "        if pd.api.types.is_numeric_dtype(dt_train[column]):\n",
    "            continuous_columns_v2.append(column)\n",
    "        else:\n",
    "            categorical_columns_v2.append(column)\n",
    "\n",
    "    for col in tqdm(categorical_columns_v2):\n",
    "        lbl = LabelEncoder()\n",
    "        lbl.fit(dt_train[col].astype(str))\n",
    "        dt_train[col] = lbl.transform(dt_train[col].astype(str))\n",
    "        label_encoders[col] = lbl\n",
    "\n",
    "        for label in np.unique(dt_test[col]):\n",
    "            if label not in lbl.classes_:\n",
    "                lbl.classes_ = np.append(lbl.classes_, label)\n",
    "\n",
    "        dt_test[col] = lbl.transform(dt_test[col].astype(str))\n",
    "\n",
    "    assert dt_train.shape[1] == dt_test.shape[1]\n",
    "\n",
    "    y_train = dt_train['target']\n",
    "    X_train = dt_train.drop(['target'], axis=1)\n",
    "    # Split data for training and validation\n",
    "    X_train, X_val, y_train, y_val = train_test_split(X_train, y_train, test_size=0.2, random_state=2023)\n",
    "\n",
    "    # Initialize and train RandomForest model with best hyperparameters\n",
    "    rf_model = RandomForestRegressor(\n",
    "        n_estimators=200,\n",
    "        max_depth=10,\n",
    "        min_samples_split=2,\n",
    "        min_samples_leaf=1,\n",
    "        max_features='auto',\n",
    "        random_state=1,\n",
    "        n_jobs=-1\n",
    "    )\n",
    "    rf_model.fit(X_train, y_train)\n",
    "    rf_pred = rf_model.predict(X_val)\n",
    "\n",
    "    # Initialize and train CatBoost model\n",
    "    cb_model = CatBoostRegressor(\n",
    "        iterations=700,\n",
    "        depth=10,\n",
    "        learning_rate=0.1,\n",
    "        loss_function='RMSE',\n",
    "        random_state=1,\n",
    "        verbose=100\n",
    "    )\n",
    "    cb_model.fit(X_train, y_train, eval_set=(X_val, y_val), plot=False)\n",
    "    cb_pred = cb_model.predict(X_val)\n",
    "\n",
    "    # Calculate RMSE for both models\n",
    "    rf_rmse = np.sqrt(metrics.mean_squared_error(y_val, rf_pred))\n",
    "    cb_rmse = np.sqrt(metrics.mean_squared_error(y_val, cb_pred))\n",
    "    test_score.append((gu, rf_rmse, cb_rmse))\n",
    "\n",
    "    # Store predictions and actual values for global RMSE calculation\n",
    "    all_y_val.extend(y_val)\n",
    "    all_rf_pred.extend(rf_pred)\n",
    "    all_cb_pred.extend(cb_pred)\n",
    "\n",
    "    # Save both models\n",
    "    with open('saved_rf_model.pkl', 'wb') as f:\n",
    "        pickle.dump(rf_model, f)\n",
    "    \n",
    "    with open('saved_cb_model.pkl', 'wb') as f:\n",
    "        pickle.dump(cb_model, f)\n",
    "\n",
    "    # Load models\n",
    "    with open('saved_rf_model.pkl', 'rb') as f:\n",
    "        rf_model = pickle.load(f)\n",
    "    \n",
    "    with open('saved_cb_model.pkl', 'rb') as f:\n",
    "        cb_model = pickle.load(f)\n",
    "\n",
    "    # Drop 'target' column before prediction\n",
    "    X_test = dt_test.drop(columns=['target'], errors='ignore')\n",
    "\n",
    "    # Ensure columns match between train and test\n",
    "    X_test = X_test.reindex(columns=X_train.columns, fill_value=0)  # Align columns with training data\n",
    "\n",
    "    # Make predictions with both models\n",
    "    rf_test_pred = rf_model.predict(X_test)\n",
    "    cb_test_pred = cb_model.predict(X_test)\n",
    "\n",
    "    # Average the predictions from both models\n",
    "    final_pred = (rf_test_pred * 0.7 + cb_test_pred * 0.3)  # 0.7 for RandomForest, 0.3 for CatBoost\n",
    "\n",
    "    # Prepare the results\n",
    "    preds_df = pd.DataFrame(final_pred.astype(int), columns=[\"target\"])\n",
    "    preds_df_gu = pd.concat([dt_test.reset_index(drop=True)['index'], preds_df], axis=1)\n",
    "    \n",
    "    output_df = pd.concat([output_df, preds_df_gu])\n",
    "\n",
    "# Sort and save the output dataframe with only the target column\n",
    "output_df.sort_values('index').drop('index', axis=1).to_csv('7월19일_앙상블_하이퍼파라미터튜닝.csv', index=False)\n",
    "\n",
    "# Calculate global RMSE\n",
    "all_y_val = np.array(all_y_val)\n",
    "all_rf_pred = np.array(all_rf_pred)\n",
    "all_cb_pred = np.array(all_cb_pred)\n",
    "\n",
    "# Compute final prediction using the same weights\n",
    "final_global_pred = (all_rf_pred * 0.7 + all_cb_pred * 0.3)\n",
    "global_rmse = np.sqrt(metrics.mean_squared_error(all_y_val, final_global_pred))\n",
    "\n",
    "print(\"Test scores (RMSE) for each 구:\")\n",
    "for score in test_score:\n",
    "    print(f\"{score[0]}: RF RMSE = {score[1]:.4f}, CB RMSE = {score[2]:.4f}\")\n",
    "\n",
    "print(f\"Global RMSE for the ensemble model: {global_rmse:.4f}\")\n",
    "\n",
    "# Feature Importance Visualization\n",
    "importances_rf = pd.Series(rf_model.feature_importances_, index=X_train.columns)\n",
    "importances_rf = importances_rf.sort_values(ascending=False)\n",
    "\n",
    "importances_cb = pd.Series(cb_model.get_feature_importance(), index=X_train.columns)\n",
    "importances_cb = importances_cb.sort_values(ascending=False)\n",
    "\n",
    "plt.figure(figsize=(14, 6))\n",
    "\n",
    "# RandomForest Feature Importance\n",
    "plt.subplot(1, 2, 1)\n",
    "sns.barplot(x=importances_rf, y=importances_rf.index)\n",
    "plt.title('RandomForest Feature Importance')\n",
    "\n",
    "# CatBoost Feature Importance\n",
    "plt.subplot(1, 2, 2)\n",
    "sns.barplot(x=importances_cb, y=importances_cb.index)\n",
    "plt.title('CatBoost Feature Importance')\n",
    "\n",
    "plt.tight_layout()\n",
    "plt.show()\n"
   ]
  },
  {
   "cell_type": "code",
   "execution_count": 15,
   "metadata": {},
   "outputs": [
    {
     "name": "stdout",
     "output_type": "stream",
     "text": [
      "노원구\n",
      "(114864, 30)\n"
     ]
    },
    {
     "name": "stderr",
     "output_type": "stream",
     "text": [
      "100%|██████████| 4/4 [00:00<00:00, 54.39it/s]\n"
     ]
    },
    {
     "name": "stdout",
     "output_type": "stream",
     "text": [
      "0:\tlearn: 16031.4196628\ttest: 16270.4797486\tbest: 16270.4797486 (0)\ttotal: 65.5ms\tremaining: 45.8s\n",
      "100:\tlearn: 2603.4604756\ttest: 2676.0038355\tbest: 2676.0038355 (100)\ttotal: 1.01s\tremaining: 5.97s\n",
      "200:\tlearn: 2283.9101654\ttest: 2425.4494907\tbest: 2425.4494907 (200)\ttotal: 1.96s\tremaining: 4.87s\n",
      "300:\tlearn: 2150.1549347\ttest: 2367.1718537\tbest: 2367.1718537 (300)\ttotal: 2.92s\tremaining: 3.87s\n",
      "400:\tlearn: 2064.3441177\ttest: 2341.0464939\tbest: 2341.0464939 (400)\ttotal: 3.88s\tremaining: 2.9s\n",
      "500:\tlearn: 2002.6231688\ttest: 2331.4184724\tbest: 2331.4184724 (500)\ttotal: 4.86s\tremaining: 1.93s\n",
      "600:\tlearn: 1954.5523710\ttest: 2327.6799723\tbest: 2327.6799723 (600)\ttotal: 5.79s\tremaining: 953ms\n",
      "699:\tlearn: 1915.0618052\ttest: 2325.2941046\tbest: 2325.2941046 (699)\ttotal: 6.73s\tremaining: 0us\n",
      "\n",
      "bestTest = 2325.294105\n",
      "bestIteration = 699\n",
      "\n",
      "송파구\n",
      "(72102, 30)\n"
     ]
    },
    {
     "name": "stderr",
     "output_type": "stream",
     "text": [
      "100%|██████████| 4/4 [00:00<00:00, 80.42it/s]\n"
     ]
    },
    {
     "name": "stdout",
     "output_type": "stream",
     "text": [
      "0:\tlearn: 43863.1393740\ttest: 43690.0964871\tbest: 43690.0964871 (0)\ttotal: 11.9ms\tremaining: 8.31s\n",
      "100:\tlearn: 6858.7862723\ttest: 7402.9675297\tbest: 7402.9675297 (100)\ttotal: 814ms\tremaining: 4.83s\n",
      "200:\tlearn: 5840.3599211\ttest: 6662.5440467\tbest: 6662.5440467 (200)\ttotal: 1.61s\tremaining: 4.01s\n",
      "300:\tlearn: 5385.6009977\ttest: 6417.1312241\tbest: 6417.1312241 (300)\ttotal: 2.41s\tremaining: 3.2s\n",
      "400:\tlearn: 5091.7760750\ttest: 6288.1214268\tbest: 6287.9856774 (399)\ttotal: 3.22s\tremaining: 2.4s\n",
      "500:\tlearn: 4886.2340642\ttest: 6236.5700076\tbest: 6235.5223125 (498)\ttotal: 4.05s\tremaining: 1.61s\n",
      "600:\tlearn: 4732.5498204\ttest: 6204.1765332\tbest: 6203.9948517 (599)\ttotal: 4.85s\tremaining: 799ms\n",
      "699:\tlearn: 4605.3713983\ttest: 6185.4338093\tbest: 6185.4338093 (699)\ttotal: 5.66s\tremaining: 0us\n",
      "\n",
      "bestTest = 6185.433809\n",
      "bestIteration = 699\n",
      "\n",
      "강남구\n",
      "(65941, 30)\n"
     ]
    },
    {
     "name": "stderr",
     "output_type": "stream",
     "text": [
      "100%|██████████| 4/4 [00:00<00:00, 79.79it/s]\n"
     ]
    },
    {
     "name": "stdout",
     "output_type": "stream",
     "text": [
      "0:\tlearn: 73446.2774757\ttest: 74495.9303166\tbest: 74495.9303166 (0)\ttotal: 10.6ms\tremaining: 7.39s\n",
      "100:\tlearn: 12930.4774993\ttest: 14989.1121517\tbest: 14989.1121517 (100)\ttotal: 836ms\tremaining: 4.96s\n",
      "200:\tlearn: 10797.3650227\ttest: 13750.1716214\tbest: 13750.1716214 (200)\ttotal: 1.64s\tremaining: 4.06s\n",
      "300:\tlearn: 9701.3003770\ttest: 13249.1758718\tbest: 13249.1758718 (300)\ttotal: 2.44s\tremaining: 3.23s\n",
      "400:\tlearn: 9046.4362904\ttest: 13030.6531688\tbest: 13030.6531688 (400)\ttotal: 3.24s\tremaining: 2.42s\n",
      "500:\tlearn: 8517.2378452\ttest: 12881.1370520\tbest: 12881.1370520 (500)\ttotal: 4.03s\tremaining: 1.6s\n",
      "600:\tlearn: 8094.0329235\ttest: 12776.5745218\tbest: 12776.5745218 (600)\ttotal: 4.84s\tremaining: 797ms\n",
      "699:\tlearn: 7762.2096453\ttest: 12722.0456391\tbest: 12720.0598841 (691)\ttotal: 5.62s\tremaining: 0us\n",
      "\n",
      "bestTest = 12720.05988\n",
      "bestIteration = 691\n",
      "\n",
      "Shrink model to first 692 iterations.\n",
      "강서구\n",
      "(65192, 30)\n"
     ]
    },
    {
     "name": "stderr",
     "output_type": "stream",
     "text": [
      "100%|██████████| 4/4 [00:00<00:00, 81.36it/s]\n"
     ]
    },
    {
     "name": "stdout",
     "output_type": "stream",
     "text": [
      "0:\tlearn: 22178.4129146\ttest: 21746.1510577\tbest: 21746.1510577 (0)\ttotal: 10.2ms\tremaining: 7.12s\n",
      "100:\tlearn: 3479.0608428\ttest: 3795.9960158\tbest: 3795.9960158 (100)\ttotal: 791ms\tremaining: 4.69s\n",
      "200:\tlearn: 2996.0386333\ttest: 3447.8770846\tbest: 3447.8770846 (200)\ttotal: 1.56s\tremaining: 3.87s\n",
      "300:\tlearn: 2767.6460848\ttest: 3338.4345241\tbest: 3338.4345241 (300)\ttotal: 2.34s\tremaining: 3.1s\n",
      "400:\tlearn: 2631.5685625\ttest: 3285.3230780\tbest: 3285.3230780 (400)\ttotal: 3.12s\tremaining: 2.33s\n",
      "500:\tlearn: 2532.3896838\ttest: 3259.4208603\tbest: 3259.1909265 (498)\ttotal: 3.94s\tremaining: 1.56s\n",
      "600:\tlearn: 2459.8094101\ttest: 3247.5245969\tbest: 3247.5245969 (600)\ttotal: 4.72s\tremaining: 778ms\n",
      "699:\tlearn: 2393.7341525\ttest: 3244.4575692\tbest: 3244.2771582 (696)\ttotal: 5.49s\tremaining: 0us\n",
      "\n",
      "bestTest = 3244.277158\n",
      "bestIteration = 696\n",
      "\n",
      "Shrink model to first 697 iterations.\n",
      "구로구\n",
      "(57612, 30)\n"
     ]
    },
    {
     "name": "stderr",
     "output_type": "stream",
     "text": [
      "100%|██████████| 4/4 [00:00<00:00, 97.16it/s]\n"
     ]
    },
    {
     "name": "stdout",
     "output_type": "stream",
     "text": [
      "0:\tlearn: 18323.3169699\ttest: 18407.1833464\tbest: 18407.1833464 (0)\ttotal: 9.44ms\tremaining: 6.6s\n",
      "100:\tlearn: 2895.7918780\ttest: 3239.9566881\tbest: 3239.9566881 (100)\ttotal: 760ms\tremaining: 4.51s\n",
      "200:\tlearn: 2461.4210187\ttest: 2992.5256172\tbest: 2991.9652104 (197)\ttotal: 1.51s\tremaining: 3.76s\n",
      "300:\tlearn: 2254.9304315\ttest: 2924.9497232\tbest: 2924.9497232 (300)\ttotal: 2.28s\tremaining: 3.03s\n",
      "400:\tlearn: 2128.1445588\ttest: 2899.6723101\tbest: 2899.6723101 (400)\ttotal: 3.06s\tremaining: 2.28s\n",
      "500:\tlearn: 2037.5580669\ttest: 2888.4261331\tbest: 2888.1618866 (499)\ttotal: 3.82s\tremaining: 1.52s\n",
      "600:\tlearn: 1968.8085538\ttest: 2879.9277392\tbest: 2879.9277392 (600)\ttotal: 4.57s\tremaining: 753ms\n",
      "699:\tlearn: 1911.3032238\ttest: 2879.1728006\tbest: 2876.1323973 (674)\ttotal: 5.33s\tremaining: 0us\n",
      "\n",
      "bestTest = 2876.132397\n",
      "bestIteration = 674\n",
      "\n",
      "Shrink model to first 675 iterations.\n",
      "성북구\n",
      "(56733, 30)\n"
     ]
    },
    {
     "name": "stderr",
     "output_type": "stream",
     "text": [
      "100%|██████████| 4/4 [00:00<00:00, 103.41it/s]\n"
     ]
    },
    {
     "name": "stdout",
     "output_type": "stream",
     "text": [
      "0:\tlearn: 18270.3014013\ttest: 18121.4738924\tbest: 18121.4738924 (0)\ttotal: 9.86ms\tremaining: 6.89s\n",
      "100:\tlearn: 2927.6120231\ttest: 3203.6911342\tbest: 3203.6911342 (100)\ttotal: 719ms\tremaining: 4.26s\n",
      "200:\tlearn: 2579.9215042\ttest: 2985.7940099\tbest: 2985.7940099 (200)\ttotal: 1.43s\tremaining: 3.55s\n",
      "300:\tlearn: 2405.7609272\ttest: 2930.4051638\tbest: 2930.4051638 (300)\ttotal: 2.15s\tremaining: 2.85s\n",
      "400:\tlearn: 2295.1231165\ttest: 2913.1444123\tbest: 2913.1444123 (400)\ttotal: 2.87s\tremaining: 2.14s\n",
      "500:\tlearn: 2218.9189261\ttest: 2910.3213819\tbest: 2908.1381070 (476)\ttotal: 3.57s\tremaining: 1.42s\n",
      "600:\tlearn: 2159.2090414\ttest: 2910.9244181\tbest: 2908.1381070 (476)\ttotal: 4.28s\tremaining: 704ms\n",
      "699:\tlearn: 2106.1279623\ttest: 2913.1158348\tbest: 2908.1381070 (476)\ttotal: 4.98s\tremaining: 0us\n",
      "\n",
      "bestTest = 2908.138107\n",
      "bestIteration = 476\n",
      "\n",
      "Shrink model to first 477 iterations.\n",
      "양천구\n",
      "(54106, 30)\n"
     ]
    },
    {
     "name": "stderr",
     "output_type": "stream",
     "text": [
      "100%|██████████| 4/4 [00:00<00:00, 97.87it/s]\n"
     ]
    },
    {
     "name": "stdout",
     "output_type": "stream",
     "text": [
      "0:\tlearn: 34666.3440602\ttest: 34825.3553035\tbest: 34825.3553035 (0)\ttotal: 10.1ms\tremaining: 7.07s\n",
      "100:\tlearn: 4866.0084215\ttest: 5295.4245429\tbest: 5295.4245429 (100)\ttotal: 749ms\tremaining: 4.44s\n",
      "200:\tlearn: 4007.2755098\ttest: 4639.7842048\tbest: 4639.7842048 (200)\ttotal: 1.48s\tremaining: 3.66s\n",
      "300:\tlearn: 3625.0486880\ttest: 4447.2205473\tbest: 4447.2205473 (300)\ttotal: 2.27s\tremaining: 3.01s\n",
      "400:\tlearn: 3385.7126649\ttest: 4368.9487614\tbest: 4368.9487614 (400)\ttotal: 3.04s\tremaining: 2.27s\n",
      "500:\tlearn: 3220.9360104\ttest: 4327.9771141\tbest: 4327.9771141 (500)\ttotal: 3.81s\tremaining: 1.51s\n",
      "600:\tlearn: 3097.1430770\ttest: 4306.7988316\tbest: 4306.3990511 (597)\ttotal: 4.55s\tremaining: 749ms\n",
      "699:\tlearn: 2985.8600861\ttest: 4291.4065303\tbest: 4289.5180554 (689)\ttotal: 5.29s\tremaining: 0us\n",
      "\n",
      "bestTest = 4289.518055\n",
      "bestIteration = 689\n",
      "\n",
      "Shrink model to first 690 iterations.\n",
      "강동구\n",
      "(53467, 30)\n"
     ]
    },
    {
     "name": "stderr",
     "output_type": "stream",
     "text": [
      "100%|██████████| 4/4 [00:00<00:00, 99.16it/s]\n"
     ]
    },
    {
     "name": "stdout",
     "output_type": "stream",
     "text": [
      "0:\tlearn: 26302.9602833\ttest: 26377.0952351\tbest: 26377.0952351 (0)\ttotal: 10.2ms\tremaining: 7.12s\n",
      "100:\tlearn: 4049.0046113\ttest: 4518.9668182\tbest: 4518.9668182 (100)\ttotal: 757ms\tremaining: 4.49s\n",
      "200:\tlearn: 3407.7222406\ttest: 4089.8782915\tbest: 4089.8782915 (200)\ttotal: 1.53s\tremaining: 3.79s\n",
      "300:\tlearn: 3126.7039015\ttest: 3963.9095673\tbest: 3963.9095673 (300)\ttotal: 2.28s\tremaining: 3.02s\n",
      "400:\tlearn: 2948.0584759\ttest: 3904.9803507\tbest: 3904.9803507 (400)\ttotal: 3.02s\tremaining: 2.25s\n",
      "500:\tlearn: 2817.2484973\ttest: 3868.8488338\tbest: 3868.8488338 (500)\ttotal: 3.77s\tremaining: 1.5s\n",
      "600:\tlearn: 2715.4870207\ttest: 3845.6310955\tbest: 3845.6310955 (600)\ttotal: 4.51s\tremaining: 743ms\n",
      "699:\tlearn: 2634.0176837\ttest: 3833.6501593\tbest: 3833.6501593 (699)\ttotal: 5.25s\tremaining: 0us\n",
      "\n",
      "bestTest = 3833.650159\n",
      "bestIteration = 699\n",
      "\n",
      "도봉구\n",
      "(52800, 30)\n"
     ]
    },
    {
     "name": "stderr",
     "output_type": "stream",
     "text": [
      "100%|██████████| 4/4 [00:00<00:00, 110.01it/s]\n"
     ]
    },
    {
     "name": "stdout",
     "output_type": "stream",
     "text": [
      "0:\tlearn: 14549.8780588\ttest: 14663.9924067\tbest: 14663.9924067 (0)\ttotal: 9.14ms\tremaining: 6.39s\n",
      "100:\tlearn: 2409.2082001\ttest: 2661.2488348\tbest: 2661.2488348 (100)\ttotal: 718ms\tremaining: 4.26s\n",
      "200:\tlearn: 2135.4591441\ttest: 2507.6991791\tbest: 2507.6991791 (200)\ttotal: 1.48s\tremaining: 3.66s\n",
      "300:\tlearn: 2006.0894608\ttest: 2460.5743204\tbest: 2460.5743204 (300)\ttotal: 2.19s\tremaining: 2.9s\n",
      "400:\tlearn: 1927.3969926\ttest: 2447.2524207\tbest: 2446.9698986 (396)\ttotal: 2.92s\tremaining: 2.18s\n",
      "500:\tlearn: 1868.3196413\ttest: 2437.0433120\tbest: 2437.0433120 (500)\ttotal: 3.63s\tremaining: 1.44s\n",
      "600:\tlearn: 1818.2024459\ttest: 2434.8217952\tbest: 2434.6217008 (596)\ttotal: 4.36s\tremaining: 718ms\n",
      "699:\tlearn: 1779.1163126\ttest: 2432.5713946\tbest: 2431.8664370 (687)\ttotal: 5.11s\tremaining: 0us\n",
      "\n",
      "bestTest = 2431.866437\n",
      "bestIteration = 687\n",
      "\n",
      "Shrink model to first 688 iterations.\n",
      "서초구\n",
      "(48159, 30)\n"
     ]
    },
    {
     "name": "stderr",
     "output_type": "stream",
     "text": [
      "100%|██████████| 4/4 [00:00<00:00, 102.37it/s]\n"
     ]
    },
    {
     "name": "stdout",
     "output_type": "stream",
     "text": [
      "0:\tlearn: 66575.5843028\ttest: 68954.0373491\tbest: 68954.0373491 (0)\ttotal: 9.08ms\tremaining: 6.34s\n",
      "100:\tlearn: 11464.8441868\ttest: 13216.4382147\tbest: 13216.4382147 (100)\ttotal: 749ms\tremaining: 4.44s\n",
      "200:\tlearn: 9381.8142765\ttest: 11769.9896037\tbest: 11769.9896037 (200)\ttotal: 1.48s\tremaining: 3.67s\n",
      "300:\tlearn: 8417.5611655\ttest: 11324.4883575\tbest: 11324.3032541 (299)\ttotal: 2.19s\tremaining: 2.91s\n",
      "400:\tlearn: 7791.9396740\ttest: 11121.8430119\tbest: 11121.8430119 (400)\ttotal: 2.94s\tremaining: 2.19s\n",
      "500:\tlearn: 7357.6741431\ttest: 11013.0157946\tbest: 11012.4215114 (499)\ttotal: 3.66s\tremaining: 1.45s\n",
      "600:\tlearn: 6975.3671062\ttest: 10956.8220474\tbest: 10956.8220474 (600)\ttotal: 4.4s\tremaining: 725ms\n",
      "699:\tlearn: 6681.4719692\ttest: 10937.1909186\tbest: 10936.0280910 (698)\ttotal: 5.11s\tremaining: 0us\n",
      "\n",
      "bestTest = 10936.02809\n",
      "bestIteration = 698\n",
      "\n",
      "Shrink model to first 699 iterations.\n",
      "영등포구\n",
      "(47738, 30)\n"
     ]
    },
    {
     "name": "stderr",
     "output_type": "stream",
     "text": [
      "100%|██████████| 4/4 [00:00<00:00, 118.36it/s]\n"
     ]
    },
    {
     "name": "stdout",
     "output_type": "stream",
     "text": [
      "0:\tlearn: 34697.0037033\ttest: 34199.6313927\tbest: 34199.6313927 (0)\ttotal: 10.2ms\tremaining: 7.12s\n",
      "100:\tlearn: 4782.6687373\ttest: 5367.1278789\tbest: 5367.1278789 (100)\ttotal: 762ms\tremaining: 4.52s\n",
      "200:\tlearn: 3858.6569827\ttest: 4703.2740286\tbest: 4703.2740286 (200)\ttotal: 1.5s\tremaining: 3.71s\n",
      "300:\tlearn: 3454.1390494\ttest: 4509.8344173\tbest: 4509.8344173 (300)\ttotal: 2.2s\tremaining: 2.92s\n",
      "400:\tlearn: 3188.4379954\ttest: 4431.7529984\tbest: 4431.7529984 (400)\ttotal: 2.91s\tremaining: 2.17s\n",
      "500:\tlearn: 2998.3925126\ttest: 4390.4773127\tbest: 4389.7317043 (496)\ttotal: 3.63s\tremaining: 1.44s\n",
      "600:\tlearn: 2862.3587859\ttest: 4373.2690972\tbest: 4373.2690972 (600)\ttotal: 4.37s\tremaining: 720ms\n",
      "699:\tlearn: 2747.2048608\ttest: 4362.2359709\tbest: 4361.0088983 (682)\ttotal: 5.1s\tremaining: 0us\n",
      "\n",
      "bestTest = 4361.008898\n",
      "bestIteration = 682\n",
      "\n",
      "Shrink model to first 683 iterations.\n",
      "마포구\n",
      "(40512, 30)\n"
     ]
    },
    {
     "name": "stderr",
     "output_type": "stream",
     "text": [
      "100%|██████████| 4/4 [00:00<00:00, 134.13it/s]\n"
     ]
    },
    {
     "name": "stdout",
     "output_type": "stream",
     "text": [
      "0:\tlearn: 32722.8695637\ttest: 32735.3257932\tbest: 32735.3257932 (0)\ttotal: 9.6ms\tremaining: 6.71s\n",
      "100:\tlearn: 5340.6911135\ttest: 5897.3836217\tbest: 5897.3836217 (100)\ttotal: 729ms\tremaining: 4.32s\n",
      "200:\tlearn: 4510.3684868\ttest: 5497.1374769\tbest: 5497.1374769 (200)\ttotal: 1.44s\tremaining: 3.59s\n",
      "300:\tlearn: 4142.2132950\ttest: 5377.9971611\tbest: 5377.6376332 (295)\ttotal: 2.13s\tremaining: 2.82s\n",
      "400:\tlearn: 3881.3006546\ttest: 5309.7558552\tbest: 5309.7558552 (400)\ttotal: 2.82s\tremaining: 2.1s\n",
      "500:\tlearn: 3693.5842308\ttest: 5291.4773423\tbest: 5290.6417823 (491)\ttotal: 3.55s\tremaining: 1.41s\n",
      "600:\tlearn: 3561.1045108\ttest: 5281.9050936\tbest: 5281.8400707 (597)\ttotal: 4.27s\tremaining: 703ms\n",
      "699:\tlearn: 3450.6398349\ttest: 5270.5827312\tbest: 5270.0072174 (693)\ttotal: 4.98s\tremaining: 0us\n",
      "\n",
      "bestTest = 5270.007217\n",
      "bestIteration = 693\n",
      "\n",
      "Shrink model to first 694 iterations.\n",
      "동작구\n",
      "(40371, 30)\n"
     ]
    },
    {
     "name": "stderr",
     "output_type": "stream",
     "text": [
      "100%|██████████| 4/4 [00:00<00:00, 139.56it/s]\n"
     ]
    },
    {
     "name": "stdout",
     "output_type": "stream",
     "text": [
      "0:\tlearn: 27239.4267361\ttest: 26020.5008289\tbest: 26020.5008289 (0)\ttotal: 9.13ms\tremaining: 6.38s\n",
      "100:\tlearn: 4269.5888709\ttest: 4461.1259876\tbest: 4461.1259876 (100)\ttotal: 724ms\tremaining: 4.29s\n",
      "200:\tlearn: 3674.8388423\ttest: 4126.2475648\tbest: 4126.2475648 (200)\ttotal: 1.45s\tremaining: 3.59s\n",
      "300:\tlearn: 3367.6456745\ttest: 4015.8149560\tbest: 4015.8149560 (300)\ttotal: 2.13s\tremaining: 2.83s\n",
      "400:\tlearn: 3173.8350162\ttest: 3968.9695292\tbest: 3968.0697104 (398)\ttotal: 2.83s\tremaining: 2.11s\n",
      "500:\tlearn: 3022.7251763\ttest: 3952.6543361\tbest: 3952.6543361 (500)\ttotal: 3.52s\tremaining: 1.4s\n",
      "600:\tlearn: 2909.9197697\ttest: 3944.8156283\tbest: 3943.9675137 (596)\ttotal: 4.24s\tremaining: 699ms\n",
      "699:\tlearn: 2821.8894935\ttest: 3941.0903113\tbest: 3940.3792535 (663)\ttotal: 4.94s\tremaining: 0us\n",
      "\n",
      "bestTest = 3940.379253\n",
      "bestIteration = 663\n",
      "\n",
      "Shrink model to first 664 iterations.\n",
      "동대문구\n",
      "(39955, 30)\n"
     ]
    },
    {
     "name": "stderr",
     "output_type": "stream",
     "text": [
      "100%|██████████| 4/4 [00:00<00:00, 138.00it/s]\n"
     ]
    },
    {
     "name": "stdout",
     "output_type": "stream",
     "text": [
      "0:\tlearn: 20945.6549406\ttest: 20552.8844624\tbest: 20552.8844624 (0)\ttotal: 8.76ms\tremaining: 6.12s\n",
      "100:\tlearn: 3029.8489254\ttest: 3211.2809366\tbest: 3211.2809366 (100)\ttotal: 729ms\tremaining: 4.33s\n",
      "200:\tlearn: 2583.3765829\ttest: 2931.6747960\tbest: 2931.6747960 (200)\ttotal: 1.48s\tremaining: 3.69s\n",
      "300:\tlearn: 2380.2941332\ttest: 2869.9344416\tbest: 2869.9344416 (300)\ttotal: 2.18s\tremaining: 2.88s\n",
      "400:\tlearn: 2251.6718801\ttest: 2844.5820048\tbest: 2844.5820048 (400)\ttotal: 2.88s\tremaining: 2.14s\n",
      "500:\tlearn: 2153.5199102\ttest: 2835.8618239\tbest: 2835.8618239 (500)\ttotal: 3.57s\tremaining: 1.42s\n",
      "600:\tlearn: 2077.3662875\ttest: 2828.9842817\tbest: 2828.2035574 (596)\ttotal: 4.27s\tremaining: 703ms\n",
      "699:\tlearn: 2014.9038153\ttest: 2825.3009558\tbest: 2824.7122636 (698)\ttotal: 4.94s\tremaining: 0us\n",
      "\n",
      "bestTest = 2824.712264\n",
      "bestIteration = 698\n",
      "\n",
      "Shrink model to first 699 iterations.\n",
      "성동구\n",
      "(39654, 30)\n"
     ]
    },
    {
     "name": "stderr",
     "output_type": "stream",
     "text": [
      "100%|██████████| 4/4 [00:00<00:00, 142.53it/s]\n"
     ]
    },
    {
     "name": "stdout",
     "output_type": "stream",
     "text": [
      "0:\tlearn: 40377.5681566\ttest: 37691.6766795\tbest: 37691.6766795 (0)\ttotal: 8.61ms\tremaining: 6.02s\n",
      "100:\tlearn: 5987.6596333\ttest: 7188.7445243\tbest: 7188.7445243 (100)\ttotal: 642ms\tremaining: 3.81s\n",
      "200:\tlearn: 4861.9756560\ttest: 6659.0928428\tbest: 6659.0928428 (200)\ttotal: 1.32s\tremaining: 3.27s\n",
      "300:\tlearn: 4383.6951698\ttest: 6537.2609738\tbest: 6537.2609738 (300)\ttotal: 2s\tremaining: 2.65s\n",
      "400:\tlearn: 4102.2863670\ttest: 6538.7660181\tbest: 6527.0169159 (342)\ttotal: 2.67s\tremaining: 1.99s\n",
      "500:\tlearn: 3915.1774601\ttest: 6558.4655829\tbest: 6527.0169159 (342)\ttotal: 3.31s\tremaining: 1.31s\n",
      "600:\tlearn: 3758.4292688\ttest: 6574.4260855\tbest: 6527.0169159 (342)\ttotal: 3.97s\tremaining: 655ms\n",
      "699:\tlearn: 3645.1257686\ttest: 6595.0181231\tbest: 6527.0169159 (342)\ttotal: 4.62s\tremaining: 0us\n",
      "\n",
      "bestTest = 6527.016916\n",
      "bestIteration = 342\n",
      "\n",
      "Shrink model to first 343 iterations.\n",
      "은평구\n",
      "(38297, 30)\n"
     ]
    },
    {
     "name": "stderr",
     "output_type": "stream",
     "text": [
      "100%|██████████| 4/4 [00:00<00:00, 134.57it/s]\n"
     ]
    },
    {
     "name": "stdout",
     "output_type": "stream",
     "text": [
      "0:\tlearn: 19769.8642734\ttest: 19194.1530085\tbest: 19194.1530085 (0)\ttotal: 8.81ms\tremaining: 6.16s\n",
      "100:\tlearn: 3683.1534799\ttest: 4027.5984826\tbest: 4027.5984826 (100)\ttotal: 712ms\tremaining: 4.22s\n",
      "200:\tlearn: 3103.8691338\ttest: 3733.5494513\tbest: 3733.5494513 (200)\ttotal: 1.42s\tremaining: 3.52s\n",
      "300:\tlearn: 2828.4385042\ttest: 3645.0544340\tbest: 3643.8730636 (295)\ttotal: 2.12s\tremaining: 2.81s\n",
      "400:\tlearn: 2646.0009890\ttest: 3623.2538217\tbest: 3622.2364321 (398)\ttotal: 2.82s\tremaining: 2.1s\n",
      "500:\tlearn: 2520.6409475\ttest: 3615.7477801\tbest: 3614.3117221 (492)\ttotal: 3.51s\tremaining: 1.4s\n",
      "600:\tlearn: 2416.6600973\ttest: 3617.3469604\tbest: 3614.3117221 (492)\ttotal: 4.21s\tremaining: 693ms\n",
      "699:\tlearn: 2331.2760305\ttest: 3623.7280661\tbest: 3614.3117221 (492)\ttotal: 4.92s\tremaining: 0us\n",
      "\n",
      "bestTest = 3614.311722\n",
      "bestIteration = 492\n",
      "\n",
      "Shrink model to first 493 iterations.\n",
      "중랑구\n",
      "(37256, 30)\n"
     ]
    },
    {
     "name": "stderr",
     "output_type": "stream",
     "text": [
      "100%|██████████| 4/4 [00:00<00:00, 150.30it/s]\n"
     ]
    },
    {
     "name": "stdout",
     "output_type": "stream",
     "text": [
      "0:\tlearn: 15424.4285808\ttest: 15690.0564470\tbest: 15690.0564470 (0)\ttotal: 9.21ms\tremaining: 6.44s\n",
      "100:\tlearn: 2436.2389195\ttest: 2737.4127939\tbest: 2737.4127939 (100)\ttotal: 700ms\tremaining: 4.15s\n",
      "200:\tlearn: 2100.4192230\ttest: 2529.7591250\tbest: 2529.7591250 (200)\ttotal: 1.41s\tremaining: 3.5s\n",
      "300:\tlearn: 1931.6494716\ttest: 2460.0521859\tbest: 2460.0521859 (300)\ttotal: 2.12s\tremaining: 2.81s\n",
      "400:\tlearn: 1823.1612174\ttest: 2435.4606091\tbest: 2435.4606091 (400)\ttotal: 2.83s\tremaining: 2.11s\n",
      "500:\tlearn: 1738.6633719\ttest: 2421.8701005\tbest: 2421.8701005 (500)\ttotal: 3.51s\tremaining: 1.39s\n",
      "600:\tlearn: 1674.9035540\ttest: 2417.6788883\tbest: 2417.3817116 (598)\ttotal: 4.21s\tremaining: 693ms\n",
      "699:\tlearn: 1625.2076757\ttest: 2413.5873826\tbest: 2413.5124847 (696)\ttotal: 4.9s\tremaining: 0us\n",
      "\n",
      "bestTest = 2413.512485\n",
      "bestIteration = 696\n",
      "\n",
      "Shrink model to first 697 iterations.\n",
      "관악구\n",
      "(36219, 30)\n"
     ]
    },
    {
     "name": "stderr",
     "output_type": "stream",
     "text": [
      "100%|██████████| 4/4 [00:00<00:00, 154.44it/s]\n"
     ]
    },
    {
     "name": "stdout",
     "output_type": "stream",
     "text": [
      "0:\tlearn: 16821.0641670\ttest: 16925.6997642\tbest: 16925.6997642 (0)\ttotal: 8.68ms\tremaining: 6.07s\n",
      "100:\tlearn: 3002.3275307\ttest: 3289.8152540\tbest: 3289.8152540 (100)\ttotal: 709ms\tremaining: 4.21s\n",
      "200:\tlearn: 2619.1947316\ttest: 3075.1016165\tbest: 3075.1016165 (200)\ttotal: 1.43s\tremaining: 3.54s\n",
      "300:\tlearn: 2414.7738381\ttest: 3019.6078804\tbest: 3019.6078804 (300)\ttotal: 2.12s\tremaining: 2.81s\n",
      "400:\tlearn: 2292.3926110\ttest: 3005.1755298\tbest: 3005.1755298 (400)\ttotal: 2.83s\tremaining: 2.11s\n",
      "500:\tlearn: 2203.4024730\ttest: 3001.0919058\tbest: 2998.6961583 (490)\ttotal: 3.54s\tremaining: 1.41s\n",
      "600:\tlearn: 2129.4464461\ttest: 2999.5553466\tbest: 2998.6961583 (490)\ttotal: 4.24s\tremaining: 698ms\n",
      "699:\tlearn: 2070.9694439\ttest: 3001.8565823\tbest: 2998.6961583 (490)\ttotal: 4.92s\tremaining: 0us\n",
      "\n",
      "bestTest = 2998.696158\n",
      "bestIteration = 490\n",
      "\n",
      "Shrink model to first 491 iterations.\n",
      "서대문구\n",
      "(33096, 30)\n"
     ]
    },
    {
     "name": "stderr",
     "output_type": "stream",
     "text": [
      "100%|██████████| 4/4 [00:00<00:00, 162.74it/s]\n"
     ]
    },
    {
     "name": "stdout",
     "output_type": "stream",
     "text": [
      "0:\tlearn: 25157.2408415\ttest: 25068.9528735\tbest: 25068.9528735 (0)\ttotal: 8.8ms\tremaining: 6.15s\n",
      "100:\tlearn: 3832.2111857\ttest: 4164.4080729\tbest: 4164.4080729 (100)\ttotal: 725ms\tremaining: 4.3s\n",
      "200:\tlearn: 3207.5491385\ttest: 3807.6292166\tbest: 3807.6292166 (200)\ttotal: 1.41s\tremaining: 3.51s\n",
      "300:\tlearn: 2919.2551244\ttest: 3709.0985507\tbest: 3709.0029265 (298)\ttotal: 2.1s\tremaining: 2.79s\n",
      "400:\tlearn: 2742.6446484\ttest: 3664.6708224\tbest: 3664.5611555 (399)\ttotal: 2.79s\tremaining: 2.08s\n",
      "500:\tlearn: 2616.7399537\ttest: 3644.2987013\tbest: 3643.7862980 (488)\ttotal: 3.49s\tremaining: 1.39s\n",
      "600:\tlearn: 2513.0388816\ttest: 3633.1857335\tbest: 3633.0722500 (599)\ttotal: 4.18s\tremaining: 688ms\n",
      "699:\tlearn: 2432.3064431\ttest: 3629.8098052\tbest: 3628.4294247 (673)\ttotal: 4.87s\tremaining: 0us\n",
      "\n",
      "bestTest = 3628.429425\n",
      "bestIteration = 673\n",
      "\n",
      "Shrink model to first 674 iterations.\n",
      "광진구\n",
      "(22221, 30)\n"
     ]
    },
    {
     "name": "stderr",
     "output_type": "stream",
     "text": [
      "100%|██████████| 4/4 [00:00<00:00, 223.35it/s]\n"
     ]
    },
    {
     "name": "stdout",
     "output_type": "stream",
     "text": [
      "0:\tlearn: 33140.9057813\ttest: 33217.5759701\tbest: 33217.5759701 (0)\ttotal: 8.04ms\tremaining: 5.62s\n",
      "100:\tlearn: 5965.4652687\ttest: 6961.0518991\tbest: 6961.0518991 (100)\ttotal: 651ms\tremaining: 3.86s\n",
      "200:\tlearn: 5023.0767228\ttest: 6668.1848929\tbest: 6668.1848929 (200)\ttotal: 1.28s\tremaining: 3.17s\n",
      "300:\tlearn: 4556.2329466\ttest: 6598.1309440\tbest: 6591.6254662 (280)\ttotal: 1.9s\tremaining: 2.52s\n",
      "400:\tlearn: 4245.1770687\ttest: 6574.2365705\tbest: 6569.3625791 (396)\ttotal: 2.52s\tremaining: 1.88s\n",
      "500:\tlearn: 4018.2421491\ttest: 6583.4402521\tbest: 6569.3625791 (396)\ttotal: 3.14s\tremaining: 1.25s\n",
      "600:\tlearn: 3827.3749361\ttest: 6585.5741456\tbest: 6569.3625791 (396)\ttotal: 3.77s\tremaining: 622ms\n",
      "699:\tlearn: 3681.6093929\ttest: 6594.3724330\tbest: 6569.3625791 (396)\ttotal: 4.4s\tremaining: 0us\n",
      "\n",
      "bestTest = 6569.362579\n",
      "bestIteration = 396\n",
      "\n",
      "Shrink model to first 397 iterations.\n",
      "강북구\n",
      "(22135, 30)\n"
     ]
    },
    {
     "name": "stderr",
     "output_type": "stream",
     "text": [
      "100%|██████████| 4/4 [00:00<00:00, 235.89it/s]\n"
     ]
    },
    {
     "name": "stdout",
     "output_type": "stream",
     "text": [
      "0:\tlearn: 15047.9870796\ttest: 15299.5932427\tbest: 15299.5932427 (0)\ttotal: 7.09ms\tremaining: 4.95s\n",
      "100:\tlearn: 2308.6567230\ttest: 2674.7381241\tbest: 2674.7381241 (100)\ttotal: 615ms\tremaining: 3.64s\n",
      "200:\tlearn: 2010.1521895\ttest: 2544.6470462\tbest: 2544.6470462 (200)\ttotal: 1.22s\tremaining: 3.02s\n",
      "300:\tlearn: 1866.3035660\ttest: 2516.1822462\tbest: 2516.1381077 (299)\ttotal: 1.83s\tremaining: 2.43s\n",
      "400:\tlearn: 1768.5207455\ttest: 2511.1832310\tbest: 2508.6858504 (374)\ttotal: 2.46s\tremaining: 1.84s\n",
      "500:\tlearn: 1702.6144127\ttest: 2511.2995153\tbest: 2508.6858504 (374)\ttotal: 3.11s\tremaining: 1.23s\n",
      "600:\tlearn: 1647.9659777\ttest: 2516.6791086\tbest: 2508.6858504 (374)\ttotal: 3.73s\tremaining: 614ms\n",
      "699:\tlearn: 1604.0548708\ttest: 2522.0023377\tbest: 2508.6858504 (374)\ttotal: 4.33s\tremaining: 0us\n",
      "\n",
      "bestTest = 2508.68585\n",
      "bestIteration = 374\n",
      "\n",
      "Shrink model to first 375 iterations.\n",
      "용산구\n",
      "(20509, 30)\n"
     ]
    },
    {
     "name": "stderr",
     "output_type": "stream",
     "text": [
      "100%|██████████| 4/4 [00:00<00:00, 241.40it/s]\n"
     ]
    },
    {
     "name": "stdout",
     "output_type": "stream",
     "text": [
      "0:\tlearn: 82164.2220307\ttest: 80471.5649952\tbest: 80471.5649952 (0)\ttotal: 7.84ms\tremaining: 5.48s\n",
      "100:\tlearn: 10930.6846191\ttest: 14902.3674016\tbest: 14902.3674016 (100)\ttotal: 687ms\tremaining: 4.08s\n",
      "200:\tlearn: 8710.6064096\ttest: 13914.5119529\tbest: 13914.5119529 (200)\ttotal: 1.34s\tremaining: 3.33s\n",
      "300:\tlearn: 7686.6902901\ttest: 13667.4260347\tbest: 13667.4260347 (300)\ttotal: 2s\tremaining: 2.65s\n",
      "400:\tlearn: 7080.2942521\ttest: 13558.8651396\tbest: 13554.5252157 (396)\ttotal: 2.66s\tremaining: 1.99s\n",
      "500:\tlearn: 6626.2440474\ttest: 13537.5818536\tbest: 13535.2196153 (494)\ttotal: 3.3s\tremaining: 1.31s\n",
      "600:\tlearn: 6269.5748544\ttest: 13517.9881654\tbest: 13514.0644613 (584)\ttotal: 3.92s\tremaining: 646ms\n",
      "699:\tlearn: 5985.0651453\ttest: 13521.9111118\tbest: 13510.1399807 (631)\ttotal: 4.56s\tremaining: 0us\n",
      "\n",
      "bestTest = 13510.13998\n",
      "bestIteration = 631\n",
      "\n",
      "Shrink model to first 632 iterations.\n",
      "금천구\n",
      "(19655, 30)\n"
     ]
    },
    {
     "name": "stderr",
     "output_type": "stream",
     "text": [
      "100%|██████████| 4/4 [00:00<00:00, 257.92it/s]\n"
     ]
    },
    {
     "name": "stdout",
     "output_type": "stream",
     "text": [
      "0:\tlearn: 15036.0578859\ttest: 15480.9708832\tbest: 15480.9708832 (0)\ttotal: 7.01ms\tremaining: 4.9s\n",
      "100:\tlearn: 2221.0773181\ttest: 2588.5265470\tbest: 2588.5265470 (100)\ttotal: 611ms\tremaining: 3.63s\n",
      "200:\tlearn: 1914.6410031\ttest: 2417.5932679\tbest: 2417.5932679 (200)\ttotal: 1.2s\tremaining: 2.98s\n",
      "300:\tlearn: 1750.8841822\ttest: 2367.3049168\tbest: 2367.3049168 (300)\ttotal: 1.81s\tremaining: 2.4s\n",
      "400:\tlearn: 1644.4437258\ttest: 2344.5070481\tbest: 2344.5070481 (400)\ttotal: 2.42s\tremaining: 1.8s\n",
      "500:\tlearn: 1568.3294907\ttest: 2335.3725632\tbest: 2335.3725632 (500)\ttotal: 3.02s\tremaining: 1.2s\n",
      "600:\tlearn: 1511.7371322\ttest: 2332.4986641\tbest: 2330.7197812 (571)\ttotal: 3.61s\tremaining: 595ms\n",
      "699:\tlearn: 1461.4771432\ttest: 2330.9596946\tbest: 2330.0843865 (655)\ttotal: 4.19s\tremaining: 0us\n",
      "\n",
      "bestTest = 2330.084386\n",
      "bestIteration = 655\n",
      "\n",
      "Shrink model to first 656 iterations.\n",
      "중구\n",
      "(13476, 30)\n"
     ]
    },
    {
     "name": "stderr",
     "output_type": "stream",
     "text": [
      "100%|██████████| 4/4 [00:00<00:00, 273.61it/s]\n"
     ]
    },
    {
     "name": "stdout",
     "output_type": "stream",
     "text": [
      "0:\tlearn: 33104.0788570\ttest: 31695.5896506\tbest: 31695.5896506 (0)\ttotal: 6.92ms\tremaining: 4.84s\n",
      "100:\tlearn: 5447.2487089\ttest: 7355.3188223\tbest: 7355.3188223 (100)\ttotal: 598ms\tremaining: 3.54s\n",
      "200:\tlearn: 4605.1968113\ttest: 7086.4282761\tbest: 7086.4282761 (200)\ttotal: 1.2s\tremaining: 2.98s\n",
      "300:\tlearn: 4200.2141588\ttest: 7061.3598155\tbest: 7061.2148897 (299)\ttotal: 1.77s\tremaining: 2.35s\n",
      "400:\tlearn: 3931.2131725\ttest: 7063.4830727\tbest: 7055.2896026 (372)\ttotal: 2.35s\tremaining: 1.75s\n",
      "500:\tlearn: 3745.6946163\ttest: 7072.9146510\tbest: 7055.2896026 (372)\ttotal: 2.91s\tremaining: 1.15s\n",
      "600:\tlearn: 3608.6579196\ttest: 7091.0978029\tbest: 7055.2896026 (372)\ttotal: 3.48s\tremaining: 574ms\n",
      "699:\tlearn: 3500.4236093\ttest: 7095.3933504\tbest: 7055.2896026 (372)\ttotal: 4.05s\tremaining: 0us\n",
      "\n",
      "bestTest = 7055.289603\n",
      "bestIteration = 372\n",
      "\n",
      "Shrink model to first 373 iterations.\n",
      "종로구\n",
      "(9059, 30)\n"
     ]
    },
    {
     "name": "stderr",
     "output_type": "stream",
     "text": [
      "100%|██████████| 4/4 [00:00<00:00, 452.03it/s]\n"
     ]
    },
    {
     "name": "stdout",
     "output_type": "stream",
     "text": [
      "0:\tlearn: 37201.0362767\ttest: 39413.9210778\tbest: 39413.9210778 (0)\ttotal: 4.79ms\tremaining: 3.35s\n",
      "100:\tlearn: 4690.2255373\ttest: 6815.8707343\tbest: 6815.8707343 (100)\ttotal: 412ms\tremaining: 2.44s\n",
      "200:\tlearn: 3680.8845582\ttest: 6458.6070333\tbest: 6458.6070333 (200)\ttotal: 817ms\tremaining: 2.03s\n",
      "300:\tlearn: 3213.7447931\ttest: 6409.4836388\tbest: 6405.4980062 (292)\ttotal: 1.24s\tremaining: 1.65s\n",
      "400:\tlearn: 2912.5125821\ttest: 6404.3427955\tbest: 6392.9697386 (371)\ttotal: 1.66s\tremaining: 1.24s\n",
      "500:\tlearn: 2685.0991283\ttest: 6426.6973197\tbest: 6392.9697386 (371)\ttotal: 2.06s\tremaining: 821ms\n",
      "600:\tlearn: 2522.8879689\ttest: 6457.4413913\tbest: 6392.9697386 (371)\ttotal: 2.47s\tremaining: 407ms\n",
      "699:\tlearn: 2394.3629499\ttest: 6477.7576690\tbest: 6392.9697386 (371)\ttotal: 2.88s\tremaining: 0us\n",
      "\n",
      "bestTest = 6392.969739\n",
      "bestIteration = 371\n",
      "\n",
      "Shrink model to first 372 iterations.\n",
      "Test scores (RMSE) for each 구:\n",
      "노원구: RF RMSE = 3489.3729, CB RMSE = 2325.2941\n",
      "송파구: RF RMSE = 9353.7494, CB RMSE = 6185.4338\n",
      "강남구: RF RMSE = 20218.4125, CB RMSE = 12720.0599\n",
      "강서구: RF RMSE = 4829.6346, CB RMSE = 3244.2772\n",
      "구로구: RF RMSE = 4089.8489, CB RMSE = 2876.1324\n",
      "성북구: RF RMSE = 4114.3255, CB RMSE = 2908.1381\n",
      "양천구: RF RMSE = 6637.3267, CB RMSE = 4289.5181\n",
      "강동구: RF RMSE = 5777.8521, CB RMSE = 3833.6502\n",
      "도봉구: RF RMSE = 3107.7837, CB RMSE = 2431.8664\n",
      "서초구: RF RMSE = 17563.5716, CB RMSE = 10936.0281\n",
      "영등포구: RF RMSE = 6557.7890, CB RMSE = 4361.0089\n",
      "마포구: RF RMSE = 6685.4802, CB RMSE = 5270.0072\n",
      "동작구: RF RMSE = 6176.9560, CB RMSE = 3940.3793\n",
      "동대문구: RF RMSE = 4041.7778, CB RMSE = 2824.7123\n",
      "성동구: RF RMSE = 8413.9803, CB RMSE = 6527.0169\n",
      "은평구: RF RMSE = 4426.8070, CB RMSE = 3614.3117\n",
      "중랑구: RF RMSE = 3304.4117, CB RMSE = 2413.5125\n",
      "관악구: RF RMSE = 4060.6862, CB RMSE = 2998.6962\n",
      "서대문구: RF RMSE = 4974.6289, CB RMSE = 3628.4294\n",
      "광진구: RF RMSE = 8181.4991, CB RMSE = 6569.3626\n",
      "강북구: RF RMSE = 3114.5938, CB RMSE = 2508.6859\n",
      "용산구: RF RMSE = 17379.3606, CB RMSE = 13510.1400\n",
      "금천구: RF RMSE = 3076.6799, CB RMSE = 2330.0844\n",
      "중구: RF RMSE = 7627.9050, CB RMSE = 7055.2896\n",
      "종로구: RF RMSE = 7266.7658, CB RMSE = 6392.9697\n",
      "Global RMSE for the ensemble model: 7191.1494\n"
     ]
    },
    {
     "data": {
      "image/png": "[encoded data removed]",
      "text/plain": [
       "<Figure size 1400x600 with 2 Axes>"
      ]
     },
     "metadata": {},
     "output_type": "display_data"
    }
   ],
   "source": [
    "import pickle\n",
    "import pandas as pd\n",
    "import numpy as np\n",
    "import matplotlib.pyplot as plt\n",
    "import seaborn as sns\n",
    "from sklearn.preprocessing import LabelEncoder\n",
    "from sklearn.model_selection import train_test_split\n",
    "from sklearn.ensemble import RandomForestRegressor\n",
    "from sklearn import metrics\n",
    "from catboost import CatBoostRegressor\n",
    "from tqdm import tqdm\n",
    "\n",
    "# 중요도가 높은 피처 리스트\n",
    "important_features = [\n",
    "    'index', '전용면적', 'mean_price', '건축년도', '좌표Y', '아파트명', \n",
    "    '실거래가격지수', '최대층수', '주소', '면적구간', \n",
    "    '계약년', '동', '좌표X', '도로명', '지하철거리', '타겟_평균(동)',\n",
    "    '타겟_면적당_비율(동)', '타겟_평균(구)', '타겟_면적당_비율(구)'\n",
    "]\n",
    "\n",
    "def calculate_se(target, pred):\n",
    "    squared_errors = (target - pred) ** 2\n",
    "    return squared_errors\n",
    "\n",
    "output_df = pd.DataFrame()\n",
    "test_score = []\n",
    "\n",
    "# Lists to store all predictions and targets for global RMSE calculation\n",
    "all_y_val = []\n",
    "all_rf_pred = []\n",
    "all_cb_pred = []\n",
    "\n",
    "for gu in df['구'].value_counts().keys():\n",
    "    print(gu)\n",
    "    concat_select_gu = df[df['구'] == gu]\n",
    "    print(concat_select_gu.shape)\n",
    "    \n",
    "    # Filter columns based on important_features and include 'target'\n",
    "    dt_train = concat_select_gu.query('is_test == 0')[important_features + ['target']]\n",
    "    dt_test = concat_select_gu.query('is_test == 1')[important_features]\n",
    "\n",
    "    # Drop the 'is_test' column\n",
    "    dt_test['target'] = 0\n",
    "\n",
    "    label_encoders = {}\n",
    "    continuous_columns_v2 = []\n",
    "    categorical_columns_v2 = []\n",
    "\n",
    "    for column in dt_train.columns:\n",
    "        if pd.api.types.is_numeric_dtype(dt_train[column]):\n",
    "            continuous_columns_v2.append(column)\n",
    "        else:\n",
    "            categorical_columns_v2.append(column)\n",
    "\n",
    "    for col in tqdm(categorical_columns_v2):\n",
    "        lbl = LabelEncoder()\n",
    "        lbl.fit(dt_train[col].astype(str))\n",
    "        dt_train[col] = lbl.transform(dt_train[col].astype(str))\n",
    "        label_encoders[col] = lbl\n",
    "\n",
    "        for label in np.unique(dt_test[col]):\n",
    "            if label not in lbl.classes_:\n",
    "                lbl.classes_ = np.append(lbl.classes_, label)\n",
    "\n",
    "        dt_test[col] = lbl.transform(dt_test[col].astype(str))\n",
    "\n",
    "    assert dt_train.shape[1] == dt_test.shape[1]\n",
    "\n",
    "    y_train = dt_train['target']\n",
    "    X_train = dt_train.drop(['target'], axis=1)\n",
    "    # Split data for training and validation\n",
    "    X_train, X_val, y_train, y_val = train_test_split(X_train, y_train, test_size=0.2, random_state=2023)\n",
    "\n",
    "    # Initialize and train RandomForest model with best hyperparameters\n",
    "    rf_model = RandomForestRegressor(\n",
    "        n_estimators=200,\n",
    "        max_depth=10,\n",
    "        min_samples_split=2,\n",
    "        min_samples_leaf=1,\n",
    "        max_features='auto',\n",
    "        random_state=1,\n",
    "        n_jobs=-1\n",
    "    )\n",
    "    rf_model.fit(X_train, y_train)\n",
    "    rf_pred = rf_model.predict(X_val)\n",
    "\n",
    "    # Initialize and train CatBoost model\n",
    "    cb_model = CatBoostRegressor(\n",
    "        iterations=700,\n",
    "        depth=10,\n",
    "        learning_rate=0.1,\n",
    "        loss_function='RMSE',\n",
    "        random_state=1,\n",
    "        verbose=100\n",
    "    )\n",
    "    cb_model.fit(X_train, y_train, eval_set=(X_val, y_val), plot=False)\n",
    "    cb_pred = cb_model.predict(X_val)\n",
    "\n",
    "    # Calculate RMSE for both models\n",
    "    rf_rmse = np.sqrt(metrics.mean_squared_error(y_val, rf_pred))\n",
    "    cb_rmse = np.sqrt(metrics.mean_squared_error(y_val, cb_pred))\n",
    "    test_score.append((gu, rf_rmse, cb_rmse))\n",
    "\n",
    "    # Store predictions and actual values for global RMSE calculation\n",
    "    all_y_val.extend(y_val)\n",
    "    all_rf_pred.extend(rf_pred)\n",
    "    all_cb_pred.extend(cb_pred)\n",
    "\n",
    "    # Save both models\n",
    "    with open('saved_rf_model.pkl', 'wb') as f:\n",
    "        pickle.dump(rf_model, f)\n",
    "    \n",
    "    with open('saved_cb_model.pkl', 'wb') as f:\n",
    "        pickle.dump(cb_model, f)\n",
    "\n",
    "    # Load models\n",
    "    with open('saved_rf_model.pkl', 'rb') as f:\n",
    "        rf_model = pickle.load(f)\n",
    "    \n",
    "    with open('saved_cb_model.pkl', 'rb') as f:\n",
    "        cb_model = pickle.load(f)\n",
    "\n",
    "    # Drop 'target' column before prediction\n",
    "    X_test = dt_test.drop(columns=['target'], errors='ignore')\n",
    "\n",
    "    # Ensure columns match between train and test\n",
    "    X_test = X_test.reindex(columns=X_train.columns, fill_value=0)  # Align columns with training data\n",
    "\n",
    "    # Make predictions with both models\n",
    "    rf_test_pred = rf_model.predict(X_test)\n",
    "    cb_test_pred = cb_model.predict(X_test)\n",
    "\n",
    "    # Average the predictions from both models\n",
    "    final_pred = (rf_test_pred * 0.7 + cb_test_pred * 0.3)  # 0.7 for RandomForest, 0.3 for CatBoost\n",
    "\n",
    "    # Prepare the results\n",
    "    preds_df = pd.DataFrame(final_pred.astype(int), columns=[\"target\"])\n",
    "    preds_df_gu = pd.concat([dt_test.reset_index(drop=True)['index'], preds_df], axis=1)\n",
    "    \n",
    "    output_df = pd.concat([output_df, preds_df_gu])\n",
    "\n",
    "# Sort and save the output dataframe with only the target column\n",
    "output_df.sort_values('index').drop('index', axis=1).to_csv('7월19일_앙상블_하이퍼파라미터튜닝.csv', index=False)\n",
    "\n",
    "# Calculate global RMSE\n",
    "all_y_val = np.array(all_y_val)\n",
    "all_rf_pred = np.array(all_rf_pred)\n",
    "all_cb_pred = np.array(all_cb_pred)\n",
    "\n",
    "# Compute final prediction using the same weights\n",
    "final_global_pred = (all_rf_pred * 0.7 + all_cb_pred * 0.3)\n",
    "global_rmse = np.sqrt(metrics.mean_squared_error(all_y_val, final_global_pred))\n",
    "\n",
    "print(\"Test scores (RMSE) for each 구:\")\n",
    "for score in test_score:\n",
    "    print(f\"{score[0]}: RF RMSE = {score[1]:.4f}, CB RMSE = {score[2]:.4f}\")\n",
    "\n",
    "print(f\"Global RMSE for the ensemble model: {global_rmse:.4f}\")\n",
    "\n",
    "# Feature Importance Visualization\n",
    "importances_rf = pd.Series(rf_model.feature_importances_, index=X_train.columns)\n",
    "importances_rf = importances_rf.sort_values(ascending=False)\n",
    "\n",
    "importances_cb = pd.Series(cb_model.get_feature_importance(), index=X_train.columns)\n",
    "importances_cb = importances_cb.sort_values(ascending=False)\n",
    "\n",
    "plt.figure(figsize=(14, 6))\n",
    "\n",
    "# RandomForest Feature Importance\n",
    "plt.subplot(1, 2, 1)\n",
    "sns.barplot(x=importances_rf, y=importances_rf.index)\n",
    "plt.title('RandomForest Feature Importance')\n",
    "\n",
    "# CatBoost Feature Importance\n",
    "plt.subplot(1, 2, 2)\n",
    "sns.barplot(x=importances_cb, y=importances_cb.index)\n",
    "plt.title('CatBoost Feature Importance')\n",
    "\n",
    "plt.tight_layout()\n",
    "plt.show()\n"
   ]
  },
  {
   "cell_type": "markdown",
   "metadata": {},
   "source": [
    "- 전용면적\n",
    "- mean_price\n",
    "- 건축년도\n",
    "- 좌표 Y\n",
    "- 아파트명\n",
    "- 실거래가격지수\n",
    "- 최대층수\n",
    "- 주소\n",
    "- 면적구간\n",
    "- 계약년\n",
    "- 동\n",
    "- 좌표 X\n",
    "- 도로명\n",
    "- 지하철거리"
   ]
  },
  {
   "cell_type": "code",
   "execution_count": 11,
   "metadata": {},
   "outputs": [
    {
     "name": "stdout",
     "output_type": "stream",
     "text": [
      "노원구\n",
      "(114864, 26)\n"
     ]
    },
    {
     "name": "stderr",
     "output_type": "stream",
     "text": [
      "100%|██████████| 4/4 [00:00<00:00, 38.89it/s]\n"
     ]
    },
    {
     "ename": "AssertionError",
     "evalue": "",
     "output_type": "error",
     "traceback": [
      "\u001b[0;31m---------------------------------------------------------------------------\u001b[0m",
      "\u001b[0;31mAssertionError\u001b[0m                            Traceback (most recent call last)",
      "Cell \u001b[0;32mIn[11], line 64\u001b[0m\n\u001b[1;32m     60\u001b[0m             lbl\u001b[38;5;241m.\u001b[39mclasses_ \u001b[38;5;241m=\u001b[39m np\u001b[38;5;241m.\u001b[39mappend(lbl\u001b[38;5;241m.\u001b[39mclasses_, label)\n\u001b[1;32m     62\u001b[0m     dt_test[col] \u001b[38;5;241m=\u001b[39m lbl\u001b[38;5;241m.\u001b[39mtransform(dt_test[col]\u001b[38;5;241m.\u001b[39mastype(\u001b[38;5;28mstr\u001b[39m))\n\u001b[0;32m---> 64\u001b[0m \u001b[38;5;28;01massert\u001b[39;00m dt_train\u001b[38;5;241m.\u001b[39mshape[\u001b[38;5;241m1\u001b[39m] \u001b[38;5;241m==\u001b[39m dt_test\u001b[38;5;241m.\u001b[39mshape[\u001b[38;5;241m1\u001b[39m] \u001b[38;5;241m+\u001b[39m \u001b[38;5;241m1\u001b[39m  \u001b[38;5;66;03m# target column이 dt_train에만 있으므로 +1\u001b[39;00m\n\u001b[1;32m     66\u001b[0m y_train \u001b[38;5;241m=\u001b[39m dt_train[\u001b[38;5;124m'\u001b[39m\u001b[38;5;124mtarget\u001b[39m\u001b[38;5;124m'\u001b[39m]\n\u001b[1;32m     67\u001b[0m X_train \u001b[38;5;241m=\u001b[39m dt_train\u001b[38;5;241m.\u001b[39mdrop([\u001b[38;5;124m'\u001b[39m\u001b[38;5;124mtarget\u001b[39m\u001b[38;5;124m'\u001b[39m], axis\u001b[38;5;241m=\u001b[39m\u001b[38;5;241m1\u001b[39m)\n",
      "\u001b[0;31mAssertionError\u001b[0m: "
     ]
    }
   ],
   "source": [
    "import pickle\n",
    "import pandas as pd\n",
    "import numpy as np\n",
    "import matplotlib.pyplot as plt\n",
    "import seaborn as sns\n",
    "from sklearn.preprocessing import LabelEncoder\n",
    "from sklearn.model_selection import train_test_split\n",
    "from sklearn.ensemble import RandomForestRegressor\n",
    "from sklearn import metrics\n",
    "from catboost import CatBoostRegressor\n",
    "from tqdm import tqdm\n",
    "\n",
    "# 중요도가 높은 피처 리스트\n",
    "important_features = [\n",
    "    '전용면적', 'mean_price', '건축년도', '좌표Y', '아파트명', \n",
    "    '실거래가격지수', '최대층수', '주소', '면적구간', \n",
    "    '계약년', '동', '좌표X', '도로명', '지하철거리'\n",
    "]\n",
    "\n",
    "def calculate_se(target, pred):\n",
    "    squared_errors = (target - pred) ** 2\n",
    "    return squared_errors\n",
    "\n",
    "output_df = pd.DataFrame()\n",
    "test_score = []\n",
    "\n",
    "# Lists to store all predictions and targets for global RMSE calculation\n",
    "all_y_val = []\n",
    "all_rf_pred = []\n",
    "all_cb_pred = []\n",
    "\n",
    "for gu in df['구'].value_counts().keys():\n",
    "    print(gu)\n",
    "    concat_select_gu = df[df['구'] == gu]\n",
    "    print(concat_select_gu.shape)\n",
    "    dt_train = concat_select_gu.query('is_test == 0')[important_features + ['target']]\n",
    "    dt_test = concat_select_gu.query('is_test == 1')[important_features]\n",
    "    \n",
    "    # Drop the 'is_test' column\n",
    "    dt_test['target'] = 0\n",
    "\n",
    "    label_encoders = {}\n",
    "    continuous_columns_v2 = []\n",
    "    categorical_columns_v2 = []\n",
    "\n",
    "    for column in dt_train.columns:\n",
    "        if pd.api.types.is_numeric_dtype(dt_train[column]):\n",
    "            continuous_columns_v2.append(column)\n",
    "        else:\n",
    "            categorical_columns_v2.append(column)\n",
    "\n",
    "    for col in tqdm(categorical_columns_v2):\n",
    "        lbl = LabelEncoder()\n",
    "        lbl.fit(dt_train[col].astype(str))\n",
    "        dt_train[col] = lbl.transform(dt_train[col].astype(str))\n",
    "        label_encoders[col] = lbl\n",
    "\n",
    "        for label in np.unique(dt_test[col]):\n",
    "            if label not in lbl.classes_:\n",
    "                lbl.classes_ = np.append(lbl.classes_, label)\n",
    "\n",
    "        dt_test[col] = lbl.transform(dt_test[col].astype(str))\n",
    "\n",
    "    assert dt_train.shape[1] == dt_test.shape[1] + 1  # target column이 dt_train에만 있으므로 +1\n",
    "\n",
    "    y_train = dt_train['target']\n",
    "    X_train = dt_train.drop(['target'], axis=1)\n",
    "    # Split data for training and validation\n",
    "    X_train, X_val, y_train, y_val = train_test_split(X_train, y_train, test_size=0.2, random_state=2023)\n",
    "\n",
    "    # Initialize and train RandomForest model with best hyperparameters\n",
    "    rf_model = RandomForestRegressor(\n",
    "        n_estimators=200,\n",
    "        max_depth=10,\n",
    "        min_samples_split=2,\n",
    "        min_samples_leaf=1,\n",
    "        max_features='auto',\n",
    "        random_state=1,\n",
    "        n_jobs=-1\n",
    "    )\n",
    "    rf_model.fit(X_train, y_train)\n",
    "    rf_pred = rf_model.predict(X_val)\n",
    "\n",
    "    # Initialize and train CatBoost model\n",
    "    cb_model = CatBoostRegressor(\n",
    "        iterations=700,\n",
    "        depth=10,\n",
    "        learning_rate=0.1,\n",
    "        loss_function='RMSE',\n",
    "        random_state=1,\n",
    "        verbose=100\n",
    "    )\n",
    "    cb_model.fit(X_train, y_train, eval_set=(X_val, y_val), plot=False)\n",
    "    cb_pred = cb_model.predict(X_val)\n",
    "\n",
    "    # Calculate RMSE for both models\n",
    "    rf_rmse = np.sqrt(metrics.mean_squared_error(y_val, rf_pred))\n",
    "    cb_rmse = np.sqrt(metrics.mean_squared_error(y_val, cb_pred))\n",
    "    test_score.append((gu, rf_rmse, cb_rmse))\n",
    "\n",
    "    # Store predictions and actual values for global RMSE calculation\n",
    "    all_y_val.extend(y_val)\n",
    "    all_rf_pred.extend(rf_pred)\n",
    "    all_cb_pred.extend(cb_pred)\n",
    "\n",
    "    # Save both models\n",
    "    with open('saved_rf_model.pkl', 'wb') as f:\n",
    "        pickle.dump(rf_model, f)\n",
    "    \n",
    "    with open('saved_cb_model.pkl', 'wb') as f:\n",
    "        pickle.dump(cb_model, f)\n",
    "\n",
    "    # Load models\n",
    "    with open('saved_rf_model.pkl', 'rb') as f:\n",
    "        rf_model = pickle.load(f)\n",
    "    \n",
    "    with open('saved_cb_model.pkl', 'rb') as f:\n",
    "        cb_model = pickle.load(f)\n",
    "\n",
    "    # Drop 'target' column before prediction\n",
    "    X_test = dt_test.drop(columns=['target'], errors='ignore')\n",
    "\n",
    "    # Ensure columns match between train and test\n",
    "    X_test = X_test.reindex(columns=X_train.columns, fill_value=0)  # Align columns with training data\n",
    "\n",
    "    # Make predictions with both models\n",
    "    rf_test_pred = rf_model.predict(X_test)\n",
    "    cb_test_pred = cb_model.predict(X_test)\n",
    "\n",
    "    # Average the predictions from both models\n",
    "    final_pred = (rf_test_pred * 0.7 + cb_test_pred * 0.3)  # 0.7 for RandomForest, 0.3 for CatBoost\n",
    "\n",
    "    # Prepare the results\n",
    "    preds_df = pd.DataFrame(final_pred.astype(int), columns=[\"target\"])\n",
    "    preds_df_gu = pd.concat([dt_test.reset_index(drop=True)['index'], preds_df], axis=1)\n",
    "    \n",
    "    output_df = pd.concat([output_df, preds_df_gu])\n",
    "\n",
    "# Sort and save the output dataframe with only the target column\n",
    "output_df.sort_values('index').drop('index', axis=1).to_csv('7월19일_앙상블_하이퍼파라미터튜닝.csv', index=False)\n",
    "\n",
    "# Calculate global RMSE\n",
    "all_y_val = np.array(all_y_val)\n",
    "all_rf_pred = np.array(all_rf_pred)\n",
    "all_cb_pred = np.array(all_cb_pred)\n",
    "\n",
    "# Compute final prediction using the same weights\n",
    "final_global_pred = (all_rf_pred * 0.7 + all_cb_pred * 0.3)\n",
    "global_rmse = np.sqrt(metrics.mean_squared_error(all_y_val, final_global_pred))\n",
    "\n",
    "print(\"Test scores (RMSE) for each 구:\")\n",
    "for score in test_score:\n",
    "    print(f\"{score[0]}: RF RMSE = {score[1]:.4f}, CB RMSE = {score[2]:.4f}\")\n",
    "\n",
    "print(f\"Global RMSE for the ensemble model: {global_rmse:.4f}\")\n",
    "\n",
    "# Feature Importance Visualization\n",
    "importances_rf = pd.Series(rf_model.feature_importances_, index=X_train.columns)\n",
    "importances_rf = importances_rf.sort_values(ascending=False)\n",
    "\n",
    "importances_cb = pd.Series(cb_model.get_feature_importance(), index=X_train.columns)\n",
    "importances_cb = importances_cb.sort_values(ascending=False)\n",
    "\n",
    "plt.figure(figsize=(14, 6))\n",
    "\n",
    "# RandomForest Feature Importance\n",
    "plt.subplot(1, 2, 1)\n",
    "sns.barplot(x=importances_rf, y=importances_rf.index)\n",
    "plt.title('RandomForest Feature Importance')\n",
    "\n",
    "# CatBoost Feature Importance\n",
    "plt.subplot(1, 2, 2)\n",
    "sns.barplot(x=importances_cb, y=importances_cb.index)\n",
    "plt.title('CatBoost Feature Importance')\n",
    "\n",
    "plt.tight_layout()\n",
    "plt.show()\n"
   ]
  },
  {
   "cell_type": "code",
   "execution_count": null,
   "metadata": {},
   "outputs": [],
   "source": []
  }
 ],
 "metadata": {
  "kernelspec": {
   "display_name": "base",
   "language": "python",
   "name": "python3"
  },
  "language_info": {
   "codemirror_mode": {
    "name": "ipython",
    "version": 3
   },
   "file_extension": ".py",
   "mimetype": "text/x-python",
   "name": "python",
   "nbconvert_exporter": "python",
   "pygments_lexer": "ipython3",
   "version": "3.10.13"
  }
 },
 "nbformat": 4,
 "nbformat_minor": 2
}
