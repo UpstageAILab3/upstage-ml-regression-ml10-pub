{
 "cells": [
  {
   "cell_type": "markdown",
   "metadata": {},
   "source": [
    "## 데이터 로드 및 기본 전처리"
   ]
  },
  {
   "cell_type": "code",
   "execution_count": 14,
   "metadata": {},
   "outputs": [
    {
     "data": {
      "text/plain": [
       "(1101129, 56)"
      ]
     },
     "metadata": {},
     "output_type": "display_data"
    },
    {
     "data": {
      "text/plain": [
       "Index(['index', '시군구', '번지', '본번', '부번', '아파트명', '전용면적', '계약년월', '계약일', '층',\n",
       "       '건축년도', '도로명', '해제사유발생일', '등기신청일자', '거래유형', '중개사소재지',\n",
       "       'k-단지분류(아파트,주상복합등등)', 'k-전화번호', 'k-팩스번호', '단지소개기존clob', 'k-세대타입(분양형태)',\n",
       "       'k-관리방식', 'k-복도유형', 'k-난방방식', 'k-전체동수', 'k-전체세대수', 'k-건설사(시공사)',\n",
       "       'k-시행사', 'k-사용검사일-사용승인일', 'k-연면적', 'k-주거전용면적', 'k-관리비부과면적', '60m이하',\n",
       "       '85m이하', '135m이하', '135m초과', 'k-홈페이지', 'k-등록일자', 'k-수정일자', '고용보험관리번호',\n",
       "       '경비비관리형태', '세대전기계약방법', '청소비관리형태', '건축면적', '주차대수', '기타/의무/임대/임의=1/2/3/4',\n",
       "       '단지승인일', '사용허가여부', '관리비 업로드', '단지신청일', 'target', '주소', '좌표X', '좌표Y',\n",
       "       'station_area', 'is_test'],\n",
       "      dtype='object')"
      ]
     },
     "metadata": {},
     "output_type": "display_data"
    },
    {
     "data": {
      "text/plain": [
       "index                        0\n",
       "시군구                          0\n",
       "번지                         227\n",
       "본번                          75\n",
       "부번                          75\n",
       "아파트명                      2135\n",
       "전용면적                         0\n",
       "계약년월                         0\n",
       "계약일                          0\n",
       "층                            0\n",
       "건축년도                         0\n",
       "도로명                          0\n",
       "해제사유발생일                1095035\n",
       "등기신청일자                       0\n",
       "거래유형                         0\n",
       "중개사소재지                       0\n",
       "k-단지분류(아파트,주상복합등등)      852043\n",
       "k-전화번호                  851620\n",
       "k-팩스번호                  854118\n",
       "단지소개기존clob             1031995\n",
       "k-세대타입(분양형태)            850895\n",
       "k-관리방식                  850895\n",
       "k-복도유형                  851224\n",
       "k-난방방식                  850895\n",
       "k-전체동수                  851977\n",
       "k-전체세대수                 850895\n",
       "k-건설사(시공사)              852407\n",
       "k-시행사                   852604\n",
       "k-사용검사일-사용승인일           851029\n",
       "k-연면적                   850895\n",
       "k-주거전용면적                850940\n",
       "k-관리비부과면적               850895\n",
       "60m이하                   850940\n",
       "85m이하                   850940\n",
       "135m이하                  850940\n",
       "135m초과                 1100800\n",
       "k-홈페이지                  987621\n",
       "k-등록일자                 1089562\n",
       "k-수정일자                  850940\n",
       "고용보험관리번호                895386\n",
       "경비비관리형태                 852331\n",
       "세대전기계약방법                860001\n",
       "청소비관리형태                 852521\n",
       "건축면적                    851049\n",
       "주차대수                    851047\n",
       "기타/의무/임대/임의=1/2/3/4     850895\n",
       "단지승인일                   851624\n",
       "사용허가여부                  850895\n",
       "관리비 업로드                 850895\n",
       "단지신청일                   850957\n",
       "target                    9272\n",
       "주소                           0\n",
       "좌표X                          0\n",
       "좌표Y                          0\n",
       "station_area                 0\n",
       "is_test                      0\n",
       "dtype: int64"
      ]
     },
     "metadata": {},
     "output_type": "display_data"
    }
   ],
   "source": [
    "import pandas as pd\n",
    "import seaborn as sns\n",
    "import matplotlib.pyplot as plt\n",
    "import numpy as np\n",
    "from tqdm import tqdm\n",
    "import warnings;warnings.filterwarnings('ignore')\n",
    "import re\n",
    "\n",
    "from sklearn.preprocessing import LabelEncoder\n",
    "from sklearn.model_selection import train_test_split\n",
    "from sklearn.metrics import mean_squared_error\n",
    "from sklearn.ensemble import RandomForestRegressor\n",
    "from sklearn import metrics\n",
    "\n",
    "\n",
    "pd.options.mode.copy_on_write = True\n",
    "plt.rcParams['font.family'] ='AppleGothic'\n",
    "plt.rcParams['axes.unicode_minus'] =False\n",
    "\n",
    "# 데이터를 load (역세권 여부 추가한 데이터를 불러오겠습니다.)\n",
    "dt = pd.read_csv('../data/train_v3.csv')\n",
    "dt_test = pd.read_csv('../data/test_v3.csv')\n",
    "subway = pd.read_csv('../data/subway_feature.csv')\n",
    "\n",
    "# 전처리 편의를 위해 컬럼명 조정\n",
    "subway = subway.rename(columns={'위도': '좌표Y', '경도': '좌표X'})\n",
    "\n",
    "# 하나의 데이터로 만들어줍니다.\n",
    "dt['is_test'] = 0\n",
    "dt_test['is_test'] = 1\n",
    "dt_test['index'] += (dt['index'].max()+1)\n",
    "concat = pd.concat([dt, dt_test])\n",
    "concat = concat.rename(columns={'전용면적(㎡)':'전용면적', 'k-전용면적별세대현황(60㎡이하)':'60m이하', 'k-전용면적별세대현황(60㎡~85㎡이하)':'85m이하', 'k-85㎡~135㎡이하':'135m이하', 'k-135㎡초과':'135m초과'})\n",
    "\n",
    "\n",
    "display(concat.shape)\n",
    "display(concat.columns)\n",
    "display(concat.isnull().sum())"
   ]
  },
  {
   "cell_type": "markdown",
   "metadata": {},
   "source": [
    "역세권(station_area) one-hot-encoding"
   ]
  },
  {
   "cell_type": "code",
   "execution_count": 15,
   "metadata": {},
   "outputs": [],
   "source": [
    "concat = pd.get_dummies(concat, columns=['station_area'])"
   ]
  },
  {
   "cell_type": "markdown",
   "metadata": {},
   "source": [
    "계약년월에 따른 실거래가격지수 추가"
   ]
  },
  {
   "cell_type": "code",
   "execution_count": 16,
   "metadata": {},
   "outputs": [],
   "source": [
    "price_index = pd.read_csv('../data/실거래가격지수.csv', encoding=\"utf-8\")\n",
    "price_index['계약년월'] = price_index['시점'].apply(lambda x : int(\"{:.2f}\".format(x).replace('.', '')))\n",
    "price_index['실거래가격지수'] = price_index['서울']\n",
    "concat = concat.merge(price_index[['계약년월', '실거래가격지수']], on='계약년월')"
   ]
  },
  {
   "cell_type": "markdown",
   "metadata": {},
   "source": [
    "아파트 평균 거래가격 추가"
   ]
  },
  {
   "cell_type": "code",
   "execution_count": 17,
   "metadata": {},
   "outputs": [],
   "source": [
    "# base_mean = pd.read_csv('../data/base_mean.csv', encoding=\"utf-8\")\n",
    "# concat['recover_num'] = concat.index\n",
    "# concat_merge = concat.merge(base_mean, on='recover_num', how='left')\n",
    "# mask = concat_merge['구분date'].isna()\n",
    "# concat_merge.loc[mask, '구분date'] = concat_merge.loc[mask, '구분date'].fillna(0)\n",
    "# concat_merge.loc[mask, 'mean'] = concat_merge.loc[mask, 'mean'].fillna(0)\n",
    "# concat = concat_merge"
   ]
  },
  {
   "cell_type": "markdown",
   "metadata": {},
   "source": [
    "규모별매매평균가격"
   ]
  },
  {
   "cell_type": "code",
   "execution_count": 18,
   "metadata": {},
   "outputs": [],
   "source": [
    "price = pd.read_csv('../data/규모별매매평균가격.csv', encoding=\"utf-8\")\n",
    "price = price.drop(index=0, axis=0)\n",
    "price.rename(columns={\n",
    "    '시점': '시점',\n",
    "    '초소형(40㎡ 이하)': 1,\n",
    "    '소형(40㎡초과 60㎡이하)': 2,\n",
    "    '중소형(60㎡초과 85㎡이하)': 3,\n",
    "    '중대형(85㎡초과 135㎡이하)': 4,\n",
    "    '대형(135㎡ 초과)': 5\n",
    "}, inplace=True)\n",
    "price['계약년월'] = price['시점'].apply(lambda x : int(x.replace('.', '')))\n",
    "price.set_index('계약년월', inplace=True)\n",
    "price[[1, 2, 3, 4, 5]] = price[[1, 2, 3, 4, 5]].astype(np.float64)*100\n",
    "\n",
    "# 전용면적에 따라 적절한 구간 컬럼을 선택\n",
    "def select_area_column(x):\n",
    "    if x <= 40:\n",
    "        return 1\n",
    "    elif x <= 60:\n",
    "        return 2\n",
    "    elif x <= 85:\n",
    "        return 3\n",
    "    elif x <= 135:\n",
    "        return 4\n",
    "    else:\n",
    "        return 5\n",
    "\n",
    "# 새로운 컬럼을 추가하여 면적 구간 컬럼을 저장\n",
    "concat['면적구간'] = concat['전용면적'].apply(select_area_column)\n",
    "\n",
    "def conversion(row):\n",
    "    y = row['계약년월']\n",
    "    x = row['면적구간']\n",
    "    return price.loc[y, x]\n",
    "\n",
    "\n",
    "concat['mean_price'] = concat[['계약년월', '면적구간']].apply(conversion, axis=1)\n",
    "\n",
    "# '가격' 컬럼을 'mean_price' 컬럼으로 변경\n",
    "concat = concat.rename(columns={'가격': 'mean_price'})"
   ]
  },
  {
   "cell_type": "markdown",
   "metadata": {},
   "source": [
    "전체 층수 컬럼 추가"
   ]
  },
  {
   "cell_type": "code",
   "execution_count": 19,
   "metadata": {},
   "outputs": [],
   "source": [
    "max_floor = concat.groupby('주소')['층'].max()\n",
    "concat = concat.merge(max_floor, on='주소').rename(columns={'층_y': '최대층수'})\n"
   ]
  },
  {
   "cell_type": "markdown",
   "metadata": {},
   "source": [
    "지하철 거리 추가"
   ]
  },
  {
   "cell_type": "code",
   "execution_count": 20,
   "metadata": {},
   "outputs": [],
   "source": [
    "from math import radians, cos, dist\n",
    "\n",
    "def GCS_to_meter(x1, y1, x2, y2):\n",
    "    meter_y = 6371 * radians(1)\n",
    "    meter_x = meter_y * cos(radians((y1+y2)/2))\n",
    "    x = list(map(lambda x : x * meter_x, (x1 , x2)))\n",
    "    y = list(map(lambda x : x * meter_y, (y1 , y2)))\n",
    "    distance = dist((x[0], y[0]), (x[1], y[1]))\n",
    "    return distance*1000\n",
    "\n",
    "apt_coordinate = concat.drop_duplicates(subset='주소')[['주소', '좌표X', '좌표Y']]\n",
    "station_dist_df = pd.DataFrame()\n",
    "for apt_address, apt_x, apt_y in apt_coordinate.values:\n",
    "    station_dist = []\n",
    "    for sub_x, sub_y in subway[['좌표X', '좌표Y']].values:\n",
    "        station_dist.append(GCS_to_meter(sub_x, sub_y, apt_x, apt_y))\n",
    "    station_dist_df = pd.concat([station_dist_df, pd.DataFrame([[apt_address, min(station_dist)]], columns=['주소', '지하철거리'])])\n",
    "\n",
    "    \n",
    "concat = concat.merge(station_dist_df, on='주소')"
   ]
  },
  {
   "cell_type": "code",
   "execution_count": 21,
   "metadata": {},
   "outputs": [],
   "source": [
    "# 결측치 중 아무 의미도 갖지 않는 element를 결측치로 처리하겠습니다.\n",
    "concat['등기신청일자'] = concat['등기신청일자'].replace(' ', np.nan)\n",
    "concat['거래유형'] = concat['거래유형'].replace('-', np.nan)\n",
    "concat['중개사소재지'] = concat['중개사소재지'].replace('-', np.nan)\n",
    "concat['건축면적'] = concat['건축면적'].replace(0, np.nan)\n",
    "concat['주차대수'] = concat['주차대수'].replace(0, np.nan)"
   ]
  },
  {
   "cell_type": "code",
   "execution_count": 22,
   "metadata": {},
   "outputs": [
    {
     "data": {
      "image/png": "[encoded data removed]",
      "text/plain": [
       "<Figure size 1300x200 with 1 Axes>"
      ]
     },
     "metadata": {},
     "output_type": "display_data"
    }
   ],
   "source": [
    "# 변수별 결측치의 비율을 plot으로 그려보면 아래와 같습니다.\n",
    "fig = plt.figure(figsize=(13, 2))\n",
    "missing = concat.isnull().sum() / concat.shape[0]\n",
    "missing = missing[missing > 0]\n",
    "missing.sort_values(inplace=True)\n",
    "missing.plot.bar(color='orange')\n",
    "plt.title('변수별 결측치 비율')\n",
    "plt.show()"
   ]
  },
  {
   "cell_type": "code",
   "execution_count": 23,
   "metadata": {},
   "outputs": [
    {
     "name": "stdout",
     "output_type": "stream",
     "text": [
      "* 결측치가 80만개 이하인 변수들 : ['index', '시군구', '번지', '본번', '부번', '아파트명', '전용면적', '계약년월', '계약일', '층_x', '건축년도', '도로명', 'target', '주소', '좌표X', '좌표Y', 'is_test', 'station_area_0.0', 'station_area_1.0', '실거래가격지수', '면적구간', 'mean_price', '최대층수', '지하철거리']\n",
      "* 결측치가 80만개 이상인 변수들 : ['해제사유발생일', '등기신청일자', '거래유형', '중개사소재지', 'k-단지분류(아파트,주상복합등등)', 'k-전화번호', 'k-팩스번호', '단지소개기존clob', 'k-세대타입(분양형태)', 'k-관리방식', 'k-복도유형', 'k-난방방식', 'k-전체동수', 'k-전체세대수', 'k-건설사(시공사)', 'k-시행사', 'k-사용검사일-사용승인일', 'k-연면적', 'k-주거전용면적', 'k-관리비부과면적', '60m이하', '85m이하', '135m이하', '135m초과', 'k-홈페이지', 'k-등록일자', 'k-수정일자', '고용보험관리번호', '경비비관리형태', '세대전기계약방법', '청소비관리형태', '건축면적', '주차대수', '기타/의무/임대/임의=1/2/3/4', '단지승인일', '사용허가여부', '관리비 업로드', '단지신청일']\n"
     ]
    }
   ],
   "source": [
    "# Null값이 80만개 이상인 칼럼은 삭제해보도록 하겠습니다.\n",
    "print('* 결측치가 80만개 이하인 변수들 :', list(concat.columns[concat.isnull().sum() <= 800000]))     # 남겨질 변수들은 아래와 같습니다.\n",
    "print('* 결측치가 80만개 이상인 변수들 :', list(concat.columns[concat.isnull().sum() >= 800000]))"
   ]
  },
  {
   "cell_type": "code",
   "execution_count": 25,
   "metadata": {},
   "outputs": [],
   "source": [
    "# 위에서 결측치가 80만개 이하인 변수들만 골라 새로운 concat_select 객체로 저장해줍니다.\n",
    "concat.drop(columns=['번지', '본번', '부번'], inplace=True)\n",
    "selected = list(concat.columns[concat.isnull().sum() <= 800000])\n",
    "concat_select = concat[selected]"
   ]
  },
  {
   "cell_type": "code",
   "execution_count": 26,
   "metadata": {},
   "outputs": [
    {
     "name": "stdout",
     "output_type": "stream",
     "text": [
      "연속형 변수: ['index', '전용면적', '계약년월', '계약일', '층_x', '건축년도', 'target', '좌표X', '좌표Y', 'is_test', 'station_area_0.0', 'station_area_1.0', '실거래가격지수', '면적구간', 'mean_price', '최대층수', '지하철거리']\n",
      "범주형 변수: ['시군구', '아파트명', '도로명', '주소']\n"
     ]
    }
   ],
   "source": [
    "continuous_columns = []\n",
    "categorical_columns = []\n",
    "\n",
    "for column in concat_select.columns:\n",
    "    if pd.api.types.is_numeric_dtype(concat_select[column]):\n",
    "        continuous_columns.append(column)\n",
    "    else:\n",
    "        categorical_columns.append(column)\n",
    "\n",
    "print(\"연속형 변수:\", continuous_columns)\n",
    "print(\"범주형 변수:\", categorical_columns)"
   ]
  },
  {
   "cell_type": "markdown",
   "metadata": {},
   "source": [
    "좌표 이상치 처리\n"
   ]
  },
  {
   "cell_type": "code",
   "execution_count": 27,
   "metadata": {},
   "outputs": [
    {
     "data": {
      "text/html": [
       "<div>\n",
       "<style scoped>\n",
       "    .dataframe tbody tr th:only-of-type {\n",
       "        vertical-align: middle;\n",
       "    }\n",
       "\n",
       "    .dataframe tbody tr th {\n",
       "        vertical-align: top;\n",
       "    }\n",
       "\n",
       "    .dataframe thead th {\n",
       "        text-align: right;\n",
       "    }\n",
       "</style>\n",
       "<table border=\"1\" class=\"dataframe\">\n",
       "  <thead>\n",
       "    <tr style=\"text-align: right;\">\n",
       "      <th></th>\n",
       "      <th>index</th>\n",
       "      <th>시군구</th>\n",
       "      <th>아파트명</th>\n",
       "      <th>전용면적</th>\n",
       "      <th>계약년월</th>\n",
       "      <th>계약일</th>\n",
       "      <th>층_x</th>\n",
       "      <th>건축년도</th>\n",
       "      <th>도로명</th>\n",
       "      <th>target</th>\n",
       "      <th>...</th>\n",
       "      <th>좌표X</th>\n",
       "      <th>좌표Y</th>\n",
       "      <th>is_test</th>\n",
       "      <th>station_area_0.0</th>\n",
       "      <th>station_area_1.0</th>\n",
       "      <th>실거래가격지수</th>\n",
       "      <th>면적구간</th>\n",
       "      <th>mean_price</th>\n",
       "      <th>최대층수</th>\n",
       "      <th>지하철거리</th>\n",
       "    </tr>\n",
       "  </thead>\n",
       "  <tbody>\n",
       "  </tbody>\n",
       "</table>\n",
       "<p>0 rows × 21 columns</p>\n",
       "</div>"
      ],
      "text/plain": [
       "Empty DataFrame\n",
       "Columns: [index, 시군구, 아파트명, 전용면적, 계약년월, 계약일, 층_x, 건축년도, 도로명, target, 주소, 좌표X, 좌표Y, is_test, station_area_0.0, station_area_1.0, 실거래가격지수, 면적구간, mean_price, 최대층수, 지하철거리]\n",
       "Index: []\n",
       "\n",
       "[0 rows x 21 columns]"
      ]
     },
     "execution_count": 27,
     "metadata": {},
     "output_type": "execute_result"
    }
   ],
   "source": [
    "x_min, y_max = concat_select['좌표X'].min(), concat_select['좌표Y'].max()\n",
    "concat_select['좌표X'] = concat_select['좌표X'].apply(lambda x: y_max if x == x_min else x)\n",
    "concat_select['좌표Y'] = concat_select['좌표Y'].apply(lambda y: x_min if y == y_max else y)\n",
    "concat_select[concat_select['좌표Y'] == y_max]"
   ]
  },
  {
   "cell_type": "code",
   "execution_count": 28,
   "metadata": {},
   "outputs": [],
   "source": [
    "# for var in continuous_columns:\n",
    "#     plt.figure(figsize=(10, 6))\n",
    "#     plt.scatter(concat_select[var], concat_select['target'])\n",
    "#     plt.title(f'Target vs {var}')\n",
    "#     plt.xlabel(var)\n",
    "#     plt.ylabel('Target')\n",
    "#     plt.grid(True)\n",
    "#     plt.show()"
   ]
  },
  {
   "cell_type": "code",
   "execution_count": 29,
   "metadata": {},
   "outputs": [],
   "source": [
    "concat_select['구'] = concat_select['시군구'].map(lambda x : x.split()[1])\n",
    "concat_select['동'] = concat_select['시군구'].map(lambda x : x.split()[2])\n",
    "del concat_select['시군구']\n",
    "\n",
    "concat_select['계약년'] = concat_select['계약년월'].astype('str').map(lambda x : int(x[:4]))\n",
    "concat_select['계약월'] = concat_select['계약년월'].astype('str').map(lambda x : int(x[4:]))\n",
    "del concat_select['계약년월']"
   ]
  },
  {
   "cell_type": "code",
   "execution_count": 30,
   "metadata": {},
   "outputs": [],
   "source": [
    "df = pd.DataFrame()\n",
    "char_to_remove = '동'\n",
    "\n",
    "# 열의 각 문자열에서 'o'가 포함되어 있으면 'o'를 제거하고, 그렇지 않으면 그대로 사용\n",
    "df['test'] = concat_select['동'].apply(lambda x: x.replace(char_to_remove, '') if char_to_remove in x else x)"
   ]
  },
  {
   "cell_type": "code",
   "execution_count": 31,
   "metadata": {},
   "outputs": [],
   "source": [
    "df['아파트'] = concat_select['아파트명']\n",
    "df['test'] = df['test'].astype(str).fillna('')\n",
    "df['아파트'] = df['아파트'].astype(str).fillna('')"
   ]
  },
  {
   "cell_type": "code",
   "execution_count": 32,
   "metadata": {},
   "outputs": [],
   "source": [
    "def remove_patterns_and_test(row):\n",
    "    # 여러 패턴을 정의\n",
    "    patterns = r'~|,|[A-Z]동|\\d+차|\\d+단지|\\d+호|\\d+동|\\d'\n",
    "    # 패턴 제거\n",
    "    text = re.sub(patterns, '', row['아파트'])\n",
    "    # 'test' 열의 문자열과 'test' + '동' 패턴 제거\n",
    "    test_pattern = re.escape(row['test'])\n",
    "    combined_pattern = fr'{test_pattern}동|{test_pattern}'\n",
    "    text = re.sub(combined_pattern, '', text)\n",
    "    return text.strip()\n",
    "df['아파트'] = df.apply(remove_patterns_and_test, axis=1)"
   ]
  },
  {
   "cell_type": "code",
   "execution_count": 33,
   "metadata": {},
   "outputs": [],
   "source": [
    "# 문자 사이에 있는 숫자를 제거하는 함수 정의\n",
    "def remove_digits_between_letters(text):\n",
    "    # 문자 사이의 숫자를 찾아서 제거하는 정규 표현식 패턴\n",
    "    pattern = r'(?<=[가-힣a-zA-Z])\\d+(?=[가-힣a-zA-Z])'\n",
    "    return re.sub(pattern, '', text)\n",
    "\n",
    "# '로' 또는 '길'로 끝나는 패턴을 추출하는 함수 정의\n",
    "def extract_road_name(text):\n",
    "    # '로'로 끝나는 패턴을 먼저 추출\n",
    "    match = re.search(r'.*?로', text)\n",
    "    if not match:\n",
    "        # '로'가 없으면 '길'로 끝나는 패턴을 추출\n",
    "        match = re.search(r'.*?길', text)\n",
    "    return match.group(0) if match else text\n",
    "\n",
    "# '도로명' 열의 문자열을 변환하는 함수 정의\n",
    "def transform_road_name(text):\n",
    "    # 문자 사이의 숫자를 제거\n",
    "    text = remove_digits_between_letters(text)\n",
    "    # '로' 또는 '길'로 끝나는 부분만 남기기\n",
    "    text = extract_road_name(text)\n",
    "    return text\n",
    "\n",
    "# '도로명' 열의 문자열을 변환\n",
    "df['도로명'] = concat_select['도로명'].apply(transform_road_name)"
   ]
  },
  {
   "cell_type": "code",
   "execution_count": 34,
   "metadata": {},
   "outputs": [],
   "source": [
    "concat_select['아파트'] = df['아파트'].astype(str)\n",
    "concat_select['도로'] = df['도로명']\n",
    "concat_select['아파트명'] = concat_select['아파트명'].astype(str)"
   ]
  },
  {
   "cell_type": "code",
   "execution_count": 35,
   "metadata": {},
   "outputs": [
    {
     "data": {
      "text/plain": [
       "count    1.101129e+06\n",
       "mean     1.999099e+03\n",
       "std      9.119692e+00\n",
       "min      1.961000e+03\n",
       "10%      1.987000e+03\n",
       "25%      1.993000e+03\n",
       "50%      2.000000e+03\n",
       "75%      2.005000e+03\n",
       "80%      2.006000e+03\n",
       "90%      2.010000e+03\n",
       "max      2.023000e+03\n",
       "Name: 건축년도, dtype: float64"
      ]
     },
     "metadata": {},
     "output_type": "display_data"
    }
   ],
   "source": [
    "all = list(concat_select['구'].unique())\n",
    "gangnam = ['강서구', '영등포구', '동작구', '서초구', '강남구', '송파구', '강동구']\n",
    "gangbuk = [x for x in all if x not in gangnam]\n",
    "\n",
    "assert len(all) == len(gangnam) + len(gangbuk)       # 알맞게 분리되었는지 체크합니다.\n",
    "\n",
    "# 강남의 여부를 체크합니다.\n",
    "is_gangnam = []\n",
    "for x in concat_select['구'].tolist() :\n",
    "  if x in gangnam :\n",
    "    is_gangnam.append(1)\n",
    "  else :\n",
    "    is_gangnam.append(0)\n",
    "\n",
    "# 파생변수를 하나 만릅니다.\n",
    "concat_select['강남여부'] = is_gangnam\n",
    "\n",
    "\n",
    "display(concat_select['건축년도'].describe(percentiles = [0.1, 0.25, 0.5, 0.75, 0.8, 0.9]))\n",
    "concat_select['신축여부'] = concat_select['건축년도'].apply(lambda x: 1 if x >= 2010 else 0)"
   ]
  },
  {
   "cell_type": "markdown",
   "metadata": {},
   "source": [
    "## 상관분석"
   ]
  },
  {
   "cell_type": "markdown",
   "metadata": {},
   "source": [
    "k-전체동수, k-전체세대수, k-연면적, k-주거전용면적, k-전용면적별세대현황, 주차대수 컬럼들 끼리의 상관계수가 대부분 강하게 나왔습니다. 그 중 주거전용면적이 가장 상관성이 강하게게 나왔습니다.\n",
    "\n",
    "상관계수가 강한 위의 피처들 중, 주거전용면적 컬럼을 제외한 나머지 컬럼을 제거하겠습니다.\n",
    "\n",
    "k-전용면적별세대현황은 '세대 별 평균 전용면적' 컬럼으로 변환하겠습니다."
   ]
  },
  {
   "cell_type": "markdown",
   "metadata": {},
   "source": [
    "## 추가 전처리"
   ]
  },
  {
   "cell_type": "markdown",
   "metadata": {},
   "source": [
    "전용면적이 150이상인 경우 분포가 달라지기때문에 구분하여 모델을 학습하겠습니다."
   ]
  },
  {
   "cell_type": "code",
   "execution_count": 36,
   "metadata": {},
   "outputs": [],
   "source": [
    "# 추후 병합을 위해 인덱스 컬럼 생성\n",
    "# concat_select.reset_index(inplace=True)\n",
    "# concat_select.drop(columns='level_0', inplace=True)"
   ]
  },
  {
   "cell_type": "code",
   "execution_count": 37,
   "metadata": {},
   "outputs": [],
   "source": [
    "concat_select.to_csv('../data/final_data.csv', index=False)"
   ]
  },
  {
   "cell_type": "code",
   "execution_count": 38,
   "metadata": {},
   "outputs": [],
   "source": [
    "import pandas as pd\n",
    "final_df = pd.read_csv('../data/final_data.csv')"
   ]
  },
  {
   "cell_type": "code",
   "execution_count": 39,
   "metadata": {},
   "outputs": [
    {
     "data": {
      "text/plain": [
       "1101129"
      ]
     },
     "execution_count": 39,
     "metadata": {},
     "output_type": "execute_result"
    }
   ],
   "source": [
    "len(final_df)"
   ]
  },
  {
   "cell_type": "code",
   "execution_count": 40,
   "metadata": {},
   "outputs": [
    {
     "name": "stdout",
     "output_type": "stream",
     "text": [
      "노원구\n",
      "(114864, 27)\n"
     ]
    },
    {
     "name": "stderr",
     "output_type": "stream",
     "text": [
      "100%|██████████| 7/7 [00:00<00:00, 55.38it/s]\n"
     ]
    },
    {
     "name": "stdout",
     "output_type": "stream",
     "text": [
      "송파구\n",
      "(72102, 27)\n"
     ]
    },
    {
     "name": "stderr",
     "output_type": "stream",
     "text": [
      "100%|██████████| 7/7 [00:00<00:00, 86.13it/s]\n"
     ]
    },
    {
     "name": "stdout",
     "output_type": "stream",
     "text": [
      "강남구\n",
      "(65941, 27)\n"
     ]
    },
    {
     "name": "stderr",
     "output_type": "stream",
     "text": [
      "100%|██████████| 7/7 [00:00<00:00, 93.28it/s]\n"
     ]
    },
    {
     "name": "stdout",
     "output_type": "stream",
     "text": [
      "강서구\n",
      "(65192, 27)\n"
     ]
    },
    {
     "name": "stderr",
     "output_type": "stream",
     "text": [
      "100%|██████████| 7/7 [00:00<00:00, 98.92it/s]\n"
     ]
    },
    {
     "name": "stdout",
     "output_type": "stream",
     "text": [
      "구로구\n",
      "(57612, 27)\n"
     ]
    },
    {
     "name": "stderr",
     "output_type": "stream",
     "text": [
      "100%|██████████| 7/7 [00:00<00:00, 105.91it/s]\n"
     ]
    },
    {
     "name": "stdout",
     "output_type": "stream",
     "text": [
      "성북구\n",
      "(56733, 27)\n"
     ]
    },
    {
     "name": "stderr",
     "output_type": "stream",
     "text": [
      "100%|██████████| 7/7 [00:00<00:00, 125.24it/s]\n"
     ]
    },
    {
     "name": "stdout",
     "output_type": "stream",
     "text": [
      "양천구\n",
      "(54106, 27)\n"
     ]
    },
    {
     "name": "stderr",
     "output_type": "stream",
     "text": [
      "100%|██████████| 7/7 [00:00<00:00, 124.18it/s]\n"
     ]
    },
    {
     "name": "stdout",
     "output_type": "stream",
     "text": [
      "강동구\n",
      "(53467, 27)\n"
     ]
    },
    {
     "name": "stderr",
     "output_type": "stream",
     "text": [
      "100%|██████████| 7/7 [00:00<00:00, 123.31it/s]\n"
     ]
    },
    {
     "name": "stdout",
     "output_type": "stream",
     "text": [
      "도봉구\n",
      "(52800, 27)\n"
     ]
    },
    {
     "name": "stderr",
     "output_type": "stream",
     "text": [
      "100%|██████████| 7/7 [00:00<00:00, 141.18it/s]\n"
     ]
    },
    {
     "name": "stdout",
     "output_type": "stream",
     "text": [
      "서초구\n",
      "(48159, 27)\n"
     ]
    },
    {
     "name": "stderr",
     "output_type": "stream",
     "text": [
      "100%|██████████| 7/7 [00:00<00:00, 127.57it/s]\n"
     ]
    },
    {
     "name": "stdout",
     "output_type": "stream",
     "text": [
      "영등포구\n",
      "(47738, 27)\n"
     ]
    },
    {
     "name": "stderr",
     "output_type": "stream",
     "text": [
      "100%|██████████| 7/7 [00:00<00:00, 148.31it/s]\n"
     ]
    },
    {
     "name": "stdout",
     "output_type": "stream",
     "text": [
      "마포구\n",
      "(40512, 27)\n"
     ]
    },
    {
     "name": "stderr",
     "output_type": "stream",
     "text": [
      "100%|██████████| 7/7 [00:00<00:00, 39.33it/s]\n"
     ]
    },
    {
     "name": "stdout",
     "output_type": "stream",
     "text": [
      "동작구\n",
      "(40371, 27)\n"
     ]
    },
    {
     "name": "stderr",
     "output_type": "stream",
     "text": [
      "100%|██████████| 7/7 [00:00<00:00, 150.76it/s]\n"
     ]
    },
    {
     "name": "stdout",
     "output_type": "stream",
     "text": [
      "동대문구\n",
      "(39955, 27)\n"
     ]
    },
    {
     "name": "stderr",
     "output_type": "stream",
     "text": [
      "100%|██████████| 7/7 [00:00<00:00, 40.02it/s]\n"
     ]
    },
    {
     "name": "stdout",
     "output_type": "stream",
     "text": [
      "성동구\n",
      "(39654, 27)\n"
     ]
    },
    {
     "name": "stderr",
     "output_type": "stream",
     "text": [
      "100%|██████████| 7/7 [00:00<00:00, 152.96it/s]\n"
     ]
    },
    {
     "name": "stdout",
     "output_type": "stream",
     "text": [
      "은평구\n",
      "(38297, 27)\n"
     ]
    },
    {
     "name": "stderr",
     "output_type": "stream",
     "text": [
      "100%|██████████| 7/7 [00:00<00:00, 120.59it/s]\n"
     ]
    },
    {
     "name": "stdout",
     "output_type": "stream",
     "text": [
      "중랑구\n",
      "(37256, 27)\n"
     ]
    },
    {
     "name": "stderr",
     "output_type": "stream",
     "text": [
      "100%|██████████| 7/7 [00:00<00:00, 67.08it/s]\n"
     ]
    },
    {
     "name": "stdout",
     "output_type": "stream",
     "text": [
      "관악구\n",
      "(36219, 27)\n"
     ]
    },
    {
     "name": "stderr",
     "output_type": "stream",
     "text": [
      "100%|██████████| 7/7 [00:00<00:00, 179.01it/s]\n"
     ]
    },
    {
     "name": "stdout",
     "output_type": "stream",
     "text": [
      "서대문구\n",
      "(33096, 27)\n"
     ]
    },
    {
     "name": "stderr",
     "output_type": "stream",
     "text": [
      "100%|██████████| 7/7 [00:00<00:00, 176.27it/s]\n"
     ]
    },
    {
     "name": "stdout",
     "output_type": "stream",
     "text": [
      "광진구\n",
      "(22221, 27)\n"
     ]
    },
    {
     "name": "stderr",
     "output_type": "stream",
     "text": [
      "100%|██████████| 7/7 [00:00<00:00, 239.27it/s]\n"
     ]
    },
    {
     "name": "stdout",
     "output_type": "stream",
     "text": [
      "강북구\n",
      "(22135, 27)\n"
     ]
    },
    {
     "name": "stderr",
     "output_type": "stream",
     "text": [
      "100%|██████████| 7/7 [00:00<00:00, 265.40it/s]\n"
     ]
    },
    {
     "name": "stdout",
     "output_type": "stream",
     "text": [
      "용산구\n",
      "(20509, 27)\n"
     ]
    },
    {
     "name": "stderr",
     "output_type": "stream",
     "text": [
      "100%|██████████| 7/7 [00:00<00:00, 266.58it/s]\n"
     ]
    },
    {
     "name": "stdout",
     "output_type": "stream",
     "text": [
      "금천구\n",
      "(19655, 27)\n"
     ]
    },
    {
     "name": "stderr",
     "output_type": "stream",
     "text": [
      "100%|██████████| 7/7 [00:00<00:00, 175.31it/s]\n"
     ]
    },
    {
     "name": "stdout",
     "output_type": "stream",
     "text": [
      "중구\n",
      "(13476, 27)\n"
     ]
    },
    {
     "name": "stderr",
     "output_type": "stream",
     "text": [
      "100%|██████████| 7/7 [00:00<00:00, 416.47it/s]\n"
     ]
    },
    {
     "name": "stdout",
     "output_type": "stream",
     "text": [
      "종로구\n",
      "(9059, 27)\n"
     ]
    },
    {
     "name": "stderr",
     "output_type": "stream",
     "text": [
      "100%|██████████| 7/7 [00:00<00:00, 473.00it/s]"
     ]
    },
    {
     "name": "stdout",
     "output_type": "stream",
     "text": [
      "[('노원구', np.float64(2642.379078390326)), ('송파구', np.float64(7486.01094040799)), ('강남구', np.float64(15883.676834038428)), ('강서구', np.float64(3740.0070248740826)), ('구로구', np.float64(3226.992870207448)), ('성북구', np.float64(3438.044666017232)), ('양천구', np.float64(5295.77540503152)), ('강동구', np.float64(4599.2325045707)), ('도봉구', np.float64(2870.0895306151274)), ('서초구', np.float64(13884.056791217792)), ('영등포구', np.float64(5896.81984131567)), ('마포구', np.float64(5754.223388098948)), ('동작구', np.float64(4755.799517164459)), ('동대문구', np.float64(3442.5751995934656)), ('성동구', np.float64(6720.023872222688)), ('은평구', np.float64(4157.915513803742)), ('중랑구', np.float64(2950.1708305290576)), ('관악구', np.float64(3609.2254372352936)), ('서대문구', np.float64(4406.271240289193)), ('광진구', np.float64(7350.850346431317)), ('강북구', np.float64(2775.9317984140307)), ('용산구', np.float64(16184.041606576124)), ('금천구', np.float64(2860.044026992489)), ('중구', np.float64(7576.7534779928155)), ('종로구', np.float64(7674.203456603984))]\n"
     ]
    },
    {
     "name": "stderr",
     "output_type": "stream",
     "text": [
      "\n"
     ]
    }
   ],
   "source": [
    "import pickle\n",
    "\n",
    "def calculate_se(target, pred):\n",
    "    squared_errors = (target - pred) ** 2\n",
    "    return squared_errors\n",
    "\n",
    "output_df = pd.DataFrame()\n",
    "test_score = []\n",
    "for gu in concat_select['구'].value_counts().keys():\n",
    "    print(gu)\n",
    "    concat_select_gu = concat_select[concat_select['구']==gu]\n",
    "    print(concat_select_gu.shape)\n",
    "    dt_train = concat_select_gu.query('is_test==0')\n",
    "    dt_test = concat_select_gu.query('is_test==1')\n",
    "\n",
    "    # 이제 is_test 칼럼은 drop해줍니다.\n",
    "    dt_train.drop(['is_test'], axis = 1, inplace=True)\n",
    "    dt_test.drop(['is_test'], axis = 1, inplace=True)\n",
    "    dt_test['target'] = 0\n",
    "\n",
    "    label_encoders = {}\n",
    "    continuous_columns_v2 = []\n",
    "    categorical_columns_v2 = []\n",
    "\n",
    "    for column in dt_train.columns:\n",
    "        if pd.api.types.is_numeric_dtype(dt_train[column]):\n",
    "            continuous_columns_v2.append(column)\n",
    "        else:\n",
    "            categorical_columns_v2.append(column)\n",
    "\n",
    "    for col in tqdm( categorical_columns_v2 ):\n",
    "        lbl = LabelEncoder()\n",
    "\n",
    "\n",
    "        lbl.fit( dt_train[col].astype(str) )\n",
    "        dt_train[col] = lbl.transform(dt_train[col].astype(str))\n",
    "        label_encoders[col] = lbl\n",
    "\n",
    "        for label in np.unique(dt_test[col]):\n",
    "            if label not in lbl.classes_:\n",
    "                lbl.classes_ = np.append(lbl.classes_, label)\n",
    "\n",
    "        dt_test[col] = lbl.transform(dt_test[col].astype(str))\n",
    "\n",
    "    assert dt_train.shape[1] == dt_test.shape[1]\n",
    "\n",
    "    y_train = dt_train['target']\n",
    "    X_train = dt_train.drop(['target'], axis=1)\n",
    "\n",
    "    X_train, X_val, y_train, y_val = train_test_split(X_train, y_train, test_size=0.2, random_state=2023)\n",
    "\n",
    "    model = RandomForestRegressor(n_estimators=5, criterion='squared_error', random_state=1, n_jobs=-1)\n",
    "    model.fit(X_train.drop(columns=['index']), y_train.drop(columns=['index']))\n",
    "    pred = model.predict(X_val.drop(columns=['index']))\n",
    "\n",
    "    test_score.append((gu, np.sqrt(metrics.mean_squared_error(y_val, pred))))\n",
    "\n",
    "\n",
    "    with open('saved_model.pkl', 'wb') as f:\n",
    "        pickle.dump(model, f)\n",
    "\n",
    "    X_val['target'] = y_val\n",
    "    X_val['pred'] = pred\n",
    "\n",
    "    squared_errors = calculate_se(X_val['target'], X_val['pred'])\n",
    "    X_val['error'] = squared_errors\n",
    "\n",
    "    with open('saved_model.pkl', 'rb') as f:\n",
    "        model = pickle.load(f)\n",
    "\n",
    "    X_test = dt_test.drop(columns=['target', 'index'])\n",
    "\n",
    "    real_test_pred = model.predict(X_test)\n",
    "\n",
    "    preds_df = pd.DataFrame(real_test_pred.astype(int), columns=[\"target\"])\n",
    "\n",
    "    preds_df_gu = pd.concat([dt_test['index'].reset_index(drop=True),preds_df], axis=1)\n",
    "\n",
    "    output_df = pd.concat([output_df, preds_df_gu])\n",
    "\n",
    "output_df.sort_values('index').drop('index', axis=1).to_csv('output.csv', index=False)\n",
    "print(test_score)\n"
   ]
  },
  {
   "cell_type": "code",
   "execution_count": 41,
   "metadata": {},
   "outputs": [
    {
     "data": {
      "text/html": [
       "<div>\n",
       "<style scoped>\n",
       "    .dataframe tbody tr th:only-of-type {\n",
       "        vertical-align: middle;\n",
       "    }\n",
       "\n",
       "    .dataframe tbody tr th {\n",
       "        vertical-align: top;\n",
       "    }\n",
       "\n",
       "    .dataframe thead th {\n",
       "        text-align: right;\n",
       "    }\n",
       "</style>\n",
       "<table border=\"1\" class=\"dataframe\">\n",
       "  <thead>\n",
       "    <tr style=\"text-align: right;\">\n",
       "      <th></th>\n",
       "      <th>gu</th>\n",
       "      <th>score</th>\n",
       "    </tr>\n",
       "  </thead>\n",
       "  <tbody>\n",
       "    <tr>\n",
       "      <th>0</th>\n",
       "      <td>노원구</td>\n",
       "      <td>2642.379078</td>\n",
       "    </tr>\n",
       "    <tr>\n",
       "      <th>1</th>\n",
       "      <td>송파구</td>\n",
       "      <td>7486.010940</td>\n",
       "    </tr>\n",
       "    <tr>\n",
       "      <th>2</th>\n",
       "      <td>강남구</td>\n",
       "      <td>15883.676834</td>\n",
       "    </tr>\n",
       "    <tr>\n",
       "      <th>3</th>\n",
       "      <td>강서구</td>\n",
       "      <td>3740.007025</td>\n",
       "    </tr>\n",
       "    <tr>\n",
       "      <th>4</th>\n",
       "      <td>구로구</td>\n",
       "      <td>3226.992870</td>\n",
       "    </tr>\n",
       "    <tr>\n",
       "      <th>5</th>\n",
       "      <td>성북구</td>\n",
       "      <td>3438.044666</td>\n",
       "    </tr>\n",
       "    <tr>\n",
       "      <th>6</th>\n",
       "      <td>양천구</td>\n",
       "      <td>5295.775405</td>\n",
       "    </tr>\n",
       "    <tr>\n",
       "      <th>7</th>\n",
       "      <td>강동구</td>\n",
       "      <td>4599.232505</td>\n",
       "    </tr>\n",
       "    <tr>\n",
       "      <th>8</th>\n",
       "      <td>도봉구</td>\n",
       "      <td>2870.089531</td>\n",
       "    </tr>\n",
       "    <tr>\n",
       "      <th>9</th>\n",
       "      <td>서초구</td>\n",
       "      <td>13884.056791</td>\n",
       "    </tr>\n",
       "    <tr>\n",
       "      <th>10</th>\n",
       "      <td>영등포구</td>\n",
       "      <td>5896.819841</td>\n",
       "    </tr>\n",
       "    <tr>\n",
       "      <th>11</th>\n",
       "      <td>마포구</td>\n",
       "      <td>5754.223388</td>\n",
       "    </tr>\n",
       "    <tr>\n",
       "      <th>12</th>\n",
       "      <td>동작구</td>\n",
       "      <td>4755.799517</td>\n",
       "    </tr>\n",
       "    <tr>\n",
       "      <th>13</th>\n",
       "      <td>동대문구</td>\n",
       "      <td>3442.575200</td>\n",
       "    </tr>\n",
       "    <tr>\n",
       "      <th>14</th>\n",
       "      <td>성동구</td>\n",
       "      <td>6720.023872</td>\n",
       "    </tr>\n",
       "    <tr>\n",
       "      <th>15</th>\n",
       "      <td>은평구</td>\n",
       "      <td>4157.915514</td>\n",
       "    </tr>\n",
       "    <tr>\n",
       "      <th>16</th>\n",
       "      <td>중랑구</td>\n",
       "      <td>2950.170831</td>\n",
       "    </tr>\n",
       "    <tr>\n",
       "      <th>17</th>\n",
       "      <td>관악구</td>\n",
       "      <td>3609.225437</td>\n",
       "    </tr>\n",
       "    <tr>\n",
       "      <th>18</th>\n",
       "      <td>서대문구</td>\n",
       "      <td>4406.271240</td>\n",
       "    </tr>\n",
       "    <tr>\n",
       "      <th>19</th>\n",
       "      <td>광진구</td>\n",
       "      <td>7350.850346</td>\n",
       "    </tr>\n",
       "    <tr>\n",
       "      <th>20</th>\n",
       "      <td>강북구</td>\n",
       "      <td>2775.931798</td>\n",
       "    </tr>\n",
       "    <tr>\n",
       "      <th>21</th>\n",
       "      <td>용산구</td>\n",
       "      <td>16184.041607</td>\n",
       "    </tr>\n",
       "    <tr>\n",
       "      <th>22</th>\n",
       "      <td>금천구</td>\n",
       "      <td>2860.044027</td>\n",
       "    </tr>\n",
       "    <tr>\n",
       "      <th>23</th>\n",
       "      <td>중구</td>\n",
       "      <td>7576.753478</td>\n",
       "    </tr>\n",
       "    <tr>\n",
       "      <th>24</th>\n",
       "      <td>종로구</td>\n",
       "      <td>7674.203457</td>\n",
       "    </tr>\n",
       "  </tbody>\n",
       "</table>\n",
       "</div>"
      ],
      "text/plain": [
       "      gu         score\n",
       "0    노원구   2642.379078\n",
       "1    송파구   7486.010940\n",
       "2    강남구  15883.676834\n",
       "3    강서구   3740.007025\n",
       "4    구로구   3226.992870\n",
       "5    성북구   3438.044666\n",
       "6    양천구   5295.775405\n",
       "7    강동구   4599.232505\n",
       "8    도봉구   2870.089531\n",
       "9    서초구  13884.056791\n",
       "10  영등포구   5896.819841\n",
       "11   마포구   5754.223388\n",
       "12   동작구   4755.799517\n",
       "13  동대문구   3442.575200\n",
       "14   성동구   6720.023872\n",
       "15   은평구   4157.915514\n",
       "16   중랑구   2950.170831\n",
       "17   관악구   3609.225437\n",
       "18  서대문구   4406.271240\n",
       "19   광진구   7350.850346\n",
       "20   강북구   2775.931798\n",
       "21   용산구  16184.041607\n",
       "22   금천구   2860.044027\n",
       "23    중구   7576.753478\n",
       "24   종로구   7674.203457"
      ]
     },
     "execution_count": 41,
     "metadata": {},
     "output_type": "execute_result"
    }
   ],
   "source": [
    "pd.DataFrame(test_score, columns=['gu', 'score'])"
   ]
  },
  {
   "cell_type": "code",
   "execution_count": 42,
   "metadata": {},
   "outputs": [
    {
     "ename": "NameError",
     "evalue": "name '브레이크' is not defined",
     "output_type": "error",
     "traceback": [
      "\u001b[0;31m---------------------------------------------------------------------------\u001b[0m",
      "\u001b[0;31mNameError\u001b[0m                                 Traceback (most recent call last)",
      "Cell \u001b[0;32mIn[42], line 1\u001b[0m\n\u001b[0;32m----> 1\u001b[0m \u001b[43m브레이크\u001b[49m\n",
      "\u001b[0;31mNameError\u001b[0m: name '브레이크' is not defined"
     ]
    }
   ],
   "source": [
    "브레이크"
   ]
  },
  {
   "cell_type": "markdown",
   "metadata": {},
   "source": [
    "전용면적 150이하인 데이터로 학습시키겠습니다."
   ]
  },
  {
   "cell_type": "code",
   "execution_count": null,
   "metadata": {},
   "outputs": [
    {
     "data": {
      "text/html": [
       "<div>\n",
       "<style scoped>\n",
       "    .dataframe tbody tr th:only-of-type {\n",
       "        vertical-align: middle;\n",
       "    }\n",
       "\n",
       "    .dataframe tbody tr th {\n",
       "        vertical-align: top;\n",
       "    }\n",
       "\n",
       "    .dataframe thead th {\n",
       "        text-align: right;\n",
       "    }\n",
       "</style>\n",
       "<table border=\"1\" class=\"dataframe\">\n",
       "  <thead>\n",
       "    <tr style=\"text-align: right;\">\n",
       "      <th></th>\n",
       "      <th>target</th>\n",
       "    </tr>\n",
       "  </thead>\n",
       "  <tbody>\n",
       "    <tr>\n",
       "      <th>0</th>\n",
       "      <td>203020</td>\n",
       "    </tr>\n",
       "    <tr>\n",
       "      <th>1</th>\n",
       "      <td>122492</td>\n",
       "    </tr>\n",
       "    <tr>\n",
       "      <th>2</th>\n",
       "      <td>158200</td>\n",
       "    </tr>\n",
       "    <tr>\n",
       "      <th>3</th>\n",
       "      <td>111900</td>\n",
       "    </tr>\n",
       "    <tr>\n",
       "      <th>4</th>\n",
       "      <td>202400</td>\n",
       "    </tr>\n",
       "    <tr>\n",
       "      <th>...</th>\n",
       "      <td>...</td>\n",
       "    </tr>\n",
       "    <tr>\n",
       "      <th>733</th>\n",
       "      <td>47600</td>\n",
       "    </tr>\n",
       "    <tr>\n",
       "      <th>734</th>\n",
       "      <td>44300</td>\n",
       "    </tr>\n",
       "    <tr>\n",
       "      <th>735</th>\n",
       "      <td>47600</td>\n",
       "    </tr>\n",
       "    <tr>\n",
       "      <th>736</th>\n",
       "      <td>98880</td>\n",
       "    </tr>\n",
       "    <tr>\n",
       "      <th>737</th>\n",
       "      <td>67060</td>\n",
       "    </tr>\n",
       "  </tbody>\n",
       "</table>\n",
       "<p>9272 rows × 1 columns</p>\n",
       "</div>"
      ],
      "text/plain": [
       "     target\n",
       "0    203020\n",
       "1    122492\n",
       "2    158200\n",
       "3    111900\n",
       "4    202400\n",
       "..      ...\n",
       "733   47600\n",
       "734   44300\n",
       "735   47600\n",
       "736   98880\n",
       "737   67060\n",
       "\n",
       "[9272 rows x 1 columns]"
      ]
     },
     "execution_count": 917,
     "metadata": {},
     "output_type": "execute_result"
    }
   ],
   "source": [
    "output_df"
   ]
  },
  {
   "cell_type": "code",
   "execution_count": null,
   "metadata": {},
   "outputs": [],
   "source": [
    "dt_test['target'] = 0"
   ]
  },
  {
   "cell_type": "code",
   "execution_count": null,
   "metadata": {},
   "outputs": [
    {
     "name": "stdout",
     "output_type": "stream",
     "text": [
      "연속형 변수: ['index', '전용면적', '계약일', '층', '건축년도', 'target', '좌표X', '좌표Y', 'station_area', '실거래가격지수', '면적구간', 'mean_price', '계약년', '계약월', '강남여부', '신축여부']\n",
      "범주형 변수: ['아파트명', '도로명', '주소', '구', '동', '아파트', '도로']\n"
     ]
    }
   ],
   "source": [
    "# 파생변수 제작으로 추가된 변수들이 존재하기에, 다시한번 연속형과 범주형 칼럼을 분리해주겠습니다.\n",
    "continuous_columns_v2 = []\n",
    "categorical_columns_v2 = []\n",
    "\n",
    "for column in dt_train.columns:\n",
    "    if pd.api.types.is_numeric_dtype(dt_train[column]):\n",
    "        continuous_columns_v2.append(column)\n",
    "    else:\n",
    "        categorical_columns_v2.append(column)\n",
    "\n",
    "print(\"연속형 변수:\", continuous_columns_v2)\n",
    "print(\"범주형 변수:\", categorical_columns_v2)"
   ]
  },
  {
   "cell_type": "code",
   "execution_count": null,
   "metadata": {},
   "outputs": [
    {
     "name": "stderr",
     "output_type": "stream",
     "text": [
      "100%|██████████| 7/7 [00:00<00:00, 28.79it/s]\n"
     ]
    }
   ],
   "source": [
    "# 아래에서 범주형 변수들을 대상으로 레이블인코딩을 진행해 주겠습니다.\n",
    "\n",
    "# 각 변수에 대한 LabelEncoder를 저장할 딕셔너리\n",
    "label_encoders = {}\n",
    "\n",
    "# Implement Label Encoding\n",
    "for col in tqdm( categorical_columns_v2 ):\n",
    "    lbl = LabelEncoder()\n",
    "\n",
    "    # Label-Encoding을 fit\n",
    "    lbl.fit( dt_train[col].astype(str) )\n",
    "    dt_train[col] = lbl.transform(dt_train[col].astype(str))\n",
    "    label_encoders[col] = lbl           # 나중에 후처리를 위해 레이블인코더를 저장해주겠습니다.\n",
    "\n",
    "    # Test 데이터에만 존재하는 새로 출현한 데이터를 신규 클래스로 추가해줍니다.\n",
    "    for label in np.unique(dt_test[col]):\n",
    "      if label not in lbl.classes_: # unseen label 데이터인 경우\n",
    "        lbl.classes_ = np.append(lbl.classes_, label) # 미처리 시 ValueError발생하니 주의하세요!\n",
    "\n",
    "    dt_test[col] = lbl.transform(dt_test[col].astype(str))\n",
    "  \n",
    "  "
   ]
  },
  {
   "cell_type": "code",
   "execution_count": null,
   "metadata": {},
   "outputs": [],
   "source": [
    "assert dt_train.shape[1] == dt_test.shape[1]"
   ]
  },
  {
   "cell_type": "code",
   "execution_count": null,
   "metadata": {},
   "outputs": [],
   "source": [
    "# Target과 독립변수들을 분리해줍니다.\n",
    "y_train = dt_train['target']\n",
    "X_train = dt_train.drop(['target'], axis=1)\n",
    "\n",
    "# Hold out split을 사용해 학습 데이터와 검증 데이터를 8:2 비율로 나누겠습니다.\n",
    "X_train, X_val, y_train, y_val = train_test_split(X_train, y_train, test_size=0.2, random_state=2023)"
   ]
  },
  {
   "cell_type": "code",
   "execution_count": null,
   "metadata": {},
   "outputs": [],
   "source": [
    "# RandomForestRegressor를 이용해 회귀 모델을 적합시키겠습니다.\n",
    "model = RandomForestRegressor(n_estimators=5, criterion='squared_error', random_state=1, n_jobs=-1)\n",
    "model.fit(X_train.drop(columns=['index']), y_train.drop(columns=['index']))\n",
    "pred = model.predict(X_val.drop(columns=['index']))"
   ]
  },
  {
   "cell_type": "code",
   "execution_count": null,
   "metadata": {},
   "outputs": [
    {
     "name": "stdout",
     "output_type": "stream",
     "text": [
      "RMSE test: 14151.11921739929\n"
     ]
    }
   ],
   "source": [
    "# 회귀 관련 metric을 통해 train/valid의 모델 적합 결과를 관찰합니다.\n",
    "print(f'RMSE test: {np.sqrt(metrics.mean_squared_error(y_val, pred))}')"
   ]
  },
  {
   "cell_type": "code",
   "execution_count": null,
   "metadata": {},
   "outputs": [
    {
     "data": {
      "image/png": "[encoded data removed]",
      "text/plain": [
       "<Figure size 1000x800 with 1 Axes>"
      ]
     },
     "metadata": {},
     "output_type": "display_data"
    }
   ],
   "source": [
    "# 위 feature importance를 시각화해봅니다.\n",
    "importances = pd.Series(model.feature_importances_, index=list(X_train.columns[1:]))\n",
    "importances = importances.sort_values(ascending=False)\n",
    "\n",
    "plt.figure(figsize=(10,8))\n",
    "plt.title(\"Feature Importances\")\n",
    "sns.barplot(x=importances, y=importances.index)\n",
    "plt.show()"
   ]
  },
  {
   "cell_type": "code",
   "execution_count": null,
   "metadata": {},
   "outputs": [],
   "source": [
    "import pickle\n",
    "\n",
    "# 학습된 모델을 저장합니다. Pickle 라이브러리를 이용하겠습니다.\n",
    "with open('saved_model.pkl', 'wb') as f:\n",
    "    pickle.dump(model, f)"
   ]
  },
  {
   "cell_type": "code",
   "execution_count": null,
   "metadata": {},
   "outputs": [],
   "source": [
    "# Validation dataset에 target과 pred 값을 채워주도록 하겠습니다.\n",
    "X_val['target'] = y_val\n",
    "X_val['pred'] = pred"
   ]
  },
  {
   "cell_type": "code",
   "execution_count": null,
   "metadata": {},
   "outputs": [],
   "source": [
    "# Squared_error를 계산하는 함수를 정의하겠습니다.\n",
    "\n",
    "\n",
    "def calculate_se(target, pred):\n",
    "    squared_errors = (target - pred) ** 2\n",
    "    return squared_errors\n",
    "\n",
    "# RMSE 계산\n",
    "squared_errors = calculate_se(X_val['target'], X_val['pred'])\n",
    "X_val['error'] = squared_errors"
   ]
  },
  {
   "cell_type": "code",
   "execution_count": null,
   "metadata": {},
   "outputs": [],
   "source": [
    "# Error가 큰 순서대로 sorting 해 보겠습니다.\n",
    "X_val_sort = X_val.sort_values(by='error', ascending=False)       # 내림차순 sorting"
   ]
  },
  {
   "cell_type": "code",
   "execution_count": null,
   "metadata": {},
   "outputs": [
    {
     "data": {
      "text/html": [
       "<div>\n",
       "<style scoped>\n",
       "    .dataframe tbody tr th:only-of-type {\n",
       "        vertical-align: middle;\n",
       "    }\n",
       "\n",
       "    .dataframe tbody tr th {\n",
       "        vertical-align: top;\n",
       "    }\n",
       "\n",
       "    .dataframe thead th {\n",
       "        text-align: right;\n",
       "    }\n",
       "</style>\n",
       "<table border=\"1\" class=\"dataframe\">\n",
       "  <thead>\n",
       "    <tr style=\"text-align: right;\">\n",
       "      <th></th>\n",
       "      <th>index</th>\n",
       "      <th>아파트명</th>\n",
       "      <th>전용면적</th>\n",
       "      <th>계약일</th>\n",
       "      <th>층</th>\n",
       "      <th>건축년도</th>\n",
       "      <th>도로명</th>\n",
       "      <th>주소</th>\n",
       "      <th>좌표X</th>\n",
       "      <th>좌표Y</th>\n",
       "      <th>...</th>\n",
       "      <th>동</th>\n",
       "      <th>계약년</th>\n",
       "      <th>계약월</th>\n",
       "      <th>아파트</th>\n",
       "      <th>도로</th>\n",
       "      <th>강남여부</th>\n",
       "      <th>신축여부</th>\n",
       "      <th>target</th>\n",
       "      <th>pred</th>\n",
       "      <th>error</th>\n",
       "    </tr>\n",
       "  </thead>\n",
       "  <tbody>\n",
       "    <tr>\n",
       "      <th>704104</th>\n",
       "      <td>704104</td>\n",
       "      <td>1563</td>\n",
       "      <td>273.860</td>\n",
       "      <td>7</td>\n",
       "      <td>5</td>\n",
       "      <td>2002</td>\n",
       "      <td>568</td>\n",
       "      <td>1087</td>\n",
       "      <td>127.002858</td>\n",
       "      <td>37.486201</td>\n",
       "      <td>...</td>\n",
       "      <td>22</td>\n",
       "      <td>2015</td>\n",
       "      <td>1</td>\n",
       "      <td>1134</td>\n",
       "      <td>28</td>\n",
       "      <td>1</td>\n",
       "      <td>0</td>\n",
       "      <td>490000.0</td>\n",
       "      <td>220984.2</td>\n",
       "      <td>7.236950e+10</td>\n",
       "    </tr>\n",
       "    <tr>\n",
       "      <th>282075</th>\n",
       "      <td>282075</td>\n",
       "      <td>488</td>\n",
       "      <td>227.370</td>\n",
       "      <td>25</td>\n",
       "      <td>2</td>\n",
       "      <td>2019</td>\n",
       "      <td>2002</td>\n",
       "      <td>2100</td>\n",
       "      <td>127.009903</td>\n",
       "      <td>37.531551</td>\n",
       "      <td>...</td>\n",
       "      <td>61</td>\n",
       "      <td>2021</td>\n",
       "      <td>5</td>\n",
       "      <td>424</td>\n",
       "      <td>100</td>\n",
       "      <td>0</td>\n",
       "      <td>1</td>\n",
       "      <td>400000.0</td>\n",
       "      <td>667600.0</td>\n",
       "      <td>7.160976e+10</td>\n",
       "    </tr>\n",
       "    <tr>\n",
       "      <th>439433</th>\n",
       "      <td>439433</td>\n",
       "      <td>844</td>\n",
       "      <td>196.420</td>\n",
       "      <td>13</td>\n",
       "      <td>16</td>\n",
       "      <td>2009</td>\n",
       "      <td>1384</td>\n",
       "      <td>639</td>\n",
       "      <td>127.053405</td>\n",
       "      <td>37.525317</td>\n",
       "      <td>...</td>\n",
       "      <td>53</td>\n",
       "      <td>2017</td>\n",
       "      <td>7</td>\n",
       "      <td>613</td>\n",
       "      <td>63</td>\n",
       "      <td>1</td>\n",
       "      <td>0</td>\n",
       "      <td>440000.0</td>\n",
       "      <td>706200.0</td>\n",
       "      <td>7.086244e+10</td>\n",
       "    </tr>\n",
       "    <tr>\n",
       "      <th>218039</th>\n",
       "      <td>218039</td>\n",
       "      <td>1157</td>\n",
       "      <td>195.388</td>\n",
       "      <td>25</td>\n",
       "      <td>3</td>\n",
       "      <td>2004</td>\n",
       "      <td>1523</td>\n",
       "      <td>313</td>\n",
       "      <td>127.059549</td>\n",
       "      <td>37.518398</td>\n",
       "      <td>...</td>\n",
       "      <td>19</td>\n",
       "      <td>2021</td>\n",
       "      <td>12</td>\n",
       "      <td>806</td>\n",
       "      <td>70</td>\n",
       "      <td>1</td>\n",
       "      <td>0</td>\n",
       "      <td>700000.0</td>\n",
       "      <td>450400.0</td>\n",
       "      <td>6.230016e+10</td>\n",
       "    </tr>\n",
       "    <tr>\n",
       "      <th>197729</th>\n",
       "      <td>197729</td>\n",
       "      <td>843</td>\n",
       "      <td>244.320</td>\n",
       "      <td>18</td>\n",
       "      <td>5</td>\n",
       "      <td>2006</td>\n",
       "      <td>1386</td>\n",
       "      <td>641</td>\n",
       "      <td>127.054290</td>\n",
       "      <td>37.526479</td>\n",
       "      <td>...</td>\n",
       "      <td>53</td>\n",
       "      <td>2023</td>\n",
       "      <td>3</td>\n",
       "      <td>613</td>\n",
       "      <td>63</td>\n",
       "      <td>1</td>\n",
       "      <td>0</td>\n",
       "      <td>821000.0</td>\n",
       "      <td>572000.0</td>\n",
       "      <td>6.200100e+10</td>\n",
       "    </tr>\n",
       "  </tbody>\n",
       "</table>\n",
       "<p>5 rows × 25 columns</p>\n",
       "</div>"
      ],
      "text/plain": [
       "         index  아파트명     전용면적  계약일   층  건축년도   도로명    주소         좌표X  \\\n",
       "704104  704104  1563  273.860    7   5  2002   568  1087  127.002858   \n",
       "282075  282075   488  227.370   25   2  2019  2002  2100  127.009903   \n",
       "439433  439433   844  196.420   13  16  2009  1384   639  127.053405   \n",
       "218039  218039  1157  195.388   25   3  2004  1523   313  127.059549   \n",
       "197729  197729   843  244.320   18   5  2006  1386   641  127.054290   \n",
       "\n",
       "              좌표Y  ...   동   계약년  계약월   아파트   도로  강남여부  신축여부    target  \\\n",
       "704104  37.486201  ...  22  2015    1  1134   28     1     0  490000.0   \n",
       "282075  37.531551  ...  61  2021    5   424  100     0     1  400000.0   \n",
       "439433  37.525317  ...  53  2017    7   613   63     1     0  440000.0   \n",
       "218039  37.518398  ...  19  2021   12   806   70     1     0  700000.0   \n",
       "197729  37.526479  ...  53  2023    3   613   63     1     0  821000.0   \n",
       "\n",
       "            pred         error  \n",
       "704104  220984.2  7.236950e+10  \n",
       "282075  667600.0  7.160976e+10  \n",
       "439433  706200.0  7.086244e+10  \n",
       "218039  450400.0  6.230016e+10  \n",
       "197729  572000.0  6.200100e+10  \n",
       "\n",
       "[5 rows x 25 columns]"
      ]
     },
     "execution_count": 887,
     "metadata": {},
     "output_type": "execute_result"
    }
   ],
   "source": [
    "X_val_sort.head()"
   ]
  },
  {
   "cell_type": "code",
   "execution_count": null,
   "metadata": {},
   "outputs": [],
   "source": [
    "X_val_sort_top100 = X_val.sort_values(by='error', ascending=False).head(1000)        # 예측을 잘 하지못한 top 100개의 data\n",
    "X_val_sort_tail100 = X_val.sort_values(by='error', ascending=False).tail(1000)       # 예측을 잘한 top 100개의 data"
   ]
  },
  {
   "cell_type": "code",
   "execution_count": null,
   "metadata": {},
   "outputs": [],
   "source": [
    "# 해석을 위해 레이블인코딩 된 변수를 복원해줍니다.\n",
    "error_top100 = X_val_sort_top100.copy()\n",
    "for column in categorical_columns_v2 :     # 앞서 레이블 인코딩에서 정의했던 categorical_columns_v2 범주형 변수 리스트를 사용합니다.\n",
    "    error_top100[column] = label_encoders[column].inverse_transform(X_val_sort_top100[column])\n",
    "\n",
    "best_top100 = X_val_sort_tail100.copy()\n",
    "for column in categorical_columns_v2 :     # 앞서 레이블 인코딩에서 정의했던 categorical_columns_v2 범주형 변수 리스트를 사용합니다.\n",
    "    best_top100[column] = label_encoders[column].inverse_transform(X_val_sort_tail100[column])"
   ]
  },
  {
   "cell_type": "code",
   "execution_count": null,
   "metadata": {},
   "outputs": [
    {
     "data": {
      "text/html": [
       "<div>\n",
       "<style scoped>\n",
       "    .dataframe tbody tr th:only-of-type {\n",
       "        vertical-align: middle;\n",
       "    }\n",
       "\n",
       "    .dataframe tbody tr th {\n",
       "        vertical-align: top;\n",
       "    }\n",
       "\n",
       "    .dataframe thead th {\n",
       "        text-align: right;\n",
       "    }\n",
       "</style>\n",
       "<table border=\"1\" class=\"dataframe\">\n",
       "  <thead>\n",
       "    <tr style=\"text-align: right;\">\n",
       "      <th></th>\n",
       "      <th>index</th>\n",
       "      <th>아파트명</th>\n",
       "      <th>전용면적</th>\n",
       "      <th>계약일</th>\n",
       "      <th>층</th>\n",
       "      <th>건축년도</th>\n",
       "      <th>도로명</th>\n",
       "      <th>주소</th>\n",
       "      <th>좌표X</th>\n",
       "      <th>좌표Y</th>\n",
       "      <th>...</th>\n",
       "      <th>동</th>\n",
       "      <th>계약년</th>\n",
       "      <th>계약월</th>\n",
       "      <th>아파트</th>\n",
       "      <th>도로</th>\n",
       "      <th>강남여부</th>\n",
       "      <th>신축여부</th>\n",
       "      <th>target</th>\n",
       "      <th>pred</th>\n",
       "      <th>error</th>\n",
       "    </tr>\n",
       "  </thead>\n",
       "  <tbody>\n",
       "    <tr>\n",
       "      <th>704104</th>\n",
       "      <td>704104</td>\n",
       "      <td>트라움하우스3</td>\n",
       "      <td>273.86</td>\n",
       "      <td>7</td>\n",
       "      <td>5</td>\n",
       "      <td>2002</td>\n",
       "      <td>명달로 97-14</td>\n",
       "      <td>서울특별시 서초구 서초동명달로 97-14</td>\n",
       "      <td>127.002858</td>\n",
       "      <td>37.486201</td>\n",
       "      <td>...</td>\n",
       "      <td>서초동</td>\n",
       "      <td>2015</td>\n",
       "      <td>1</td>\n",
       "      <td>트라움하우스</td>\n",
       "      <td>명달로</td>\n",
       "      <td>1</td>\n",
       "      <td>0</td>\n",
       "      <td>490000.0</td>\n",
       "      <td>220984.2</td>\n",
       "      <td>7.236950e+10</td>\n",
       "    </tr>\n",
       "  </tbody>\n",
       "</table>\n",
       "<p>1 rows × 25 columns</p>\n",
       "</div>"
      ],
      "text/plain": [
       "         index     아파트명    전용면적  계약일  층  건축년도        도로명  \\\n",
       "704104  704104  트라움하우스3  273.86    7  5  2002  명달로 97-14   \n",
       "\n",
       "                            주소         좌표X        좌표Y  ...    동   계약년  계약월  \\\n",
       "704104  서울특별시 서초구 서초동명달로 97-14  127.002858  37.486201  ...  서초동  2015    1   \n",
       "\n",
       "           아파트   도로 강남여부  신축여부    target      pred         error  \n",
       "704104  트라움하우스  명달로    1     0  490000.0  220984.2  7.236950e+10  \n",
       "\n",
       "[1 rows x 25 columns]"
      ]
     },
     "metadata": {},
     "output_type": "display_data"
    },
    {
     "data": {
      "text/html": [
       "<div>\n",
       "<style scoped>\n",
       "    .dataframe tbody tr th:only-of-type {\n",
       "        vertical-align: middle;\n",
       "    }\n",
       "\n",
       "    .dataframe tbody tr th {\n",
       "        vertical-align: top;\n",
       "    }\n",
       "\n",
       "    .dataframe thead th {\n",
       "        text-align: right;\n",
       "    }\n",
       "</style>\n",
       "<table border=\"1\" class=\"dataframe\">\n",
       "  <thead>\n",
       "    <tr style=\"text-align: right;\">\n",
       "      <th></th>\n",
       "      <th>index</th>\n",
       "      <th>아파트명</th>\n",
       "      <th>전용면적</th>\n",
       "      <th>계약일</th>\n",
       "      <th>층</th>\n",
       "      <th>건축년도</th>\n",
       "      <th>도로명</th>\n",
       "      <th>주소</th>\n",
       "      <th>좌표X</th>\n",
       "      <th>좌표Y</th>\n",
       "      <th>...</th>\n",
       "      <th>동</th>\n",
       "      <th>계약년</th>\n",
       "      <th>계약월</th>\n",
       "      <th>아파트</th>\n",
       "      <th>도로</th>\n",
       "      <th>강남여부</th>\n",
       "      <th>신축여부</th>\n",
       "      <th>target</th>\n",
       "      <th>pred</th>\n",
       "      <th>error</th>\n",
       "    </tr>\n",
       "  </thead>\n",
       "  <tbody>\n",
       "    <tr>\n",
       "      <th>3210</th>\n",
       "      <td>3210</td>\n",
       "      <td>까치마을</td>\n",
       "      <td>39.6</td>\n",
       "      <td>28</td>\n",
       "      <td>12</td>\n",
       "      <td>1993</td>\n",
       "      <td>광평로19길 10</td>\n",
       "      <td>서울특별시 강남구 수서동광평로19길 10</td>\n",
       "      <td>127.086602</td>\n",
       "      <td>37.485485</td>\n",
       "      <td>...</td>\n",
       "      <td>수서동</td>\n",
       "      <td>2018</td>\n",
       "      <td>8</td>\n",
       "      <td>까치마을</td>\n",
       "      <td>광평로</td>\n",
       "      <td>1</td>\n",
       "      <td>0</td>\n",
       "      <td>80000.0</td>\n",
       "      <td>80100.0</td>\n",
       "      <td>10000.0</td>\n",
       "    </tr>\n",
       "  </tbody>\n",
       "</table>\n",
       "<p>1 rows × 25 columns</p>\n",
       "</div>"
      ],
      "text/plain": [
       "      index  아파트명  전용면적  계약일   층  건축년도        도로명                      주소  \\\n",
       "3210   3210  까치마을  39.6   28  12  1993  광평로19길 10  서울특별시 강남구 수서동광평로19길 10   \n",
       "\n",
       "             좌표X        좌표Y  ...    동   계약년  계약월   아파트   도로 강남여부  신축여부  \\\n",
       "3210  127.086602  37.485485  ...  수서동  2018    8  까치마을  광평로    1     0   \n",
       "\n",
       "       target     pred    error  \n",
       "3210  80000.0  80100.0  10000.0  \n",
       "\n",
       "[1 rows x 25 columns]"
      ]
     },
     "metadata": {},
     "output_type": "display_data"
    }
   ],
   "source": [
    "display(error_top100.head(1))\n",
    "display(best_top100.head(1))"
   ]
  },
  {
   "cell_type": "code",
   "execution_count": null,
   "metadata": {},
   "outputs": [
    {
     "data": {
      "image/png": "[encoded data removed]",
      "text/plain": [
       "<Figure size 1000x600 with 1 Axes>"
      ]
     },
     "metadata": {},
     "output_type": "display_data"
    },
    {
     "data": {
      "image/png": "[encoded data removed]",
      "text/plain": [
       "<Figure size 640x480 with 1 Axes>"
      ]
     },
     "metadata": {},
     "output_type": "display_data"
    }
   ],
   "source": [
    "plt.figure(figsize=(10, 6))\n",
    "sns.histplot(data = error_top100, x='구')\n",
    "plt.title('The worst top100 prediction의 target 분포')\n",
    "plt.show()\n",
    "\n",
    "sns.histplot(data = best_top100, x='구', color='orange')\n",
    "plt.title('The best top100 prediction의 target 분포')\n",
    "plt.show()"
   ]
  },
  {
   "cell_type": "code",
   "execution_count": null,
   "metadata": {},
   "outputs": [
    {
     "data": {
      "image/png": "[encoded data removed]",
      "text/plain": [
       "<Figure size 640x480 with 1 Axes>"
      ]
     },
     "metadata": {},
     "output_type": "display_data"
    }
   ],
   "source": [
    "sns.histplot(data = error_top100, x='전용면적', alpha=0.5)\n",
    "sns.histplot(data = best_top100, x='전용면적', color='orange', alpha=0.5)\n",
    "plt.title('전용면적 분포 비교')\n",
    "plt.show()"
   ]
  },
  {
   "cell_type": "code",
   "execution_count": null,
   "metadata": {},
   "outputs": [],
   "source": [
    "# 저장된 모델을 불러옵니다.\n",
    "with open('saved_model.pkl', 'rb') as f:\n",
    "    model = pickle.load(f)"
   ]
  },
  {
   "cell_type": "code",
   "execution_count": null,
   "metadata": {},
   "outputs": [
    {
     "name": "stdout",
     "output_type": "stream",
     "text": [
      "CPU times: user 5.15 ms, sys: 4.96 ms, total: 10.1 ms\n",
      "Wall time: 19 ms\n"
     ]
    }
   ],
   "source": [
    "with open('saved_model.pkl', 'rb') as f:\n",
    "    model = pickle.load(f)\n",
    "\n",
    "X_test = dt_test.drop(columns=['target', 'index'])\n",
    "\n",
    "# Test dataset에 대한 inference를 진행합니다.\n",
    "real_test_pred = model.predict(X_test)\n",
    "\n",
    "preds_df = pd.DataFrame(real_test_pred.astype(int), columns=[\"target\"])\n",
    "\n",
    "preds_df_gu = pd.concat([dt_test['index'].reset_index(drop=True),preds_df], axis=1)\n",
    "\n",
    "output_df = pd.concat([output_df, preds_df_gu]).sort_values('index').drop('index', axis=1)\n",
    "\n",
    "output_df.to_csv('output.csv', index=False)\n"
   ]
  },
  {
   "cell_type": "code",
   "execution_count": null,
   "metadata": {},
   "outputs": [
    {
     "data": {
      "text/plain": [
       "array([188100., 302000., 289600., ..., 121600., 121100., 124800.])"
      ]
     },
     "execution_count": 895,
     "metadata": {},
     "output_type": "execute_result"
    }
   ],
   "source": [
    "real_test_pred"
   ]
  },
  {
   "cell_type": "code",
   "execution_count": null,
   "metadata": {},
   "outputs": [],
   "source": [
    "# 앞서 예측한 예측값들을 저장합니다.\n",
    "preds_df = pd.DataFrame(real_test_pred.astype(int), columns=[\"target\"])\n",
    "# preds_df.to_csv('output.csv', index=False)"
   ]
  },
  {
   "cell_type": "code",
   "execution_count": null,
   "metadata": {},
   "outputs": [],
   "source": [
    "preds_df_gu = pd.concat([dt_test['index'].reset_index(drop=True),preds_df], axis=1)"
   ]
  },
  {
   "cell_type": "code",
   "execution_count": null,
   "metadata": {},
   "outputs": [],
   "source": [
    "pd.concat([output_df, preds_df_gu]).sort_values('index').drop('index', axis=1).to_csv('output.csv', index=False)"
   ]
  },
  {
   "cell_type": "markdown",
   "metadata": {},
   "source": [
    "상관분석"
   ]
  },
  {
   "cell_type": "code",
   "execution_count": null,
   "metadata": {},
   "outputs": [],
   "source": [
    "# # 상관분석을 위해서 결측치는 제거하겠습니다.\n",
    "# # del concat['k-135㎡초과']\n",
    "# concat_dropna = concat_select.dropna()\n",
    "# concat_dropna.shape\n",
    "\n",
    "# # 아래에서 범주형 변수들을 대상으로 레이블인코딩을 진행해 주겠습니다.\n",
    "\n",
    "# # 각 변수에 대한 LabelEncoder를 저장할 딕셔너리\n",
    "# from sklearn.preprocessing import LabelEncoder\n",
    "# from tqdm import tqdm\n",
    "# import numpy as np\n",
    "# label_encoders = {}\n",
    "\n",
    "# # Implement Label Encoding\n",
    "# for col in tqdm( continuous_columns_v2 ):\n",
    "#     lbl = LabelEncoder()\n",
    "\n",
    "#     # Label-Encoding을 fit\n",
    "#     lbl.fit( concat_dropna[col].astype(str) )\n",
    "#     concat_dropna[col] = lbl.transform(concat_dropna.loc[:, col].astype(str))\n",
    "#     label_encoders[col] = lbl           # 나중에 후처리를 위해 레이블인코더를 저장해주겠습니다.\n",
    "\n",
    "# plt.rcParams['font.family'] ='AppleGothic'\n",
    "# plt.rcParams['axes.unicode_minus'] =False\n",
    "\n",
    "# # 컬럼별 상관계수 계산\n",
    "# correlation_matrix = concat_dropna[concat_dropna.select_dtypes(exclude=['object']).columns.tolist()].corr()\n",
    "\n",
    "# # 히트맵 시각화\n",
    "# plt.figure(figsize=(20, 16))\n",
    "# sns.heatmap(correlation_matrix, annot=True, cmap='coolwarm', linewidths=0.5, fmt=\".1f\")\n",
    "# plt.title('Correlation Matrix Heatmap')\n",
    "# plt.show()"
   ]
  }
 ],
 "metadata": {
  "kernelspec": {
   "display_name": "ailab-regression",
   "language": "python",
   "name": "python3"
  },
  "language_info": {
   "codemirror_mode": {
    "name": "ipython",
    "version": 3
   },
   "file_extension": ".py",
   "mimetype": "text/x-python",
   "name": "python",
   "nbconvert_exporter": "python",
   "pygments_lexer": "ipython3",
   "version": "3.12.4"
  }
 },
 "nbformat": 4,
 "nbformat_minor": 2
}
